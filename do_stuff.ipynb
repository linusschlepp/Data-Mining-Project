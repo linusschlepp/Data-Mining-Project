{
 "cells": [
  {
   "cell_type": "code",
   "execution_count": 1,
   "outputs": [],
   "source": [
    "from main import data, pd, plt, train_test_split, GaussianNB, accuracy_score, DecisionTreeClassifier, export_text, plot_tree, sns\n",
    "import constants\n",
    "import utils"
   ],
   "metadata": {
    "collapsed": false
   }
  },
  {
   "cell_type": "code",
   "execution_count": null,
   "outputs": [],
   "source": [
    "data"
   ],
   "metadata": {
    "collapsed": false
   }
  },
  {
   "cell_type": "code",
   "execution_count": null,
   "outputs": [],
   "source": [
    "series = data[constants.MONKEY_POX].value_counts()\n",
    "#series2,\n",
    "# TODO: Try to use countplot and change colors to normal blue and orange\n",
    "plt.bar(series.index, series.values, color=constants.COLOR_PALETTE)\n",
    "# sns.countplot(data[constants.MONKEY_POX])\n",
    "plt.show()"
   ],
   "metadata": {
    "collapsed": false
   }
  },
  {
   "cell_type": "code",
   "execution_count": null,
   "outputs": [],
   "source": [
    "sns.heatmap(data.corr(), annot=True)\n",
    "plt.show()"
   ],
   "metadata": {
    "collapsed": false
   }
  },
  {
   "cell_type": "code",
   "execution_count": null,
   "outputs": [],
   "source": [
    "# TODO: Change legend and axises\n",
    "#test_df = data.groupby(by=[constants.SYSTEMIC_ILLNESS,constants.MONKEY_POX])[constants.SYSTEMIC_ILLNESS].count()\n",
    "sns.countplot(x=data[constants.SYSTEMIC_ILLNESS], hue=data[constants.MONKEY_POX], palette=constants.COLOR_PALETTE)\n",
    "plt.show()"
   ],
   "metadata": {
    "collapsed": false
   }
  },
  {
   "cell_type": "code",
   "execution_count": null,
   "outputs": [],
   "source": [
    "#sns.pairplot(data.head(100), hue='MonkeyPox')"
   ],
   "metadata": {
    "collapsed": false
   }
  },
  {
   "cell_type": "code",
   "execution_count": null,
   "outputs": [],
   "source": [
    "simple_dict = {'None': 1, 'Fever': 2, 'Swollen Lymph Nodes': 3, 'Muscle Aches and Pain': 4}\n",
    "data[constants.SYSTEMIC_ILLNESS] = [simple_dict[item] for item in data[constants.SYSTEMIC_ILLNESS]]\n",
    "data_tree = data.iloc[:,:-1]\n",
    "target = data.iloc[:,-1:]\n",
    "ran_stream = 23\n",
    "x_train, x_test, y_train, y_test = train_test_split(data_tree, target, random_state=ran_stream)\n",
    "\n",
    "model = GaussianNB()\n",
    "model.fit(x_train, y_train)\n",
    "y_prediction = model.predict(x_test)\n",
    "print(100 * accuracy_score(y_test, y_prediction))"
   ],
   "metadata": {
    "collapsed": false
   }
  },
  {
   "cell_type": "code",
   "execution_count": null,
   "outputs": [],
   "source": [
    "model_tree = DecisionTreeClassifier(criterion='entropy', splitter='best', min_samples_split=5)\n",
    "model_tree.fit(data_tree, target)\n",
    "text_representation = export_text(model_tree, feature_names=data_tree.columns.values.tolist())\n",
    "figure = plt.figure(figsize=(10,8))\n",
    "plot_tree(model_tree, feature_names=data_tree.columns, filled=True, rounded=True)\n",
    "plt.show()\n"
   ],
   "metadata": {
    "collapsed": false
   }
  },
  {
   "cell_type": "markdown",
   "source": [
    "Show how often the symptoms appear"
   ],
   "metadata": {
    "collapsed": false
   }
  },
  {
   "cell_type": "code",
   "execution_count": 3,
   "outputs": [
    {
     "name": "stdout",
     "output_type": "stream",
     "text": [
      "          Rectal Pain  Sore Throat  Penile Oedema  Oral Lesions  \\\n",
      "Negative         3643         4184           4214          4228   \n",
      "Positive         8702         8370           8398          8258   \n",
      "\n",
      "          Solitary Lesion  Swollen Tonsils  HIV Infection  \\\n",
      "Negative             4330             4478           3697   \n",
      "Positive             8197             8055           8887   \n",
      "\n",
      "          Sexually Transmitted Infection  \n",
      "Negative                            3784  \n",
      "Positive                            8662  \n"
     ]
    }
   ],
   "source": [
    "symptoms = data.iloc[:, 1:-1].columns.values.tolist()\n",
    "symptoms_df = data.iloc[:, 1:]\n",
    "symptoms_df = utils.make_df_true(symptoms, symptoms_df)\n",
    "print(symptoms_df)\n",
    "\n",
    "pos_lst, negative_lst = utils.create_outcome_list(symptoms, symptoms_df)\n",
    "df1 = pd.DataFrame({'Symptoms': symptoms, 'Number of infections': pos_lst})\n",
    "df2 = pd.DataFrame({'Symptoms': symptoms, 'Number of infections': negative_lst})\n",
    "df1['outcome'] = 'Positive'\n",
    "df2['outcome'] = 'Negative'\n",
    "res = pd.concat([df1, df2])\n",
    "sns.barplot(x='Symptoms', y='Number of infections', data=res, hue='outcome', palette=constants.COLOR_PALETTE)\n",
    "plt.show()"
   ],
   "metadata": {
    "collapsed": false
   }
  }
 ],
 "metadata": {
  "kernelspec": {
   "display_name": "Python 3",
   "language": "python",
   "name": "python3"
  },
  "language_info": {
   "codemirror_mode": {
    "name": "ipython",
    "version": 2
   },
   "file_extension": ".py",
   "mimetype": "text/x-python",
   "name": "python",
   "nbconvert_exporter": "python",
   "pygments_lexer": "ipython2",
   "version": "2.7.6"
  }
 },
 "nbformat": 4,
 "nbformat_minor": 0
}
