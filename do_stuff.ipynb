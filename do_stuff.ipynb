{
 "cells": [
  {
   "cell_type": "markdown",
   "source": [
    "Import all variables/ libraries from main"
   ],
   "metadata": {
    "collapsed": false
   }
  },
  {
   "cell_type": "code",
   "execution_count": 2,
   "outputs": [],
   "source": [
    "from main import data, pd, plt, train_test_split, GaussianNB, accuracy_score, DecisionTreeClassifier, export_text, plot_tree, sns, apriori, association_rules\n",
    "import constants\n",
    "import utils"
   ],
   "metadata": {
    "collapsed": false
   }
  },
  {
   "cell_type": "markdown",
   "source": [
    "Print data"
   ],
   "metadata": {
    "collapsed": false
   }
  },
  {
   "cell_type": "code",
   "execution_count": null,
   "outputs": [],
   "source": [
    "data"
   ],
   "metadata": {
    "collapsed": false
   }
  },
  {
   "cell_type": "markdown",
   "source": [
    "Plot data, shows how often MonkeyPox is negative and positive"
   ],
   "metadata": {
    "collapsed": false
   }
  },
  {
   "cell_type": "code",
   "execution_count": null,
   "outputs": [],
   "source": [
    "series = data[constants.MONKEY_POX].value_counts()\n",
    "#series2,\n",
    "# TODO: Try to use countplot and change colors to normal blue and orange\n",
    "plt.bar(series.index, series.values, color=constants.COLOR_PALETTE)\n",
    "plt.title('Cases of Monkey Pox seperated by positive and negative')\n",
    "plt.show()"
   ],
   "metadata": {
    "collapsed": false
   }
  },
  {
   "cell_type": "markdown",
   "source": [
    "Plots heatmap: Shows correlations between the different features"
   ],
   "metadata": {
    "collapsed": false
   }
  },
  {
   "cell_type": "code",
   "execution_count": 8,
   "outputs": [
    {
     "name": "stderr",
     "output_type": "stream",
     "text": [
      "/tmp/ipykernel_15947/3714203276.py:1: FutureWarning: The default value of numeric_only in DataFrame.corr is deprecated. In a future version, it will default to False. Select only valid columns or specify the value of numeric_only to silence this warning.\n",
      "  sns.heatmap(data.corr(), annot=True, vmin=0.5, vmax=0.7)\n"
     ]
    }
   ],
   "source": [
    "sns.heatmap(data.corr(), annot=True, vmin=0.5, vmax=0.7)\n",
    "plt.show()"
   ],
   "metadata": {
    "collapsed": false
   }
  },
  {
   "cell_type": "markdown",
   "source": [
    "Shows how often each systemic illness is causing MonkeyPox to be positive or negative"
   ],
   "metadata": {
    "collapsed": false
   }
  },
  {
   "cell_type": "code",
   "execution_count": 7,
   "outputs": [
    {
     "data": {
      "text/plain": "                                             antecedents  \\\n6368   (Solitary_Lesion, Rectal_Pain, Sore_Throat, Sw...   \n7609   (Oral_Lesions, Rectal_Pain, Swollen_Tonsils, P...   \n1208                 (Penile_Oedema, HIV_Infection, STI)   \n7485   (Oral_Lesions, Solitary_Lesion, Rectal_Pain, P...   \n7546   (Oral_Lesions, Rectal_Pain, Swollen_Tonsils, H...   \n...                                                  ...   \n18646                  (Systemic_Illness, HIV_Infection)   \n18147                                    (HIV_Infection)   \n18656                                    (HIV_Infection)   \n17640                                 (Systemic_Illness)   \n18658                                 (Systemic_Illness)   \n\n                                             consequents  antecedent support  \\\n6368                                  (Systemic_Illness)            0.039412   \n7609                                  (Systemic_Illness)            0.037903   \n1208                                  (Systemic_Illness)            0.153372   \n7485                                  (Systemic_Illness)            0.039035   \n7546                                  (Systemic_Illness)            0.041612   \n...                                                  ...                 ...   \n18646  (Oral_Lesions, Solitary_Lesion, Rectal_Pain, S...            0.558615   \n18147  (Oral_Lesions, Solitary_Lesion, Rectal_Pain, S...            0.558615   \n18656  (Oral_Lesions, Solitary_Lesion, Rectal_Pain, S...            0.558615   \n17640  (Oral_Lesions, Solitary_Lesion, Rectal_Pain, S...            1.000000   \n18658  (Oral_Lesions, Solitary_Lesion, Rectal_Pain, S...            1.000000   \n\n       consequent support   support  confidence      lift  leverage  \\\n6368             1.000000  0.039412    1.000000  1.000000  0.000000   \n7609             1.000000  0.037903    1.000000  1.000000  0.000000   \n1208             1.000000  0.153372    1.000000  1.000000  0.000000   \n7485             1.000000  0.039035    1.000000  1.000000  0.000000   \n7546             1.000000  0.041612    1.000000  1.000000  0.000000   \n...                   ...       ...         ...       ...       ...   \n18646            0.009931  0.005406    0.009677  0.974382 -0.000142   \n18147            0.009931  0.005406    0.009677  0.974382 -0.000142   \n18656            0.009931  0.005406    0.009677  0.974382 -0.000142   \n17640            0.009617  0.009617    0.009617  1.000000  0.000000   \n18658            0.005406  0.005406    0.005406  1.000000  0.000000   \n\n       conviction  \n6368          inf  \n7609          inf  \n1208          inf  \n7485          inf  \n7546          inf  \n...           ...  \n18646    0.999743  \n18147    0.999743  \n18656    0.999743  \n17640    1.000000  \n18658    1.000000  \n\n[18660 rows x 9 columns]",
      "text/html": "<div>\n<style scoped>\n    .dataframe tbody tr th:only-of-type {\n        vertical-align: middle;\n    }\n\n    .dataframe tbody tr th {\n        vertical-align: top;\n    }\n\n    .dataframe thead th {\n        text-align: right;\n    }\n</style>\n<table border=\"1\" class=\"dataframe\">\n  <thead>\n    <tr style=\"text-align: right;\">\n      <th></th>\n      <th>antecedents</th>\n      <th>consequents</th>\n      <th>antecedent support</th>\n      <th>consequent support</th>\n      <th>support</th>\n      <th>confidence</th>\n      <th>lift</th>\n      <th>leverage</th>\n      <th>conviction</th>\n    </tr>\n  </thead>\n  <tbody>\n    <tr>\n      <th>6368</th>\n      <td>(Solitary_Lesion, Rectal_Pain, Sore_Throat, Sw...</td>\n      <td>(Systemic_Illness)</td>\n      <td>0.039412</td>\n      <td>1.000000</td>\n      <td>0.039412</td>\n      <td>1.000000</td>\n      <td>1.000000</td>\n      <td>0.000000</td>\n      <td>inf</td>\n    </tr>\n    <tr>\n      <th>7609</th>\n      <td>(Oral_Lesions, Rectal_Pain, Swollen_Tonsils, P...</td>\n      <td>(Systemic_Illness)</td>\n      <td>0.037903</td>\n      <td>1.000000</td>\n      <td>0.037903</td>\n      <td>1.000000</td>\n      <td>1.000000</td>\n      <td>0.000000</td>\n      <td>inf</td>\n    </tr>\n    <tr>\n      <th>1208</th>\n      <td>(Penile_Oedema, HIV_Infection, STI)</td>\n      <td>(Systemic_Illness)</td>\n      <td>0.153372</td>\n      <td>1.000000</td>\n      <td>0.153372</td>\n      <td>1.000000</td>\n      <td>1.000000</td>\n      <td>0.000000</td>\n      <td>inf</td>\n    </tr>\n    <tr>\n      <th>7485</th>\n      <td>(Oral_Lesions, Solitary_Lesion, Rectal_Pain, P...</td>\n      <td>(Systemic_Illness)</td>\n      <td>0.039035</td>\n      <td>1.000000</td>\n      <td>0.039035</td>\n      <td>1.000000</td>\n      <td>1.000000</td>\n      <td>0.000000</td>\n      <td>inf</td>\n    </tr>\n    <tr>\n      <th>7546</th>\n      <td>(Oral_Lesions, Rectal_Pain, Swollen_Tonsils, H...</td>\n      <td>(Systemic_Illness)</td>\n      <td>0.041612</td>\n      <td>1.000000</td>\n      <td>0.041612</td>\n      <td>1.000000</td>\n      <td>1.000000</td>\n      <td>0.000000</td>\n      <td>inf</td>\n    </tr>\n    <tr>\n      <th>...</th>\n      <td>...</td>\n      <td>...</td>\n      <td>...</td>\n      <td>...</td>\n      <td>...</td>\n      <td>...</td>\n      <td>...</td>\n      <td>...</td>\n      <td>...</td>\n    </tr>\n    <tr>\n      <th>18646</th>\n      <td>(Systemic_Illness, HIV_Infection)</td>\n      <td>(Oral_Lesions, Solitary_Lesion, Rectal_Pain, S...</td>\n      <td>0.558615</td>\n      <td>0.009931</td>\n      <td>0.005406</td>\n      <td>0.009677</td>\n      <td>0.974382</td>\n      <td>-0.000142</td>\n      <td>0.999743</td>\n    </tr>\n    <tr>\n      <th>18147</th>\n      <td>(HIV_Infection)</td>\n      <td>(Oral_Lesions, Solitary_Lesion, Rectal_Pain, S...</td>\n      <td>0.558615</td>\n      <td>0.009931</td>\n      <td>0.005406</td>\n      <td>0.009677</td>\n      <td>0.974382</td>\n      <td>-0.000142</td>\n      <td>0.999743</td>\n    </tr>\n    <tr>\n      <th>18656</th>\n      <td>(HIV_Infection)</td>\n      <td>(Oral_Lesions, Solitary_Lesion, Rectal_Pain, S...</td>\n      <td>0.558615</td>\n      <td>0.009931</td>\n      <td>0.005406</td>\n      <td>0.009677</td>\n      <td>0.974382</td>\n      <td>-0.000142</td>\n      <td>0.999743</td>\n    </tr>\n    <tr>\n      <th>17640</th>\n      <td>(Systemic_Illness)</td>\n      <td>(Oral_Lesions, Solitary_Lesion, Rectal_Pain, S...</td>\n      <td>1.000000</td>\n      <td>0.009617</td>\n      <td>0.009617</td>\n      <td>0.009617</td>\n      <td>1.000000</td>\n      <td>0.000000</td>\n      <td>1.000000</td>\n    </tr>\n    <tr>\n      <th>18658</th>\n      <td>(Systemic_Illness)</td>\n      <td>(Oral_Lesions, Solitary_Lesion, Rectal_Pain, S...</td>\n      <td>1.000000</td>\n      <td>0.005406</td>\n      <td>0.005406</td>\n      <td>0.005406</td>\n      <td>1.000000</td>\n      <td>0.000000</td>\n      <td>1.000000</td>\n    </tr>\n  </tbody>\n</table>\n<p>18660 rows × 9 columns</p>\n</div>"
     },
     "execution_count": 7,
     "metadata": {},
     "output_type": "execute_result"
    }
   ],
   "source": [
    "# lift = 1\n",
    "# confidence = 1 is good?\n",
    "symptoms_df = utils.clean_data(data)\n",
    "frequency = apriori(symptoms_df, min_support=0.005, use_colnames=True)\n",
    "rules = association_rules(frequency, metric='lift')\n",
    "rules.sort_values('confidence', ascending=False, inplace=True)\n",
    "rules"
   ],
   "metadata": {
    "collapsed": false
   }
  },
  {
   "cell_type": "code",
   "execution_count": 6,
   "outputs": [],
   "source": [
    "# TODO: Change legend and axises\n",
    "sns.countplot(x=data[constants.SYSTEMIC_ILLNESS], hue=data[constants.MONKEY_POX], palette=constants.COLOR_PALETTE)\n",
    "plt.show()"
   ],
   "metadata": {
    "collapsed": false
   }
  },
  {
   "cell_type": "markdown",
   "source": [
    "Plots data, using pairplot"
   ],
   "metadata": {
    "collapsed": false
   }
  },
  {
   "cell_type": "code",
   "execution_count": null,
   "outputs": [],
   "source": [
    "#sns.pairplot(data.head(100), hue='MonkeyPox')"
   ],
   "metadata": {
    "collapsed": false
   }
  },
  {
   "cell_type": "markdown",
   "source": [
    "Calculates accuracy, using GaussianNB()"
   ],
   "metadata": {
    "collapsed": false
   }
  },
  {
   "cell_type": "code",
   "execution_count": null,
   "outputs": [],
   "source": [
    "simple_dict = {'None': 1, 'Fever': 2, 'Swollen Lymph Nodes': 3, 'Muscle Aches and Pain': 4}\n",
    "data[constants.SYSTEMIC_ILLNESS] = [simple_dict[item] for item in data[constants.SYSTEMIC_ILLNESS]]\n",
    "data_tree = data.iloc[:,:-1]\n",
    "target = data.iloc[:,-1:]\n",
    "ran_stream = 23\n",
    "x_train, x_test, y_train, y_test = train_test_split(data_tree, target, random_state=ran_stream)\n",
    "\n",
    "model = GaussianNB()\n",
    "model.fit(x_train, y_train)\n",
    "y_prediction = model.predict(x_test)\n",
    "print(100 * accuracy_score(y_test, y_prediction))"
   ],
   "metadata": {
    "collapsed": false
   }
  },
  {
   "cell_type": "markdown",
   "source": [
    "Creates DecisionTree, by using entropy"
   ],
   "metadata": {
    "collapsed": false
   }
  },
  {
   "cell_type": "code",
   "execution_count": null,
   "outputs": [],
   "source": [
    "model_tree = DecisionTreeClassifier(criterion='entropy', splitter='best', min_samples_split=5)\n",
    "model_tree.fit(data_tree, target)\n",
    "text_representation = export_text(model_tree, feature_names=data_tree.columns.values.tolist())\n",
    "figure = plt.figure(figsize=(10,8))\n",
    "plot_tree(model_tree, feature_names=data_tree.columns, filled=True, rounded=True)\n",
    "plt.show()\n"
   ],
   "metadata": {
    "collapsed": false
   }
  },
  {
   "cell_type": "markdown",
   "source": [
    "Plots data, when symptom (2-7) is True and MonkeyPox is Positive"
   ],
   "metadata": {
    "collapsed": false
   }
  },
  {
   "cell_type": "code",
   "execution_count": null,
   "outputs": [],
   "source": [
    "symptoms = data.iloc[:, 1:-1].columns.values.tolist()\n",
    "symptoms_df = data.iloc[:, 1:]\n",
    "symptoms_df = utils.fetch_true_symptoms(symptoms, symptoms_df)\n",
    "print(symptoms_df)\n",
    "\n",
    "pos_lst, negative_lst = utils.create_outcome_lists(symptoms, symptoms_df)\n",
    "df1 = pd.DataFrame({'Symptoms': symptoms, 'Number of infections': pos_lst})\n",
    "df2 = pd.DataFrame({'Symptoms': symptoms, 'Number of infections': negative_lst})\n",
    "df1['outcome'] = 'Positive'\n",
    "df2['outcome'] = 'Negative'\n",
    "res = pd.concat([df1, df2])\n",
    "sns.barplot(x='Symptoms', y='Number of infections', data=res, hue='outcome', palette=constants.COLOR_PALETTE)\n",
    "plt.show()"
   ],
   "metadata": {
    "collapsed": false
   }
  },
  {
   "cell_type": "markdown",
   "source": [
    "Calculates accuracy by removing different symptoms, checks if accuracy is higher or lower depending on which symptom is removed"
   ],
   "metadata": {
    "collapsed": false
   }
  },
  {
   "cell_type": "code",
   "execution_count": 9,
   "outputs": [
    {
     "data": {
      "text/plain": "{\"['Systemic_Illness', 'Sore_Throat', 'Penile_Oedema', 'Oral_Lesions', 'Solitary_Lesion', 'Swollen_Tonsils', 'HIV_Infection', 'STI']\": 66.4,\n \"['Systemic_Illness', 'Rectal_Pain', 'Penile_Oedema', 'Oral_Lesions', 'Solitary_Lesion', 'Swollen_Tonsils', 'HIV_Infection', 'STI']\": 67.67999999999999,\n \"['Systemic_Illness', 'Rectal_Pain', 'Sore_Throat', 'Oral_Lesions', 'Solitary_Lesion', 'Swollen_Tonsils', 'HIV_Infection', 'STI']\": 67.75999999999999,\n \"['Systemic_Illness', 'Rectal_Pain', 'Sore_Throat', 'Penile_Oedema', 'Solitary_Lesion', 'Swollen_Tonsils', 'HIV_Infection', 'STI']\": 67.648,\n \"['Systemic_Illness', 'Rectal_Pain', 'Sore_Throat', 'Penile_Oedema', 'Oral_Lesions', 'Swollen_Tonsils', 'HIV_Infection', 'STI']\": 67.75999999999999,\n \"['Systemic_Illness', 'Rectal_Pain', 'Sore_Throat', 'Penile_Oedema', 'Oral_Lesions', 'Solitary_Lesion', 'HIV_Infection', 'STI']\": 68.24,\n \"['Systemic_Illness', 'Rectal_Pain', 'Sore_Throat', 'Penile_Oedema', 'Oral_Lesions', 'Solitary_Lesion', 'Swollen_Tonsils', 'STI']\": 66.688,\n \"['Systemic_Illness', 'Rectal_Pain', 'Sore_Throat', 'Penile_Oedema', 'Oral_Lesions', 'Solitary_Lesion', 'Swollen_Tonsils', 'HIV_Infection']\": 66.99199999999999}"
     },
     "execution_count": 9,
     "metadata": {},
     "output_type": "execute_result"
    }
   ],
   "source": [
    "simple_dict = {'None': 1, 'Fever': 2, 'Swollen Lymph Nodes': 3, 'Muscle Aches and Pain': 4}\n",
    "data[constants.SYSTEMIC_ILLNESS] = [simple_dict[item] for item in data[constants.SYSTEMIC_ILLNESS]]\n",
    "data_tree = data.iloc[:,:-1]\n",
    "target = data.iloc[:,-1:]\n",
    "utils.create_feature_accuracy_dict(data_tree, target, data.iloc[:, 1:-1].columns.values.tolist())"
   ],
   "metadata": {
    "collapsed": false
   }
  }
 ],
 "metadata": {
  "kernelspec": {
   "display_name": "Python 3",
   "language": "python",
   "name": "python3"
  },
  "language_info": {
   "codemirror_mode": {
    "name": "ipython",
    "version": 2
   },
   "file_extension": ".py",
   "mimetype": "text/x-python",
   "name": "python",
   "nbconvert_exporter": "python",
   "pygments_lexer": "ipython2",
   "version": "2.7.6"
  }
 },
 "nbformat": 4,
 "nbformat_minor": 0
}
