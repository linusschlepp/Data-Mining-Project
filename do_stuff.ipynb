{
 "cells": [
  {
   "cell_type": "markdown",
   "source": [
    "Import all required variables/ libraries from main"
   ],
   "metadata": {
    "collapsed": false
   }
  },
  {
   "cell_type": "code",
   "execution_count": 1,
   "outputs": [
    {
     "name": "stderr",
     "output_type": "stream",
     "text": [
      "2023-01-05 11:38:32.139859: I tensorflow/core/platform/cpu_feature_guard.cc:193] This TensorFlow binary is optimized with oneAPI Deep Neural Network Library (oneDNN) to use the following CPU instructions in performance-critical operations:  AVX2 FMA\n",
      "To enable them in other operations, rebuild TensorFlow with the appropriate compiler flags.\n",
      "2023-01-05 11:38:32.256340: W tensorflow/compiler/xla/stream_executor/platform/default/dso_loader.cc:64] Could not load dynamic library 'libcudart.so.11.0'; dlerror: libcudart.so.11.0: cannot open shared object file: No such file or directory\n",
      "2023-01-05 11:38:32.256361: I tensorflow/compiler/xla/stream_executor/cuda/cudart_stub.cc:29] Ignore above cudart dlerror if you do not have a GPU set up on your machine.\n",
      "2023-01-05 11:38:32.938505: W tensorflow/compiler/xla/stream_executor/platform/default/dso_loader.cc:64] Could not load dynamic library 'libnvinfer.so.7'; dlerror: libnvinfer.so.7: cannot open shared object file: No such file or directory\n",
      "2023-01-05 11:38:32.938574: W tensorflow/compiler/xla/stream_executor/platform/default/dso_loader.cc:64] Could not load dynamic library 'libnvinfer_plugin.so.7'; dlerror: libnvinfer_plugin.so.7: cannot open shared object file: No such file or directory\n",
      "2023-01-05 11:38:32.938583: W tensorflow/compiler/tf2tensorrt/utils/py_utils.cc:38] TF-TRT Warning: Cannot dlopen some TensorRT libraries. If you would like to use Nvidia GPU with TensorRT, please make sure the missing libraries mentioned above are installed properly.\n"
     ]
    }
   ],
   "source": [
    "from main import data, pd, plt, train_test_split, GaussianNB, accuracy_score, DecisionTreeClassifier,  plot_tree, sns, apriori, association_rules, X_data, target, Dense, Sequential, export_graphviz, MinMaxScaler, RobustScaler, tree, gv\n",
    "import constants\n",
    "import utils\n",
    "import pprint\n",
    "\n",
    "pp = pprint.PrettyPrinter(indent=4)"
   ],
   "metadata": {
    "collapsed": false
   }
  },
  {
   "cell_type": "markdown",
   "source": [
    "Print data"
   ],
   "metadata": {
    "collapsed": false
   }
  },
  {
   "cell_type": "code",
   "execution_count": null,
   "outputs": [],
   "source": [
    "data"
   ],
   "metadata": {
    "collapsed": false
   }
  },
  {
   "cell_type": "markdown",
   "source": [
    "Print info about data (if null, occurrence, datatypes etc.)"
   ],
   "metadata": {
    "collapsed": false
   }
  },
  {
   "cell_type": "code",
   "execution_count": null,
   "outputs": [],
   "source": [
    "data.info()"
   ],
   "metadata": {
    "collapsed": false
   }
  },
  {
   "cell_type": "markdown",
   "source": [
    "Plots data, shows the distribution of MonkeyPox (how often it is negative or positive)"
   ],
   "metadata": {
    "collapsed": false
   }
  },
  {
   "cell_type": "code",
   "execution_count": null,
   "outputs": [],
   "source": [
    "series = data[constants.MONKEY_POX].value_counts()\n",
    "\n",
    "plt.bar(series.index, series.values, color=constants.COLOR_PALETTE)\n",
    "plt.title('Cases of Monkey Pox seperated by positive and negative')\n",
    "plt.ylabel('Number of infections')\n",
    "plt.show()"
   ],
   "metadata": {
    "collapsed": false
   }
  },
  {
   "cell_type": "markdown",
   "source": [
    "Shows True/ False distribution of all symptoms, containing bool-values"
   ],
   "metadata": {
    "collapsed": false
   }
  },
  {
   "cell_type": "code",
   "execution_count": null,
   "outputs": [],
   "source": [
    "symptoms = data.iloc[:, 1:-1].columns.values.tolist()\n",
    "# Gets columns from dataframe and saves them as a list containing mulitple series\n",
    "series_symptom_lst = [data[symptom].value_counts() for symptom in symptoms]\n",
    "df_symptoms_series = pd.DataFrame()\n",
    "# Generate dataframe from list of series and transposes it\n",
    "df_symptoms_series= df_symptoms_series.append(series_symptom_lst).T\n",
    "#df_symptoms_series = pd.DataFrame.from_records(series_symptom_lst).T\n",
    "df_symptoms_series"
   ],
   "metadata": {
    "collapsed": false
   }
  },
  {
   "cell_type": "markdown",
   "source": [
    "Plots True/ False distribution of all symptoms, containing bool-values"
   ],
   "metadata": {
    "collapsed": false
   }
  },
  {
   "cell_type": "code",
   "execution_count": null,
   "outputs": [],
   "source": [
    "pos_lst, negative_lst = utils.create_outcome_lists(symptoms, df_symptoms_series, False, True)\n",
    "# Plots pos_lst and negative_lst\n",
    "utils.plot_data(symptoms, pos_lst, negative_lst, 'Symptoms', 'Number of infections', 'outcome', 'True', 'False')"
   ],
   "metadata": {
    "collapsed": false
   }
  },
  {
   "cell_type": "markdown",
   "source": [],
   "metadata": {
    "collapsed": false
   }
  },
  {
   "cell_type": "markdown",
   "source": [
    "Plots data, when features, containing bool-values are True and MonkeyPox is Positive"
   ],
   "metadata": {
    "collapsed": false
   }
  },
  {
   "cell_type": "code",
   "execution_count": null,
   "outputs": [],
   "source": [
    "symptoms_df = data.iloc[:, 1:]\n",
    "symptoms_df = utils.fetch_true_symptoms(symptoms, symptoms_df)\n",
    "\n",
    "pos_lst, negative_lst = utils.create_outcome_lists(symptoms, symptoms_df, constants.NEGATIVE, constants.POSITIVE)\n",
    "utils.plot_data(symptoms, pos_lst, negative_lst, 'Symptoms', 'Number of infections', 'outcome', constants.POSITIVE, constants.NEGATIVE )"
   ],
   "metadata": {
    "collapsed": false
   }
  },
  {
   "cell_type": "markdown",
   "source": [
    "Plots distribution of column Systemic_Illness, using a bar chart"
   ],
   "metadata": {
    "collapsed": false
   }
  },
  {
   "cell_type": "code",
   "execution_count": null,
   "outputs": [],
   "source": [
    "sns.countplot(x=data[constants.SYSTEMIC_ILLNESS], hue=data[constants.MONKEY_POX], palette=constants.COLOR_PALETTE)\n",
    "plt.show()"
   ],
   "metadata": {
    "collapsed": false
   }
  },
  {
   "cell_type": "markdown",
   "source": [
    "Shows correlations between the different features"
   ],
   "metadata": {
    "collapsed": false
   }
  },
  {
   "cell_type": "code",
   "execution_count": null,
   "outputs": [],
   "source": [
    "df_corr  = data.corr(numeric_only=True)\n",
    "df_corr"
   ],
   "metadata": {
    "collapsed": false
   }
  },
  {
   "cell_type": "markdown",
   "source": [
    "Plots correlation-dataframe, by using a heatmap"
   ],
   "metadata": {
    "collapsed": false
   }
  },
  {
   "cell_type": "code",
   "execution_count": null,
   "outputs": [],
   "source": [
    "sns.heatmap(df_corr, annot=True, vmin=0.5, vmax=0.7)\n",
    "plt.show()"
   ],
   "metadata": {
    "collapsed": false
   }
  },
  {
   "cell_type": "markdown",
   "source": [
    "Alters dataframe, values of the feature: Systemic_Illness are added as new columns"
   ],
   "metadata": {
    "collapsed": false
   }
  },
  {
   "cell_type": "code",
   "execution_count": null,
   "outputs": [],
   "source": [
    "# Dataframe, containing the values from feature: Systemic_Illness as columns\n",
    "symptoms_df = utils.clean_data(data)\n",
    "symptoms_df"
   ],
   "metadata": {
    "collapsed": false
   }
  },
  {
   "cell_type": "markdown",
   "source": [
    "Calculates lift, confidence, support etc. for all possible feature combinations"
   ],
   "metadata": {
    "collapsed": false
   }
  },
  {
   "cell_type": "code",
   "execution_count": null,
   "outputs": [],
   "source": [
    "frequency = apriori(symptoms_df, min_support=0.005, use_colnames=True)\n",
    "rules = association_rules(frequency, metric='lift')\n",
    "rules.sort_values('confidence', ascending=False, inplace=True)\n",
    "rules"
   ],
   "metadata": {
    "collapsed": false
   }
  },
  {
   "cell_type": "markdown",
   "source": [
    "Calculates accuracy, using GaussianNB()"
   ],
   "metadata": {
    "collapsed": false
   }
  },
  {
   "cell_type": "code",
   "execution_count": null,
   "outputs": [],
   "source": [
    "X_train, X_test, y_train, y_test = train_test_split(X_data, target)\n",
    "\n",
    "model = GaussianNB()\n",
    "model.fit(X_train, y_train)\n",
    "y_prediction = model.predict(X_test)\n",
    "print('Accuracy: {:.2f}'.format(100 * accuracy_score(y_test, y_prediction)))\n",
    "print('R² of train-data: {:.2f}'.format(model.score(X_train, y_train)))\n",
    "print('R² of test-data: {:.2f}'.format(model.score(X_test, y_test)))"
   ],
   "metadata": {
    "collapsed": false
   }
  },
  {
   "cell_type": "markdown",
   "source": [
    "Creates and plots DecisionTree, by using entropy"
   ],
   "metadata": {
    "collapsed": false
   }
  },
  {
   "cell_type": "code",
   "execution_count": null,
   "outputs": [],
   "source": [
    "X_train, X_test, y_train, y_test = train_test_split(X_data, target, test_size=0.30)\n",
    "model_tree = DecisionTreeClassifier(criterion='entropy', splitter='best', min_samples_split=0.20)\n",
    "model_tree.fit(X_train, y_train)\n",
    "#\n",
    "# y_prediction = model_tree.predict(X_test)\n",
    "\n",
    "# Plot decisiontree\n",
    "# figure = plt.figure(figsize=(10,8))\n",
    "# plot_tree(model_tree, feature_names=X_train.columns, filled=True, rounded=True)\n",
    "# plt.show()\n",
    "tree.dot = export_graphviz(model_tree, filled=True, feature_names=X_test.columns)\n",
    "graph = gv.Source(tree.dot)\n",
    "graph"
   ],
   "metadata": {
    "collapsed": false
   }
  },
  {
   "cell_type": "markdown",
   "source": [
    "Calculates accuracy for all possible feature combinations, using three different models"
   ],
   "metadata": {
    "collapsed": false
   }
  },
  {
   "cell_type": "code",
   "execution_count": null,
   "outputs": [],
   "source": [
    "acc_dict = utils.create_feature_accuracy_dict(X_data, target)\n",
    "# Sort dictionary in a descending manner and save the top 5 elements\n",
    "top_items = sorted(acc_dict.items(), key = lambda x: x[1], reverse=True)[:5]\n",
    "pp.pprint(top_items)"
   ],
   "metadata": {
    "collapsed": false
   }
  },
  {
   "cell_type": "markdown",
   "source": [
    "Tries to detect overfitting by plotting the test and train data"
   ],
   "metadata": {
    "collapsed": false
   }
  },
  {
   "cell_type": "code",
   "execution_count": null,
   "outputs": [],
   "source": [
    "utils.check_over_fitting(X_data, target)"
   ],
   "metadata": {
    "collapsed": false
   }
  },
  {
   "cell_type": "markdown",
   "source": [
    "Builds neural network, which contains three hidden layers."
   ],
   "metadata": {
    "collapsed": false
   }
  },
  {
   "cell_type": "code",
   "execution_count": 40,
   "outputs": [
    {
     "name": "stdout",
     "output_type": "stream",
     "text": [
      "586/586 [==============================] - 1s 820us/step - loss: 0.2434 - accuracy: 0.6370\n"
     ]
    }
   ],
   "source": [
    "model = Sequential()\n",
    "\n",
    "X, y = utils.prepare_for_tensor(X_data, target)\n",
    "\n",
    "# Input-layer 9 features = 9 neurons\n",
    "model.add(Dense(9, input_dim=X_data.shape[1], activation='sigmoid', name='input'))\n",
    "\n",
    "# 35 hidden nodes in the first and second layer\n",
    "model.add(Dense(15, activation='relu', name='layer1'))\n",
    "model.add(Dense(15, activation='relu', name='layer2'))\n",
    "model.add(Dense(15, activation='relu', name='layer3'))\n",
    "model.add(Dense(1, activation='sigmoid', name='output'))\n",
    "\n",
    "model.compile(optimizer='Adam', loss='mse', metrics=['accuracy'])\n",
    "\n",
    "X_train, X_test, y_train, y_test = train_test_split(X, y)\n"
   ],
   "metadata": {
    "collapsed": false
   }
  },
  {
   "cell_type": "markdown",
   "source": [
    "Print summary of the NN model"
   ],
   "metadata": {
    "collapsed": false
   }
  },
  {
   "cell_type": "code",
   "execution_count": 41,
   "outputs": [
    {
     "name": "stdout",
     "output_type": "stream",
     "text": [
      "Model: \"sequential_33\"\n",
      "_________________________________________________________________\n",
      " Layer (type)                Output Shape              Param #   \n",
      "=================================================================\n",
      " input (Dense)               (None, 9)                 90        \n",
      "                                                                 \n",
      " layer1 (Dense)              (None, 15)                150       \n",
      "                                                                 \n",
      " layer2 (Dense)              (None, 15)                240       \n",
      "                                                                 \n",
      " layer3 (Dense)              (None, 15)                240       \n",
      "                                                                 \n",
      " output (Dense)              (None, 1)                 16        \n",
      "                                                                 \n",
      "=================================================================\n",
      "Total params: 736\n",
      "Trainable params: 736\n",
      "Non-trainable params: 0\n",
      "_________________________________________________________________\n"
     ]
    }
   ],
   "source": [
    "model.summary()"
   ],
   "metadata": {
    "collapsed": false
   }
  },
  {
   "cell_type": "markdown",
   "source": [
    "Evaluates quality of train- and test-data from above"
   ],
   "metadata": {
    "collapsed": false
   }
  },
  {
   "cell_type": "code",
   "execution_count": 44,
   "outputs": [
    {
     "name": "stdout",
     "output_type": "stream",
     "text": [
      "Train-data:\n",
      "586/586 [==============================] - 1s 860us/step\n",
      "loss: 0.20\n",
      "accuracy: 0.70\n",
      "Test-data:\n",
      "196/196 [==============================] - 0s 828us/step\n",
      "loss: 0.20\n",
      "accuracy: 0.69\n"
     ]
    }
   ],
   "source": [
    "hist = model.fit(X_train, y_train, epochs=100, batch_size=32, verbose=0, validation_data=(X_test, y_test))\n",
    "print('Train-data:')\n",
    "# Evaluate train-data\n",
    "utils.eval_data(X_train, y_train, model)\n",
    "print('Test-data:')\n",
    "# Evaluate test-data\n",
    "utils.eval_data(X_test, y_test, model)"
   ],
   "metadata": {
    "collapsed": false
   }
  },
  {
   "cell_type": "markdown",
   "source": [
    "Plots the neural network"
   ],
   "metadata": {
    "collapsed": false
   }
  },
  {
   "cell_type": "code",
   "execution_count": 45,
   "outputs": [],
   "source": [
    "evaluation = pd.DataFrame.from_dict(hist.history)\n",
    "fig = plt.figure(figsize=(20, 8), num='Neural Network')\n",
    "img1 = fig.add_subplot(121)\n",
    "img1.plot(evaluation.index, evaluation.iloc[:, 0], color=constants.FIRST_COLOR, label='Train-data')\n",
    "img1.plot(evaluation.index, evaluation.iloc[:, 2], color=constants.SECOND_COLOR, label='Test-data')\n",
    "img1.legend()\n",
    "img1.set_xlabel('epoch')\n",
    "img1.set_ylabel(model.metrics_names[0])\n",
    "img1.set_title('Neural Network learns: Loss curve')\n",
    "img2 = fig.add_subplot(122)\n",
    "img2.plot(evaluation.index, evaluation.iloc[:, 1], color=constants.FIRST_COLOR, label='Train-data')\n",
    "img2.plot(evaluation.index, evaluation.iloc[:, 3], color=constants.SECOND_COLOR, label='Test-data')\n",
    "img2.legend()\n",
    "img2.set_xlabel('epoch')\n",
    "img2.set_ylabel(model.metrics_names[1])\n",
    "img2.set_title('Neural Network learns: Accuracy curve')\n",
    "plt.show()"
   ],
   "metadata": {
    "collapsed": false
   }
  }
 ],
 "metadata": {
  "kernelspec": {
   "display_name": "Python 3",
   "language": "python",
   "name": "python3"
  },
  "language_info": {
   "codemirror_mode": {
    "name": "ipython",
    "version": 2
   },
   "file_extension": ".py",
   "mimetype": "text/x-python",
   "name": "python",
   "nbconvert_exporter": "python",
   "pygments_lexer": "ipython2",
   "version": "2.7.6"
  }
 },
 "nbformat": 4,
 "nbformat_minor": 0
}
