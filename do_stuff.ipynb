{
 "cells": [
  {
   "cell_type": "code",
   "execution_count": null,
   "outputs": [],
   "source": [
    "from main import data, pd, plt, train_test_split, GaussianNB, accuracy_score, DecisionTreeClassifier, export_text, plot_tree, sns\n",
    "import constants"
   ],
   "metadata": {
    "collapsed": false
   }
  },
  {
   "cell_type": "code",
   "execution_count": null,
   "outputs": [],
   "source": [
    "data"
   ],
   "metadata": {
    "collapsed": false
   }
  },
  {
   "cell_type": "code",
   "execution_count": null,
   "outputs": [],
   "source": [
    "df = data.groupby(by='MonkeyPox').sum()\n",
    "df_systemic_illness = df[constants.SYSTEMIC_ILLNESS]\n",
    "df_rectal_pain = df['Rectal Pain']\n",
    "res = pd.concat([df_systemic_illness, df_rectal_pain])\n",
    "sns.barplot(x='x', y='y', data=res)\n",
    "#plt.bar(df.index, df[constants.SYSTEMIC_ILLNESS])\n",
    "plt.show()"
   ],
   "metadata": {
    "collapsed": false
   }
  },
  {
   "cell_type": "code",
   "execution_count": null,
   "outputs": [],
   "source": [
    "df_dict = dict.fromkeys(data[constants.SYSTEMIC_ILLNESS].unique())\n",
    "# find better solution\n",
    "for index in data.index:\n",
    "    if data['MonkeyPox'][index] == 'Positive':\n",
    "        df_dict[data[constants.SYSTEMIC_ILLNESS][index]] = int(df_dict[data[constants.SYSTEMIC_ILLNESS][index]] or 0) + 1\n",
    "df_dict"
   ],
   "metadata": {
    "collapsed": false
   }
  },
  {
   "cell_type": "code",
   "execution_count": null,
   "outputs": [],
   "source": [
    "df = pd.DataFrame(df_dict.items())\n",
    "df.rename(columns={0: 'illness', 1: 'quantity'}, inplace=True)\n",
    "plt.bar(df['illness'], df['quantity'])\n",
    "plt.title('Cases of monkeypox seperated by {}'.format(constants.SYSTEMIC_ILLNESS))\n",
    "plt.xlabel('Illness')\n",
    "plt.ylabel('Occurrence')\n",
    "plt.show()"
   ],
   "metadata": {
    "collapsed": false
   }
  },
  {
   "cell_type": "code",
   "execution_count": null,
   "outputs": [],
   "source": [
    "simple_dict = {'None': 1, 'Fever': 2, 'Swollen Lymph Nodes': 3, 'Muscle Aches and Pain': 4}\n",
    "data[constants.SYSTEMIC_ILLNESS] = [simple_dict[item] for item in data[constants.SYSTEMIC_ILLNESS]]\n",
    "data_tree = data.iloc[:,:-1]\n",
    "target = data.iloc[:,-1:]\n",
    "ran_stream = 23\n",
    "x_train, x_test, y_train, y_test = train_test_split(data_tree, target, random_state=ran_stream)\n",
    "\n",
    "model = GaussianNB()\n",
    "model.fit(x_train, y_train)\n",
    "y_prediction = model.predict(x_test)\n",
    "print(100 * accuracy_score(y_test, y_prediction))"
   ],
   "metadata": {
    "collapsed": false
   }
  },
  {
   "cell_type": "code",
   "execution_count": null,
   "outputs": [],
   "source": [
    "model_tree = DecisionTreeClassifier(criterion='entropy', splitter='best', min_samples_split=5)\n",
    "model_tree.fit(data_tree, target)\n",
    "text_representation = export_text(model_tree, feature_names=data_tree.columns.values.tolist())\n",
    "figure = plt.figure(figsize=(10,8))\n",
    "plot_tree(model_tree, feature_names=data_tree.columns, filled=True, rounded=True)\n",
    "plt.show()\n"
   ],
   "metadata": {
    "collapsed": false
   }
  }
 ],
 "metadata": {
  "kernelspec": {
   "display_name": "Python 3",
   "language": "python",
   "name": "python3"
  },
  "language_info": {
   "codemirror_mode": {
    "name": "ipython",
    "version": 2
   },
   "file_extension": ".py",
   "mimetype": "text/x-python",
   "name": "python",
   "nbconvert_exporter": "python",
   "pygments_lexer": "ipython2",
   "version": "2.7.6"
  }
 },
 "nbformat": 4,
 "nbformat_minor": 0
}
