{
 "cells": [
  {
   "cell_type": "markdown",
   "source": [
    "Import all required variables/ libraries from main"
   ],
   "metadata": {
    "collapsed": false
   }
  },
  {
   "cell_type": "code",
   "execution_count": 1,
   "outputs": [
    {
     "name": "stderr",
     "output_type": "stream",
     "text": [
      "2023-01-03 18:11:08.551772: I tensorflow/core/platform/cpu_feature_guard.cc:193] This TensorFlow binary is optimized with oneAPI Deep Neural Network Library (oneDNN) to use the following CPU instructions in performance-critical operations:  AVX2 FMA\n",
      "To enable them in other operations, rebuild TensorFlow with the appropriate compiler flags.\n",
      "2023-01-03 18:11:08.665668: W tensorflow/compiler/xla/stream_executor/platform/default/dso_loader.cc:64] Could not load dynamic library 'libcudart.so.11.0'; dlerror: libcudart.so.11.0: cannot open shared object file: No such file or directory\n",
      "2023-01-03 18:11:08.665685: I tensorflow/compiler/xla/stream_executor/cuda/cudart_stub.cc:29] Ignore above cudart dlerror if you do not have a GPU set up on your machine.\n",
      "2023-01-03 18:11:09.295694: W tensorflow/compiler/xla/stream_executor/platform/default/dso_loader.cc:64] Could not load dynamic library 'libnvinfer.so.7'; dlerror: libnvinfer.so.7: cannot open shared object file: No such file or directory\n",
      "2023-01-03 18:11:09.295765: W tensorflow/compiler/xla/stream_executor/platform/default/dso_loader.cc:64] Could not load dynamic library 'libnvinfer_plugin.so.7'; dlerror: libnvinfer_plugin.so.7: cannot open shared object file: No such file or directory\n",
      "2023-01-03 18:11:09.295773: W tensorflow/compiler/tf2tensorrt/utils/py_utils.cc:38] TF-TRT Warning: Cannot dlopen some TensorRT libraries. If you would like to use Nvidia GPU with TensorRT, please make sure the missing libraries mentioned above are installed properly.\n"
     ]
    }
   ],
   "source": [
    "from main import data, pd, plt, train_test_split, GaussianNB, accuracy_score, DecisionTreeClassifier,  plot_tree, sns, apriori, association_rules, X_data, target, Dense, Sequential, export_graphviz, MinMaxScaler, RobustScaler, tree, gv\n",
    "import constants\n",
    "import utils\n",
    "import pprint\n",
    "\n",
    "pp = pprint.PrettyPrinter(indent=4)"
   ],
   "metadata": {
    "collapsed": false
   }
  },
  {
   "cell_type": "markdown",
   "source": [
    "Print data"
   ],
   "metadata": {
    "collapsed": false
   }
  },
  {
   "cell_type": "code",
   "execution_count": 2,
   "outputs": [
    {
     "data": {
      "text/plain": "               Systemic_Illness  Rectal_Pain  Sore_Throat  Penile_Oedema  \\\nPatient_ID                                                                 \nP0                         None        False         True           True   \nP1                        Fever         True        False           True   \nP2                        Fever        False         True           True   \nP3                         None         True        False          False   \nP4          Swollen Lymph Nodes         True         True           True   \n...                         ...          ...          ...            ...   \nP24995                     None         True         True          False   \nP24996                    Fever        False         True           True   \nP24997                     None         True         True          False   \nP24998      Swollen Lymph Nodes        False         True          False   \nP24999      Swollen Lymph Nodes        False        False           True   \n\n            Oral_Lesions  Solitary_Lesion  Swollen_Tonsils  HIV_Infection  \\\nPatient_ID                                                                  \nP0                  True            False             True          False   \nP1                  True            False            False           True   \nP2                 False            False            False           True   \nP3                 False             True             True           True   \nP4                 False            False             True           True   \n...                  ...              ...              ...            ...   \nP24995              True             True            False          False   \nP24996             False             True             True           True   \nP24997             False             True             True          False   \nP24998              True             True             True          False   \nP24999             False            False             True           True   \n\n              STI MonkeyPox  \nPatient_ID                   \nP0          False  Negative  \nP1          False  Positive  \nP2          False  Positive  \nP3          False  Positive  \nP4          False  Positive  \n...           ...       ...  \nP24995       True  Positive  \nP24996       True  Positive  \nP24997      False  Positive  \nP24998      False  Negative  \nP24999      False  Positive  \n\n[25000 rows x 10 columns]",
      "text/html": "<div>\n<style scoped>\n    .dataframe tbody tr th:only-of-type {\n        vertical-align: middle;\n    }\n\n    .dataframe tbody tr th {\n        vertical-align: top;\n    }\n\n    .dataframe thead th {\n        text-align: right;\n    }\n</style>\n<table border=\"1\" class=\"dataframe\">\n  <thead>\n    <tr style=\"text-align: right;\">\n      <th></th>\n      <th>Systemic_Illness</th>\n      <th>Rectal_Pain</th>\n      <th>Sore_Throat</th>\n      <th>Penile_Oedema</th>\n      <th>Oral_Lesions</th>\n      <th>Solitary_Lesion</th>\n      <th>Swollen_Tonsils</th>\n      <th>HIV_Infection</th>\n      <th>STI</th>\n      <th>MonkeyPox</th>\n    </tr>\n    <tr>\n      <th>Patient_ID</th>\n      <th></th>\n      <th></th>\n      <th></th>\n      <th></th>\n      <th></th>\n      <th></th>\n      <th></th>\n      <th></th>\n      <th></th>\n      <th></th>\n    </tr>\n  </thead>\n  <tbody>\n    <tr>\n      <th>P0</th>\n      <td>None</td>\n      <td>False</td>\n      <td>True</td>\n      <td>True</td>\n      <td>True</td>\n      <td>False</td>\n      <td>True</td>\n      <td>False</td>\n      <td>False</td>\n      <td>Negative</td>\n    </tr>\n    <tr>\n      <th>P1</th>\n      <td>Fever</td>\n      <td>True</td>\n      <td>False</td>\n      <td>True</td>\n      <td>True</td>\n      <td>False</td>\n      <td>False</td>\n      <td>True</td>\n      <td>False</td>\n      <td>Positive</td>\n    </tr>\n    <tr>\n      <th>P2</th>\n      <td>Fever</td>\n      <td>False</td>\n      <td>True</td>\n      <td>True</td>\n      <td>False</td>\n      <td>False</td>\n      <td>False</td>\n      <td>True</td>\n      <td>False</td>\n      <td>Positive</td>\n    </tr>\n    <tr>\n      <th>P3</th>\n      <td>None</td>\n      <td>True</td>\n      <td>False</td>\n      <td>False</td>\n      <td>False</td>\n      <td>True</td>\n      <td>True</td>\n      <td>True</td>\n      <td>False</td>\n      <td>Positive</td>\n    </tr>\n    <tr>\n      <th>P4</th>\n      <td>Swollen Lymph Nodes</td>\n      <td>True</td>\n      <td>True</td>\n      <td>True</td>\n      <td>False</td>\n      <td>False</td>\n      <td>True</td>\n      <td>True</td>\n      <td>False</td>\n      <td>Positive</td>\n    </tr>\n    <tr>\n      <th>...</th>\n      <td>...</td>\n      <td>...</td>\n      <td>...</td>\n      <td>...</td>\n      <td>...</td>\n      <td>...</td>\n      <td>...</td>\n      <td>...</td>\n      <td>...</td>\n      <td>...</td>\n    </tr>\n    <tr>\n      <th>P24995</th>\n      <td>None</td>\n      <td>True</td>\n      <td>True</td>\n      <td>False</td>\n      <td>True</td>\n      <td>True</td>\n      <td>False</td>\n      <td>False</td>\n      <td>True</td>\n      <td>Positive</td>\n    </tr>\n    <tr>\n      <th>P24996</th>\n      <td>Fever</td>\n      <td>False</td>\n      <td>True</td>\n      <td>True</td>\n      <td>False</td>\n      <td>True</td>\n      <td>True</td>\n      <td>True</td>\n      <td>True</td>\n      <td>Positive</td>\n    </tr>\n    <tr>\n      <th>P24997</th>\n      <td>None</td>\n      <td>True</td>\n      <td>True</td>\n      <td>False</td>\n      <td>False</td>\n      <td>True</td>\n      <td>True</td>\n      <td>False</td>\n      <td>False</td>\n      <td>Positive</td>\n    </tr>\n    <tr>\n      <th>P24998</th>\n      <td>Swollen Lymph Nodes</td>\n      <td>False</td>\n      <td>True</td>\n      <td>False</td>\n      <td>True</td>\n      <td>True</td>\n      <td>True</td>\n      <td>False</td>\n      <td>False</td>\n      <td>Negative</td>\n    </tr>\n    <tr>\n      <th>P24999</th>\n      <td>Swollen Lymph Nodes</td>\n      <td>False</td>\n      <td>False</td>\n      <td>True</td>\n      <td>False</td>\n      <td>False</td>\n      <td>True</td>\n      <td>True</td>\n      <td>False</td>\n      <td>Positive</td>\n    </tr>\n  </tbody>\n</table>\n<p>25000 rows × 10 columns</p>\n</div>"
     },
     "execution_count": 2,
     "metadata": {},
     "output_type": "execute_result"
    }
   ],
   "source": [
    "data"
   ],
   "metadata": {
    "collapsed": false
   }
  },
  {
   "cell_type": "markdown",
   "source": [
    "Print info about data (if null, occurrence, datatypes etc.)"
   ],
   "metadata": {
    "collapsed": false
   }
  },
  {
   "cell_type": "code",
   "execution_count": 3,
   "outputs": [
    {
     "name": "stdout",
     "output_type": "stream",
     "text": [
      "<class 'pandas.core.frame.DataFrame'>\n",
      "Index: 25000 entries, P0 to P24999\n",
      "Data columns (total 10 columns):\n",
      " #   Column            Non-Null Count  Dtype \n",
      "---  ------            --------------  ----- \n",
      " 0   Systemic_Illness  25000 non-null  object\n",
      " 1   Rectal_Pain       25000 non-null  bool  \n",
      " 2   Sore_Throat       25000 non-null  bool  \n",
      " 3   Penile_Oedema     25000 non-null  bool  \n",
      " 4   Oral_Lesions      25000 non-null  bool  \n",
      " 5   Solitary_Lesion   25000 non-null  bool  \n",
      " 6   Swollen_Tonsils   25000 non-null  bool  \n",
      " 7   HIV_Infection     25000 non-null  bool  \n",
      " 8   STI               25000 non-null  bool  \n",
      " 9   MonkeyPox         25000 non-null  object\n",
      "dtypes: bool(8), object(2)\n",
      "memory usage: 781.2+ KB\n"
     ]
    }
   ],
   "source": [
    "data.info()"
   ],
   "metadata": {
    "collapsed": false
   }
  },
  {
   "cell_type": "markdown",
   "source": [
    "Plots data, shows the distribution of MonkeyPox (how often it is negative or positive)"
   ],
   "metadata": {
    "collapsed": false
   }
  },
  {
   "cell_type": "code",
   "execution_count": 4,
   "outputs": [],
   "source": [
    "series = data[constants.MONKEY_POX].value_counts()\n",
    "\n",
    "plt.bar(series.index, series.values, color=constants.COLOR_PALETTE)\n",
    "plt.title('Cases of Monkey Pox seperated by positive and negative')\n",
    "plt.ylabel('Number of infections')\n",
    "plt.show()"
   ],
   "metadata": {
    "collapsed": false
   }
  },
  {
   "cell_type": "markdown",
   "source": [
    "Shows True/ False distribution of all symptoms, containing bool-values"
   ],
   "metadata": {
    "collapsed": false
   }
  },
  {
   "cell_type": "code",
   "execution_count": 5,
   "outputs": [
    {
     "name": "stderr",
     "output_type": "stream",
     "text": [
      "/tmp/ipykernel_45403/1047321577.py:6: FutureWarning: The frame.append method is deprecated and will be removed from pandas in a future version. Use pandas.concat instead.\n",
      "  df_symptoms_series= df_symptoms_series.append(series_symptom_lst).T\n"
     ]
    },
    {
     "data": {
      "text/plain": "       Rectal_Pain  Sore_Throat  Penile_Oedema  Oral_Lesions  Solitary_Lesion  \\\nFalse        12655        12446          12388         12514            12473   \nTrue         12345        12554          12612         12486            12527   \n\n       Swollen_Tonsils  HIV_Infection    STI  \nFalse            12467          12416  12554  \nTrue             12533          12584  12446  ",
      "text/html": "<div>\n<style scoped>\n    .dataframe tbody tr th:only-of-type {\n        vertical-align: middle;\n    }\n\n    .dataframe tbody tr th {\n        vertical-align: top;\n    }\n\n    .dataframe thead th {\n        text-align: right;\n    }\n</style>\n<table border=\"1\" class=\"dataframe\">\n  <thead>\n    <tr style=\"text-align: right;\">\n      <th></th>\n      <th>Rectal_Pain</th>\n      <th>Sore_Throat</th>\n      <th>Penile_Oedema</th>\n      <th>Oral_Lesions</th>\n      <th>Solitary_Lesion</th>\n      <th>Swollen_Tonsils</th>\n      <th>HIV_Infection</th>\n      <th>STI</th>\n    </tr>\n  </thead>\n  <tbody>\n    <tr>\n      <th>False</th>\n      <td>12655</td>\n      <td>12446</td>\n      <td>12388</td>\n      <td>12514</td>\n      <td>12473</td>\n      <td>12467</td>\n      <td>12416</td>\n      <td>12554</td>\n    </tr>\n    <tr>\n      <th>True</th>\n      <td>12345</td>\n      <td>12554</td>\n      <td>12612</td>\n      <td>12486</td>\n      <td>12527</td>\n      <td>12533</td>\n      <td>12584</td>\n      <td>12446</td>\n    </tr>\n  </tbody>\n</table>\n</div>"
     },
     "execution_count": 5,
     "metadata": {},
     "output_type": "execute_result"
    }
   ],
   "source": [
    "symptoms = data.iloc[:, 1:-1].columns.values.tolist()\n",
    "# Gets columns from dataframe and saves them as a list containing mulitple series\n",
    "series_symptom_lst = [data[symptom].value_counts() for symptom in symptoms]\n",
    "df_symptoms_series = pd.DataFrame()\n",
    "# Generate dataframe from list of series and transposes it\n",
    "df_symptoms_series= df_symptoms_series.append(series_symptom_lst).T\n",
    "#df_symptoms_series = pd.DataFrame.from_records(series_symptom_lst).T\n",
    "df_symptoms_series"
   ],
   "metadata": {
    "collapsed": false
   }
  },
  {
   "cell_type": "markdown",
   "source": [
    "Plots True/ False distribution of all symptoms, containing bool-values"
   ],
   "metadata": {
    "collapsed": false
   }
  },
  {
   "cell_type": "code",
   "execution_count": 6,
   "outputs": [],
   "source": [
    "pos_lst, negative_lst = utils.create_outcome_lists(symptoms, df_symptoms_series, False, True)\n",
    "# Plot pos_lst and negative_lst\n",
    "utils.plot_data(symptoms, pos_lst, negative_lst, 'Symptoms', 'Number of infections', 'outcome', 'True', 'False')"
   ],
   "metadata": {
    "collapsed": false
   }
  },
  {
   "cell_type": "markdown",
   "source": [],
   "metadata": {
    "collapsed": false
   }
  },
  {
   "cell_type": "markdown",
   "source": [
    "Plots data, when features, containing bool-values are True and MonkeyPox is Positive"
   ],
   "metadata": {
    "collapsed": false
   }
  },
  {
   "cell_type": "code",
   "execution_count": 7,
   "outputs": [],
   "source": [
    "symptoms_df = data.iloc[:, 1:]\n",
    "symptoms_df = utils.fetch_true_symptoms(symptoms, symptoms_df)\n",
    "\n",
    "pos_lst, negative_lst = utils.create_outcome_lists(symptoms, symptoms_df, constants.NEGATIVE, constants.POSITIVE)\n",
    "utils.plot_data(symptoms, pos_lst, negative_lst, 'Symptoms', 'Number of infections', 'outcome', constants.POSITIVE, constants.NEGATIVE )"
   ],
   "metadata": {
    "collapsed": false
   }
  },
  {
   "cell_type": "markdown",
   "source": [
    "Plots distribution of column Systemic_Illness, using a bar chart"
   ],
   "metadata": {
    "collapsed": false
   }
  },
  {
   "cell_type": "code",
   "execution_count": 8,
   "outputs": [],
   "source": [
    "sns.countplot(x=data[constants.SYSTEMIC_ILLNESS], hue=data[constants.MONKEY_POX], palette=constants.COLOR_PALETTE)\n",
    "plt.show()"
   ],
   "metadata": {
    "collapsed": false
   }
  },
  {
   "cell_type": "markdown",
   "source": [
    "Shows correlations between the different features"
   ],
   "metadata": {
    "collapsed": false
   }
  },
  {
   "cell_type": "code",
   "execution_count": 9,
   "outputs": [
    {
     "data": {
      "text/plain": "                 Rectal_Pain  Sore_Throat  Penile_Oedema  Oral_Lesions  \\\nRectal_Pain         1.000000     0.006214       0.005312      0.007747   \nSore_Throat         0.006214     1.000000       0.009082     -0.000795   \nPenile_Oedema       0.005312     0.009082       1.000000      0.003850   \nOral_Lesions        0.007747    -0.000795       0.003850      1.000000   \nSolitary_Lesion     0.001147    -0.003609       0.002781     -0.005198   \nSwollen_Tonsils     0.002113    -0.002011       0.000536     -0.007757   \nHIV_Infection       0.005764     0.000771       0.003620     -0.012153   \nSTI                 0.000666    -0.001901      -0.005722     -0.002725   \n\n                 Solitary_Lesion  Swollen_Tonsils  HIV_Infection       STI  \nRectal_Pain             0.001147         0.002113       0.005764  0.000666  \nSore_Throat            -0.003609        -0.002011       0.000771 -0.001901  \nPenile_Oedema           0.002781         0.000536       0.003620 -0.005722  \nOral_Lesions           -0.005198        -0.007757      -0.012153 -0.002725  \nSolitary_Lesion         1.000000         0.002874      -0.002335  0.009849  \nSwollen_Tonsils         0.002874         1.000000      -0.004258 -0.006469  \nHIV_Infection          -0.002335        -0.004258       1.000000  0.001309  \nSTI                     0.009849        -0.006469       0.001309  1.000000  ",
      "text/html": "<div>\n<style scoped>\n    .dataframe tbody tr th:only-of-type {\n        vertical-align: middle;\n    }\n\n    .dataframe tbody tr th {\n        vertical-align: top;\n    }\n\n    .dataframe thead th {\n        text-align: right;\n    }\n</style>\n<table border=\"1\" class=\"dataframe\">\n  <thead>\n    <tr style=\"text-align: right;\">\n      <th></th>\n      <th>Rectal_Pain</th>\n      <th>Sore_Throat</th>\n      <th>Penile_Oedema</th>\n      <th>Oral_Lesions</th>\n      <th>Solitary_Lesion</th>\n      <th>Swollen_Tonsils</th>\n      <th>HIV_Infection</th>\n      <th>STI</th>\n    </tr>\n  </thead>\n  <tbody>\n    <tr>\n      <th>Rectal_Pain</th>\n      <td>1.000000</td>\n      <td>0.006214</td>\n      <td>0.005312</td>\n      <td>0.007747</td>\n      <td>0.001147</td>\n      <td>0.002113</td>\n      <td>0.005764</td>\n      <td>0.000666</td>\n    </tr>\n    <tr>\n      <th>Sore_Throat</th>\n      <td>0.006214</td>\n      <td>1.000000</td>\n      <td>0.009082</td>\n      <td>-0.000795</td>\n      <td>-0.003609</td>\n      <td>-0.002011</td>\n      <td>0.000771</td>\n      <td>-0.001901</td>\n    </tr>\n    <tr>\n      <th>Penile_Oedema</th>\n      <td>0.005312</td>\n      <td>0.009082</td>\n      <td>1.000000</td>\n      <td>0.003850</td>\n      <td>0.002781</td>\n      <td>0.000536</td>\n      <td>0.003620</td>\n      <td>-0.005722</td>\n    </tr>\n    <tr>\n      <th>Oral_Lesions</th>\n      <td>0.007747</td>\n      <td>-0.000795</td>\n      <td>0.003850</td>\n      <td>1.000000</td>\n      <td>-0.005198</td>\n      <td>-0.007757</td>\n      <td>-0.012153</td>\n      <td>-0.002725</td>\n    </tr>\n    <tr>\n      <th>Solitary_Lesion</th>\n      <td>0.001147</td>\n      <td>-0.003609</td>\n      <td>0.002781</td>\n      <td>-0.005198</td>\n      <td>1.000000</td>\n      <td>0.002874</td>\n      <td>-0.002335</td>\n      <td>0.009849</td>\n    </tr>\n    <tr>\n      <th>Swollen_Tonsils</th>\n      <td>0.002113</td>\n      <td>-0.002011</td>\n      <td>0.000536</td>\n      <td>-0.007757</td>\n      <td>0.002874</td>\n      <td>1.000000</td>\n      <td>-0.004258</td>\n      <td>-0.006469</td>\n    </tr>\n    <tr>\n      <th>HIV_Infection</th>\n      <td>0.005764</td>\n      <td>0.000771</td>\n      <td>0.003620</td>\n      <td>-0.012153</td>\n      <td>-0.002335</td>\n      <td>-0.004258</td>\n      <td>1.000000</td>\n      <td>0.001309</td>\n    </tr>\n    <tr>\n      <th>STI</th>\n      <td>0.000666</td>\n      <td>-0.001901</td>\n      <td>-0.005722</td>\n      <td>-0.002725</td>\n      <td>0.009849</td>\n      <td>-0.006469</td>\n      <td>0.001309</td>\n      <td>1.000000</td>\n    </tr>\n  </tbody>\n</table>\n</div>"
     },
     "execution_count": 9,
     "metadata": {},
     "output_type": "execute_result"
    }
   ],
   "source": [
    "df_corr  = data.corr(numeric_only=True)\n",
    "df_corr"
   ],
   "metadata": {
    "collapsed": false
   }
  },
  {
   "cell_type": "markdown",
   "source": [
    "Plots correlation-dataframe, by using a heatmap"
   ],
   "metadata": {
    "collapsed": false
   }
  },
  {
   "cell_type": "code",
   "execution_count": 10,
   "outputs": [],
   "source": [
    "sns.heatmap(df_corr, annot=True, vmin=0.5, vmax=0.7)\n",
    "plt.show()"
   ],
   "metadata": {
    "collapsed": false
   }
  },
  {
   "cell_type": "markdown",
   "source": [
    "Alters dataframe, values of the feature: Systemic_Illness are added as new columns"
   ],
   "metadata": {
    "collapsed": false
   }
  },
  {
   "cell_type": "code",
   "execution_count": 11,
   "outputs": [
    {
     "name": "stderr",
     "output_type": "stream",
     "text": [
      "/home/linus/Daten_Linus/Studium/IW7/Data_Mining/Project_Data_Mining/utils.py:53: SettingWithCopyWarning: \n",
      "A value is trying to be set on a copy of a slice from a DataFrame\n",
      "\n",
      "See the caveats in the documentation: https://pandas.pydata.org/pandas-docs/stable/user_guide/indexing.html#returning-a-view-versus-a-copy\n",
      "  df_concat[col][index] = True\n"
     ]
    },
    {
     "data": {
      "text/plain": "        Fever   None  Swollen Lymph Nodes  Muscle Aches and Pain  Rectal_Pain  \\\nP1       True  False                False                  False         True   \nP2       True  False                False                  False        False   \nP3      False   True                False                  False         True   \nP4      False  False                 True                  False         True   \nP6       True  False                False                  False        False   \n...       ...    ...                  ...                    ...          ...   \nP24994   True  False                False                  False        False   \nP24995  False   True                False                  False         True   \nP24996   True  False                False                  False        False   \nP24997  False   True                False                  False         True   \nP24999  False  False                 True                  False        False   \n\n        Sore_Throat  Penile_Oedema  Oral_Lesions  Solitary_Lesion  \\\nP1            False           True          True            False   \nP2             True           True         False            False   \nP3            False          False         False             True   \nP4             True           True         False            False   \nP6             True          False         False            False   \n...             ...            ...           ...              ...   \nP24994         True           True         False            False   \nP24995         True          False          True             True   \nP24996         True           True         False             True   \nP24997         True          False         False             True   \nP24999        False           True         False            False   \n\n        Swollen_Tonsils  HIV_Infection    STI  \nP1                False           True  False  \nP2                False           True  False  \nP3                 True           True  False  \nP4                 True           True  False  \nP6                False           True  False  \n...                 ...            ...    ...  \nP24994            False           True   True  \nP24995            False          False   True  \nP24996             True           True   True  \nP24997             True          False  False  \nP24999             True           True  False  \n\n[15909 rows x 12 columns]",
      "text/html": "<div>\n<style scoped>\n    .dataframe tbody tr th:only-of-type {\n        vertical-align: middle;\n    }\n\n    .dataframe tbody tr th {\n        vertical-align: top;\n    }\n\n    .dataframe thead th {\n        text-align: right;\n    }\n</style>\n<table border=\"1\" class=\"dataframe\">\n  <thead>\n    <tr style=\"text-align: right;\">\n      <th></th>\n      <th>Fever</th>\n      <th>None</th>\n      <th>Swollen Lymph Nodes</th>\n      <th>Muscle Aches and Pain</th>\n      <th>Rectal_Pain</th>\n      <th>Sore_Throat</th>\n      <th>Penile_Oedema</th>\n      <th>Oral_Lesions</th>\n      <th>Solitary_Lesion</th>\n      <th>Swollen_Tonsils</th>\n      <th>HIV_Infection</th>\n      <th>STI</th>\n    </tr>\n  </thead>\n  <tbody>\n    <tr>\n      <th>P1</th>\n      <td>True</td>\n      <td>False</td>\n      <td>False</td>\n      <td>False</td>\n      <td>True</td>\n      <td>False</td>\n      <td>True</td>\n      <td>True</td>\n      <td>False</td>\n      <td>False</td>\n      <td>True</td>\n      <td>False</td>\n    </tr>\n    <tr>\n      <th>P2</th>\n      <td>True</td>\n      <td>False</td>\n      <td>False</td>\n      <td>False</td>\n      <td>False</td>\n      <td>True</td>\n      <td>True</td>\n      <td>False</td>\n      <td>False</td>\n      <td>False</td>\n      <td>True</td>\n      <td>False</td>\n    </tr>\n    <tr>\n      <th>P3</th>\n      <td>False</td>\n      <td>True</td>\n      <td>False</td>\n      <td>False</td>\n      <td>True</td>\n      <td>False</td>\n      <td>False</td>\n      <td>False</td>\n      <td>True</td>\n      <td>True</td>\n      <td>True</td>\n      <td>False</td>\n    </tr>\n    <tr>\n      <th>P4</th>\n      <td>False</td>\n      <td>False</td>\n      <td>True</td>\n      <td>False</td>\n      <td>True</td>\n      <td>True</td>\n      <td>True</td>\n      <td>False</td>\n      <td>False</td>\n      <td>True</td>\n      <td>True</td>\n      <td>False</td>\n    </tr>\n    <tr>\n      <th>P6</th>\n      <td>True</td>\n      <td>False</td>\n      <td>False</td>\n      <td>False</td>\n      <td>False</td>\n      <td>True</td>\n      <td>False</td>\n      <td>False</td>\n      <td>False</td>\n      <td>False</td>\n      <td>True</td>\n      <td>False</td>\n    </tr>\n    <tr>\n      <th>...</th>\n      <td>...</td>\n      <td>...</td>\n      <td>...</td>\n      <td>...</td>\n      <td>...</td>\n      <td>...</td>\n      <td>...</td>\n      <td>...</td>\n      <td>...</td>\n      <td>...</td>\n      <td>...</td>\n      <td>...</td>\n    </tr>\n    <tr>\n      <th>P24994</th>\n      <td>True</td>\n      <td>False</td>\n      <td>False</td>\n      <td>False</td>\n      <td>False</td>\n      <td>True</td>\n      <td>True</td>\n      <td>False</td>\n      <td>False</td>\n      <td>False</td>\n      <td>True</td>\n      <td>True</td>\n    </tr>\n    <tr>\n      <th>P24995</th>\n      <td>False</td>\n      <td>True</td>\n      <td>False</td>\n      <td>False</td>\n      <td>True</td>\n      <td>True</td>\n      <td>False</td>\n      <td>True</td>\n      <td>True</td>\n      <td>False</td>\n      <td>False</td>\n      <td>True</td>\n    </tr>\n    <tr>\n      <th>P24996</th>\n      <td>True</td>\n      <td>False</td>\n      <td>False</td>\n      <td>False</td>\n      <td>False</td>\n      <td>True</td>\n      <td>True</td>\n      <td>False</td>\n      <td>True</td>\n      <td>True</td>\n      <td>True</td>\n      <td>True</td>\n    </tr>\n    <tr>\n      <th>P24997</th>\n      <td>False</td>\n      <td>True</td>\n      <td>False</td>\n      <td>False</td>\n      <td>True</td>\n      <td>True</td>\n      <td>False</td>\n      <td>False</td>\n      <td>True</td>\n      <td>True</td>\n      <td>False</td>\n      <td>False</td>\n    </tr>\n    <tr>\n      <th>P24999</th>\n      <td>False</td>\n      <td>False</td>\n      <td>True</td>\n      <td>False</td>\n      <td>False</td>\n      <td>False</td>\n      <td>True</td>\n      <td>False</td>\n      <td>False</td>\n      <td>True</td>\n      <td>True</td>\n      <td>False</td>\n    </tr>\n  </tbody>\n</table>\n<p>15909 rows × 12 columns</p>\n</div>"
     },
     "execution_count": 11,
     "metadata": {},
     "output_type": "execute_result"
    }
   ],
   "source": [
    "# Dataframe, containing the values from feature: Systemic_Illness as columns\n",
    "symptoms_df = utils.clean_data(data)\n",
    "symptoms_df"
   ],
   "metadata": {
    "collapsed": false
   }
  },
  {
   "cell_type": "markdown",
   "source": [
    "Calculates lift, confidence, support etc. for all possible feature combinations"
   ],
   "metadata": {
    "collapsed": false
   }
  },
  {
   "cell_type": "code",
   "execution_count": 12,
   "outputs": [
    {
     "data": {
      "text/plain": "                                             antecedents  \\\n20250  (STI, None, Swollen_Tonsils, Oral_Lesions, Pen...   \n36019  (STI, Swollen Lymph Nodes, Swollen_Tonsils, Or...   \n19692  (STI, None, Sore_Throat, Oral_Lesions, HIV_Inf...   \n31115  (STI, Fever, Sore_Throat, Oral_Lesions, Penile...   \n20002  (Solitary_Lesion, None, Swollen_Tonsils, Oral_...   \n...                                                  ...   \n37903                                      (Rectal_Pain)   \n37776                                    (HIV_Infection)   \n36642                                    (HIV_Infection)   \n37902                                    (HIV_Infection)   \n34376                                    (HIV_Infection)   \n\n                                             consequents  antecedent support  \\\n20250                                      (Rectal_Pain)            0.015086   \n36019                                      (Sore_Throat)            0.010246   \n19692                                      (Rectal_Pain)            0.014646   \n31115                                  (Solitary_Lesion)            0.010874   \n20002                                      (Rectal_Pain)            0.013452   \n...                                                  ...                 ...   \n37903  (STI, Swollen_Tonsils, Sore_Throat, Muscle Ach...            0.546986   \n37776  (STI, Sore_Throat, Muscle Aches and Pain, Oral...            0.558615   \n36642  (STI, Swollen Lymph Nodes, Swollen_Tonsils, Or...            0.558615   \n37902  (STI, Swollen_Tonsils, Sore_Throat, Muscle Ach...            0.558615   \n34376  (STI, Solitary_Lesion, None, Oral_Lesions, Pen...            0.558615   \n\n       consequent support   support  confidence      lift  leverage  \\\n20250            0.546986  0.009114    0.604167  1.104538  0.000863   \n36019            0.526117  0.006160    0.601227  1.142762  0.000770   \n19692            0.546986  0.008737    0.596567  1.090643  0.000726   \n31115            0.515243  0.006474    0.595376  1.155524  0.000871   \n20002            0.546986  0.007983    0.593458  1.084960  0.000625   \n...                   ...       ...         ...       ...       ...   \n37903            0.009491  0.005029    0.009193  0.968583 -0.000163   \n37776            0.009303  0.005091    0.009114  0.979740 -0.000105   \n36642            0.010120  0.005029    0.009002  0.889512 -0.000625   \n37902            0.010057  0.005029    0.009002  0.895071 -0.000589   \n34376            0.009240  0.005029    0.009002  0.974227 -0.000133   \n\n       conviction  \n20250    1.144456  \n36019    1.188352  \n19692    1.122896  \n31115    1.198042  \n20002    1.114310  \n...           ...  \n37903    0.999699  \n37776    0.999810  \n36642    0.998872  \n37902    0.998935  \n34376    0.999760  \n\n[39166 rows x 9 columns]",
      "text/html": "<div>\n<style scoped>\n    .dataframe tbody tr th:only-of-type {\n        vertical-align: middle;\n    }\n\n    .dataframe tbody tr th {\n        vertical-align: top;\n    }\n\n    .dataframe thead th {\n        text-align: right;\n    }\n</style>\n<table border=\"1\" class=\"dataframe\">\n  <thead>\n    <tr style=\"text-align: right;\">\n      <th></th>\n      <th>antecedents</th>\n      <th>consequents</th>\n      <th>antecedent support</th>\n      <th>consequent support</th>\n      <th>support</th>\n      <th>confidence</th>\n      <th>lift</th>\n      <th>leverage</th>\n      <th>conviction</th>\n    </tr>\n  </thead>\n  <tbody>\n    <tr>\n      <th>20250</th>\n      <td>(STI, None, Swollen_Tonsils, Oral_Lesions, Pen...</td>\n      <td>(Rectal_Pain)</td>\n      <td>0.015086</td>\n      <td>0.546986</td>\n      <td>0.009114</td>\n      <td>0.604167</td>\n      <td>1.104538</td>\n      <td>0.000863</td>\n      <td>1.144456</td>\n    </tr>\n    <tr>\n      <th>36019</th>\n      <td>(STI, Swollen Lymph Nodes, Swollen_Tonsils, Or...</td>\n      <td>(Sore_Throat)</td>\n      <td>0.010246</td>\n      <td>0.526117</td>\n      <td>0.006160</td>\n      <td>0.601227</td>\n      <td>1.142762</td>\n      <td>0.000770</td>\n      <td>1.188352</td>\n    </tr>\n    <tr>\n      <th>19692</th>\n      <td>(STI, None, Sore_Throat, Oral_Lesions, HIV_Inf...</td>\n      <td>(Rectal_Pain)</td>\n      <td>0.014646</td>\n      <td>0.546986</td>\n      <td>0.008737</td>\n      <td>0.596567</td>\n      <td>1.090643</td>\n      <td>0.000726</td>\n      <td>1.122896</td>\n    </tr>\n    <tr>\n      <th>31115</th>\n      <td>(STI, Fever, Sore_Throat, Oral_Lesions, Penile...</td>\n      <td>(Solitary_Lesion)</td>\n      <td>0.010874</td>\n      <td>0.515243</td>\n      <td>0.006474</td>\n      <td>0.595376</td>\n      <td>1.155524</td>\n      <td>0.000871</td>\n      <td>1.198042</td>\n    </tr>\n    <tr>\n      <th>20002</th>\n      <td>(Solitary_Lesion, None, Swollen_Tonsils, Oral_...</td>\n      <td>(Rectal_Pain)</td>\n      <td>0.013452</td>\n      <td>0.546986</td>\n      <td>0.007983</td>\n      <td>0.593458</td>\n      <td>1.084960</td>\n      <td>0.000625</td>\n      <td>1.114310</td>\n    </tr>\n    <tr>\n      <th>...</th>\n      <td>...</td>\n      <td>...</td>\n      <td>...</td>\n      <td>...</td>\n      <td>...</td>\n      <td>...</td>\n      <td>...</td>\n      <td>...</td>\n      <td>...</td>\n    </tr>\n    <tr>\n      <th>37903</th>\n      <td>(Rectal_Pain)</td>\n      <td>(STI, Swollen_Tonsils, Sore_Throat, Muscle Ach...</td>\n      <td>0.546986</td>\n      <td>0.009491</td>\n      <td>0.005029</td>\n      <td>0.009193</td>\n      <td>0.968583</td>\n      <td>-0.000163</td>\n      <td>0.999699</td>\n    </tr>\n    <tr>\n      <th>37776</th>\n      <td>(HIV_Infection)</td>\n      <td>(STI, Sore_Throat, Muscle Aches and Pain, Oral...</td>\n      <td>0.558615</td>\n      <td>0.009303</td>\n      <td>0.005091</td>\n      <td>0.009114</td>\n      <td>0.979740</td>\n      <td>-0.000105</td>\n      <td>0.999810</td>\n    </tr>\n    <tr>\n      <th>36642</th>\n      <td>(HIV_Infection)</td>\n      <td>(STI, Swollen Lymph Nodes, Swollen_Tonsils, Or...</td>\n      <td>0.558615</td>\n      <td>0.010120</td>\n      <td>0.005029</td>\n      <td>0.009002</td>\n      <td>0.889512</td>\n      <td>-0.000625</td>\n      <td>0.998872</td>\n    </tr>\n    <tr>\n      <th>37902</th>\n      <td>(HIV_Infection)</td>\n      <td>(STI, Swollen_Tonsils, Sore_Throat, Muscle Ach...</td>\n      <td>0.558615</td>\n      <td>0.010057</td>\n      <td>0.005029</td>\n      <td>0.009002</td>\n      <td>0.895071</td>\n      <td>-0.000589</td>\n      <td>0.998935</td>\n    </tr>\n    <tr>\n      <th>34376</th>\n      <td>(HIV_Infection)</td>\n      <td>(STI, Solitary_Lesion, None, Oral_Lesions, Pen...</td>\n      <td>0.558615</td>\n      <td>0.009240</td>\n      <td>0.005029</td>\n      <td>0.009002</td>\n      <td>0.974227</td>\n      <td>-0.000133</td>\n      <td>0.999760</td>\n    </tr>\n  </tbody>\n</table>\n<p>39166 rows × 9 columns</p>\n</div>"
     },
     "execution_count": 12,
     "metadata": {},
     "output_type": "execute_result"
    }
   ],
   "source": [
    "frequency = apriori(symptoms_df, min_support=0.005, use_colnames=True)\n",
    "rules = association_rules(frequency, metric='lift')\n",
    "rules.sort_values('confidence', ascending=False, inplace=True)\n",
    "rules"
   ],
   "metadata": {
    "collapsed": false
   }
  },
  {
   "cell_type": "markdown",
   "source": [
    "Plots data, using pairplot"
   ],
   "metadata": {
    "collapsed": false
   }
  },
  {
   "cell_type": "code",
   "execution_count": null,
   "outputs": [],
   "source": [
    "#sns.pairplot(data.head(100), hue='MonkeyPox')"
   ],
   "metadata": {
    "collapsed": false
   }
  },
  {
   "cell_type": "markdown",
   "source": [
    "Calculates accuracy, using GaussianNB()"
   ],
   "metadata": {
    "collapsed": false
   }
  },
  {
   "cell_type": "code",
   "execution_count": 13,
   "outputs": [
    {
     "name": "stdout",
     "output_type": "stream",
     "text": [
      "Accuracy: 67.92\n",
      "R² of train-data: 0.68\n",
      "R² of test-data: 0.68\n"
     ]
    }
   ],
   "source": [
    "X_train, X_test, y_train, y_test = train_test_split(X_data, target)\n",
    "\n",
    "model = GaussianNB()\n",
    "model.fit(X_train, y_train)\n",
    "y_prediction = model.predict(X_test)\n",
    "print('Accuracy: {:.2f}'.format(100 * accuracy_score(y_test, y_prediction)))\n",
    "print('R² of train-data: {:.2f}'.format(model.score(X_train, y_train)))\n",
    "print('R² of test-data: {:.2f}'.format(model.score(X_test, y_test)))"
   ],
   "metadata": {
    "collapsed": false
   }
  },
  {
   "cell_type": "markdown",
   "source": [
    "Creates and plots DecisionTree, by using entropy"
   ],
   "metadata": {
    "collapsed": false
   }
  },
  {
   "cell_type": "code",
   "execution_count": 14,
   "outputs": [
    {
     "data": {
      "image/svg+xml": "<?xml version=\"1.0\" encoding=\"UTF-8\" standalone=\"no\"?>\n<!DOCTYPE svg PUBLIC \"-//W3C//DTD SVG 1.1//EN\"\n \"http://www.w3.org/Graphics/SVG/1.1/DTD/svg11.dtd\">\n<!-- Generated by graphviz version 2.43.0 (0)\n -->\n<!-- Title: Tree Pages: 1 -->\n<svg width=\"1387pt\" height=\"373pt\"\n viewBox=\"0.00 0.00 1387.00 373.00\" xmlns=\"http://www.w3.org/2000/svg\" xmlns:xlink=\"http://www.w3.org/1999/xlink\">\n<g id=\"graph0\" class=\"graph\" transform=\"scale(1 1) rotate(0) translate(4 369)\">\n<title>Tree</title>\n<polygon fill=\"white\" stroke=\"transparent\" points=\"-4,4 -4,-369 1383,-369 1383,4 -4,4\"/>\n<!-- 0 -->\n<g id=\"node1\" class=\"node\">\n<title>0</title>\n<polygon fill=\"#aad5f4\" stroke=\"black\" points=\"747.5,-365 571.5,-365 571.5,-297 747.5,-297 747.5,-365\"/>\n<text text-anchor=\"middle\" x=\"659.5\" y=\"-349.8\" font-family=\"Helvetica,sans-Serif\" font-size=\"14.00\">HIV_Infection &lt;= 0.5</text>\n<text text-anchor=\"middle\" x=\"659.5\" y=\"-334.8\" font-family=\"Helvetica,sans-Serif\" font-size=\"14.00\">entropy = 0.945</text>\n<text text-anchor=\"middle\" x=\"659.5\" y=\"-319.8\" font-family=\"Helvetica,sans-Serif\" font-size=\"14.00\">samples = 17500</text>\n<text text-anchor=\"middle\" x=\"659.5\" y=\"-304.8\" font-family=\"Helvetica,sans-Serif\" font-size=\"14.00\">value = [6341, 11159]</text>\n</g>\n<!-- 1 -->\n<g id=\"node2\" class=\"node\">\n<title>1</title>\n<polygon fill=\"#cfe7f9\" stroke=\"black\" points=\"646,-261 479,-261 479,-193 646,-193 646,-261\"/>\n<text text-anchor=\"middle\" x=\"562.5\" y=\"-245.8\" font-family=\"Helvetica,sans-Serif\" font-size=\"14.00\">Rectal_Pain &lt;= 0.5</text>\n<text text-anchor=\"middle\" x=\"562.5\" y=\"-230.8\" font-family=\"Helvetica,sans-Serif\" font-size=\"14.00\">entropy = 0.986</text>\n<text text-anchor=\"middle\" x=\"562.5\" y=\"-215.8\" font-family=\"Helvetica,sans-Serif\" font-size=\"14.00\">samples = 8648</text>\n<text text-anchor=\"middle\" x=\"562.5\" y=\"-200.8\" font-family=\"Helvetica,sans-Serif\" font-size=\"14.00\">value = [3733, 4915]</text>\n</g>\n<!-- 0&#45;&gt;1 -->\n<g id=\"edge1\" class=\"edge\">\n<title>0&#45;&gt;1</title>\n<path fill=\"none\" stroke=\"black\" d=\"M628.01,-296.88C619.45,-287.89 610.09,-278.04 601.18,-268.68\"/>\n<polygon fill=\"black\" stroke=\"black\" points=\"603.59,-266.13 594.17,-261.3 598.52,-270.96 603.59,-266.13\"/>\n<text text-anchor=\"middle\" x=\"593.54\" y=\"-282.59\" font-family=\"Helvetica,sans-Serif\" font-size=\"14.00\">True</text>\n</g>\n<!-- 8 -->\n<g id=\"node9\" class=\"node\">\n<title>8</title>\n<polygon fill=\"#8cc6f0\" stroke=\"black\" points=\"905,-261 738,-261 738,-193 905,-193 905,-261\"/>\n<text text-anchor=\"middle\" x=\"821.5\" y=\"-245.8\" font-family=\"Helvetica,sans-Serif\" font-size=\"14.00\">Rectal_Pain &lt;= 0.5</text>\n<text text-anchor=\"middle\" x=\"821.5\" y=\"-230.8\" font-family=\"Helvetica,sans-Serif\" font-size=\"14.00\">entropy = 0.875</text>\n<text text-anchor=\"middle\" x=\"821.5\" y=\"-215.8\" font-family=\"Helvetica,sans-Serif\" font-size=\"14.00\">samples = 8852</text>\n<text text-anchor=\"middle\" x=\"821.5\" y=\"-200.8\" font-family=\"Helvetica,sans-Serif\" font-size=\"14.00\">value = [2608, 6244]</text>\n</g>\n<!-- 0&#45;&gt;8 -->\n<g id=\"edge8\" class=\"edge\">\n<title>0&#45;&gt;8</title>\n<path fill=\"none\" stroke=\"black\" d=\"M712.1,-296.88C727.45,-287.21 744.37,-276.56 760.21,-266.59\"/>\n<polygon fill=\"black\" stroke=\"black\" points=\"762.29,-269.41 768.89,-261.12 758.56,-263.49 762.29,-269.41\"/>\n<text text-anchor=\"middle\" x=\"763.35\" y=\"-281.8\" font-family=\"Helvetica,sans-Serif\" font-size=\"14.00\">False</text>\n</g>\n<!-- 2 -->\n<g id=\"node3\" class=\"node\">\n<title>2</title>\n<polygon fill=\"#fef9f6\" stroke=\"black\" points=\"352.5,-157 166.5,-157 166.5,-89 352.5,-89 352.5,-157\"/>\n<text text-anchor=\"middle\" x=\"259.5\" y=\"-141.8\" font-family=\"Helvetica,sans-Serif\" font-size=\"14.00\">Systemic_Illness &lt;= 3.5</text>\n<text text-anchor=\"middle\" x=\"259.5\" y=\"-126.8\" font-family=\"Helvetica,sans-Serif\" font-size=\"14.00\">entropy = 1.0</text>\n<text text-anchor=\"middle\" x=\"259.5\" y=\"-111.8\" font-family=\"Helvetica,sans-Serif\" font-size=\"14.00\">samples = 4380</text>\n<text text-anchor=\"middle\" x=\"259.5\" y=\"-96.8\" font-family=\"Helvetica,sans-Serif\" font-size=\"14.00\">value = [2241, 2139]</text>\n</g>\n<!-- 1&#45;&gt;2 -->\n<g id=\"edge2\" class=\"edge\">\n<title>1&#45;&gt;2</title>\n<path fill=\"none\" stroke=\"black\" d=\"M478.9,-197.86C442.81,-185.71 400.24,-171.38 362.24,-158.59\"/>\n<polygon fill=\"black\" stroke=\"black\" points=\"363.28,-155.24 352.69,-155.37 361.05,-161.88 363.28,-155.24\"/>\n</g>\n<!-- 5 -->\n<g id=\"node6\" class=\"node\">\n<title>5</title>\n<polygon fill=\"#a3d2f3\" stroke=\"black\" points=\"646,-157 479,-157 479,-89 646,-89 646,-157\"/>\n<text text-anchor=\"middle\" x=\"562.5\" y=\"-141.8\" font-family=\"Helvetica,sans-Serif\" font-size=\"14.00\">STI &lt;= 0.5</text>\n<text text-anchor=\"middle\" x=\"562.5\" y=\"-126.8\" font-family=\"Helvetica,sans-Serif\" font-size=\"14.00\">entropy = 0.934</text>\n<text text-anchor=\"middle\" x=\"562.5\" y=\"-111.8\" font-family=\"Helvetica,sans-Serif\" font-size=\"14.00\">samples = 4268</text>\n<text text-anchor=\"middle\" x=\"562.5\" y=\"-96.8\" font-family=\"Helvetica,sans-Serif\" font-size=\"14.00\">value = [1492, 2776]</text>\n</g>\n<!-- 1&#45;&gt;5 -->\n<g id=\"edge5\" class=\"edge\">\n<title>1&#45;&gt;5</title>\n<path fill=\"none\" stroke=\"black\" d=\"M562.5,-192.88C562.5,-184.78 562.5,-175.98 562.5,-167.47\"/>\n<polygon fill=\"black\" stroke=\"black\" points=\"566,-167.3 562.5,-157.3 559,-167.3 566,-167.3\"/>\n</g>\n<!-- 3 -->\n<g id=\"node4\" class=\"node\">\n<title>3</title>\n<polygon fill=\"#e1f0fb\" stroke=\"black\" points=\"167,-53 0,-53 0,0 167,0 167,-53\"/>\n<text text-anchor=\"middle\" x=\"83.5\" y=\"-37.8\" font-family=\"Helvetica,sans-Serif\" font-size=\"14.00\">entropy = 0.995</text>\n<text text-anchor=\"middle\" x=\"83.5\" y=\"-22.8\" font-family=\"Helvetica,sans-Serif\" font-size=\"14.00\">samples = 3323</text>\n<text text-anchor=\"middle\" x=\"83.5\" y=\"-7.8\" font-family=\"Helvetica,sans-Serif\" font-size=\"14.00\">value = [1525, 1798]</text>\n</g>\n<!-- 2&#45;&gt;3 -->\n<g id=\"edge3\" class=\"edge\">\n<title>2&#45;&gt;3</title>\n<path fill=\"none\" stroke=\"black\" d=\"M197.94,-88.95C179.12,-78.84 158.51,-67.78 140.04,-57.86\"/>\n<polygon fill=\"black\" stroke=\"black\" points=\"141.62,-54.73 131.15,-53.09 138.31,-60.9 141.62,-54.73\"/>\n</g>\n<!-- 4 -->\n<g id=\"node5\" class=\"node\">\n<title>4</title>\n<polygon fill=\"#f1bd97\" stroke=\"black\" points=\"334,-53 185,-53 185,0 334,0 334,-53\"/>\n<text text-anchor=\"middle\" x=\"259.5\" y=\"-37.8\" font-family=\"Helvetica,sans-Serif\" font-size=\"14.00\">entropy = 0.907</text>\n<text text-anchor=\"middle\" x=\"259.5\" y=\"-22.8\" font-family=\"Helvetica,sans-Serif\" font-size=\"14.00\">samples = 1057</text>\n<text text-anchor=\"middle\" x=\"259.5\" y=\"-7.8\" font-family=\"Helvetica,sans-Serif\" font-size=\"14.00\">value = [716, 341]</text>\n</g>\n<!-- 2&#45;&gt;4 -->\n<g id=\"edge4\" class=\"edge\">\n<title>2&#45;&gt;4</title>\n<path fill=\"none\" stroke=\"black\" d=\"M259.5,-88.95C259.5,-80.72 259.5,-71.85 259.5,-63.48\"/>\n<polygon fill=\"black\" stroke=\"black\" points=\"263,-63.24 259.5,-53.24 256,-63.24 263,-63.24\"/>\n</g>\n<!-- 6 -->\n<g id=\"node7\" class=\"node\">\n<title>6</title>\n<polygon fill=\"#c3e1f7\" stroke=\"black\" points=\"509.5,-53 351.5,-53 351.5,0 509.5,0 509.5,-53\"/>\n<text text-anchor=\"middle\" x=\"430.5\" y=\"-37.8\" font-family=\"Helvetica,sans-Serif\" font-size=\"14.00\">entropy = 0.977</text>\n<text text-anchor=\"middle\" x=\"430.5\" y=\"-22.8\" font-family=\"Helvetica,sans-Serif\" font-size=\"14.00\">samples = 2115</text>\n<text text-anchor=\"middle\" x=\"430.5\" y=\"-7.8\" font-family=\"Helvetica,sans-Serif\" font-size=\"14.00\">value = [869, 1246]</text>\n</g>\n<!-- 5&#45;&gt;6 -->\n<g id=\"edge6\" class=\"edge\">\n<title>5&#45;&gt;6</title>\n<path fill=\"none\" stroke=\"black\" d=\"M516.33,-88.95C502.79,-79.25 488.01,-68.68 474.6,-59.07\"/>\n<polygon fill=\"black\" stroke=\"black\" points=\"476.62,-56.21 466.45,-53.24 472.54,-61.9 476.62,-56.21\"/>\n</g>\n<!-- 7 -->\n<g id=\"node8\" class=\"node\">\n<title>7</title>\n<polygon fill=\"#8ac5f0\" stroke=\"black\" points=\"685.5,-53 527.5,-53 527.5,0 685.5,0 685.5,-53\"/>\n<text text-anchor=\"middle\" x=\"606.5\" y=\"-37.8\" font-family=\"Helvetica,sans-Serif\" font-size=\"14.00\">entropy = 0.868</text>\n<text text-anchor=\"middle\" x=\"606.5\" y=\"-22.8\" font-family=\"Helvetica,sans-Serif\" font-size=\"14.00\">samples = 2153</text>\n<text text-anchor=\"middle\" x=\"606.5\" y=\"-7.8\" font-family=\"Helvetica,sans-Serif\" font-size=\"14.00\">value = [623, 1530]</text>\n</g>\n<!-- 5&#45;&gt;7 -->\n<g id=\"edge7\" class=\"edge\">\n<title>5&#45;&gt;7</title>\n<path fill=\"none\" stroke=\"black\" d=\"M577.89,-88.95C581.89,-80.35 586.22,-71.06 590.26,-62.37\"/>\n<polygon fill=\"black\" stroke=\"black\" points=\"593.47,-63.78 594.52,-53.24 587.12,-60.82 593.47,-63.78\"/>\n</g>\n<!-- 9 -->\n<g id=\"node10\" class=\"node\">\n<title>9</title>\n<polygon fill=\"#a3d2f3\" stroke=\"black\" points=\"914.5,-157 728.5,-157 728.5,-89 914.5,-89 914.5,-157\"/>\n<text text-anchor=\"middle\" x=\"821.5\" y=\"-141.8\" font-family=\"Helvetica,sans-Serif\" font-size=\"14.00\">Systemic_Illness &lt;= 1.5</text>\n<text text-anchor=\"middle\" x=\"821.5\" y=\"-126.8\" font-family=\"Helvetica,sans-Serif\" font-size=\"14.00\">entropy = 0.934</text>\n<text text-anchor=\"middle\" x=\"821.5\" y=\"-111.8\" font-family=\"Helvetica,sans-Serif\" font-size=\"14.00\">samples = 4471</text>\n<text text-anchor=\"middle\" x=\"821.5\" y=\"-96.8\" font-family=\"Helvetica,sans-Serif\" font-size=\"14.00\">value = [1563, 2908]</text>\n</g>\n<!-- 8&#45;&gt;9 -->\n<g id=\"edge9\" class=\"edge\">\n<title>8&#45;&gt;9</title>\n<path fill=\"none\" stroke=\"black\" d=\"M821.5,-192.88C821.5,-184.78 821.5,-175.98 821.5,-167.47\"/>\n<polygon fill=\"black\" stroke=\"black\" points=\"825,-167.3 821.5,-157.3 818,-167.3 825,-167.3\"/>\n</g>\n<!-- 12 -->\n<g id=\"node13\" class=\"node\">\n<title>12</title>\n<polygon fill=\"#77bced\" stroke=\"black\" points=\"1226.5,-157 1040.5,-157 1040.5,-89 1226.5,-89 1226.5,-157\"/>\n<text text-anchor=\"middle\" x=\"1133.5\" y=\"-141.8\" font-family=\"Helvetica,sans-Serif\" font-size=\"14.00\">Systemic_Illness &lt;= 3.5</text>\n<text text-anchor=\"middle\" x=\"1133.5\" y=\"-126.8\" font-family=\"Helvetica,sans-Serif\" font-size=\"14.00\">entropy = 0.793</text>\n<text text-anchor=\"middle\" x=\"1133.5\" y=\"-111.8\" font-family=\"Helvetica,sans-Serif\" font-size=\"14.00\">samples = 4381</text>\n<text text-anchor=\"middle\" x=\"1133.5\" y=\"-96.8\" font-family=\"Helvetica,sans-Serif\" font-size=\"14.00\">value = [1045, 3336]</text>\n</g>\n<!-- 8&#45;&gt;12 -->\n<g id=\"edge12\" class=\"edge\">\n<title>8&#45;&gt;12</title>\n<path fill=\"none\" stroke=\"black\" d=\"M905.11,-198.67C943.71,-186.05 989.91,-170.94 1030.63,-157.63\"/>\n<polygon fill=\"black\" stroke=\"black\" points=\"1031.89,-160.9 1040.31,-154.47 1029.72,-154.25 1031.89,-160.9\"/>\n</g>\n<!-- 10 -->\n<g id=\"node11\" class=\"node\">\n<title>10</title>\n<polygon fill=\"#e1f0fb\" stroke=\"black\" points=\"852,-53 703,-53 703,0 852,0 852,-53\"/>\n<text text-anchor=\"middle\" x=\"777.5\" y=\"-37.8\" font-family=\"Helvetica,sans-Serif\" font-size=\"14.00\">entropy = 0.995</text>\n<text text-anchor=\"middle\" x=\"777.5\" y=\"-22.8\" font-family=\"Helvetica,sans-Serif\" font-size=\"14.00\">samples = 1108</text>\n<text text-anchor=\"middle\" x=\"777.5\" y=\"-7.8\" font-family=\"Helvetica,sans-Serif\" font-size=\"14.00\">value = [508, 600]</text>\n</g>\n<!-- 9&#45;&gt;10 -->\n<g id=\"edge10\" class=\"edge\">\n<title>9&#45;&gt;10</title>\n<path fill=\"none\" stroke=\"black\" d=\"M806.11,-88.95C802.11,-80.35 797.78,-71.06 793.74,-62.37\"/>\n<polygon fill=\"black\" stroke=\"black\" points=\"796.88,-60.82 789.48,-53.24 790.53,-63.78 796.88,-60.82\"/>\n</g>\n<!-- 11 -->\n<g id=\"node12\" class=\"node\">\n<title>11</title>\n<polygon fill=\"#94caf1\" stroke=\"black\" points=\"1037,-53 870,-53 870,0 1037,0 1037,-53\"/>\n<text text-anchor=\"middle\" x=\"953.5\" y=\"-37.8\" font-family=\"Helvetica,sans-Serif\" font-size=\"14.00\">entropy = 0.897</text>\n<text text-anchor=\"middle\" x=\"953.5\" y=\"-22.8\" font-family=\"Helvetica,sans-Serif\" font-size=\"14.00\">samples = 3363</text>\n<text text-anchor=\"middle\" x=\"953.5\" y=\"-7.8\" font-family=\"Helvetica,sans-Serif\" font-size=\"14.00\">value = [1055, 2308]</text>\n</g>\n<!-- 9&#45;&gt;11 -->\n<g id=\"edge11\" class=\"edge\">\n<title>9&#45;&gt;11</title>\n<path fill=\"none\" stroke=\"black\" d=\"M867.67,-88.95C881.21,-79.25 895.99,-68.68 909.4,-59.07\"/>\n<polygon fill=\"black\" stroke=\"black\" points=\"911.46,-61.9 917.55,-53.24 907.38,-56.21 911.46,-61.9\"/>\n</g>\n<!-- 13 -->\n<g id=\"node14\" class=\"node\">\n<title>13</title>\n<polygon fill=\"#6fb8ec\" stroke=\"black\" points=\"1212.5,-53 1054.5,-53 1054.5,0 1212.5,0 1212.5,-53\"/>\n<text text-anchor=\"middle\" x=\"1133.5\" y=\"-37.8\" font-family=\"Helvetica,sans-Serif\" font-size=\"14.00\">entropy = 0.748</text>\n<text text-anchor=\"middle\" x=\"1133.5\" y=\"-22.8\" font-family=\"Helvetica,sans-Serif\" font-size=\"14.00\">samples = 3281</text>\n<text text-anchor=\"middle\" x=\"1133.5\" y=\"-7.8\" font-family=\"Helvetica,sans-Serif\" font-size=\"14.00\">value = [700, 2581]</text>\n</g>\n<!-- 12&#45;&gt;13 -->\n<g id=\"edge13\" class=\"edge\">\n<title>12&#45;&gt;13</title>\n<path fill=\"none\" stroke=\"black\" d=\"M1133.5,-88.95C1133.5,-80.72 1133.5,-71.85 1133.5,-63.48\"/>\n<polygon fill=\"black\" stroke=\"black\" points=\"1137,-63.24 1133.5,-53.24 1130,-63.24 1137,-63.24\"/>\n</g>\n<!-- 14 -->\n<g id=\"node15\" class=\"node\">\n<title>14</title>\n<polygon fill=\"#93caf1\" stroke=\"black\" points=\"1379,-53 1230,-53 1230,0 1379,0 1379,-53\"/>\n<text text-anchor=\"middle\" x=\"1304.5\" y=\"-37.8\" font-family=\"Helvetica,sans-Serif\" font-size=\"14.00\">entropy = 0.897</text>\n<text text-anchor=\"middle\" x=\"1304.5\" y=\"-22.8\" font-family=\"Helvetica,sans-Serif\" font-size=\"14.00\">samples = 1100</text>\n<text text-anchor=\"middle\" x=\"1304.5\" y=\"-7.8\" font-family=\"Helvetica,sans-Serif\" font-size=\"14.00\">value = [345, 755]</text>\n</g>\n<!-- 12&#45;&gt;14 -->\n<g id=\"edge14\" class=\"edge\">\n<title>12&#45;&gt;14</title>\n<path fill=\"none\" stroke=\"black\" d=\"M1193.31,-88.95C1211.43,-78.93 1231.26,-67.98 1249.08,-58.13\"/>\n<polygon fill=\"black\" stroke=\"black\" points=\"1251.14,-60.99 1258.2,-53.09 1247.75,-54.86 1251.14,-60.99\"/>\n</g>\n</g>\n</svg>\n",
      "text/plain": "<graphviz.sources.Source at 0x7fa1f762ed70>"
     },
     "execution_count": 14,
     "metadata": {},
     "output_type": "execute_result"
    }
   ],
   "source": [
    "X_train, X_test, y_train, y_test = train_test_split(X_data, target, test_size=0.30)\n",
    "model_tree = DecisionTreeClassifier(criterion='entropy', splitter='best', min_samples_split=0.20)\n",
    "model_tree.fit(X_train, y_train)\n",
    "#\n",
    "# y_prediction = model_tree.predict(X_test)\n",
    "\n",
    "# Plot decisiontree\n",
    "# figure = plt.figure(figsize=(10,8))\n",
    "# plot_tree(model_tree, feature_names=X_train.columns, filled=True, rounded=True)\n",
    "# plt.show()\n",
    "tree.dot = export_graphviz(model_tree, filled=True, feature_names=X_test.columns)\n",
    "graph = gv.Source(tree.dot)\n",
    "graph"
   ],
   "metadata": {
    "collapsed": false
   }
  },
  {
   "cell_type": "markdown",
   "source": [
    "Calculates accuracy for all possible feature combinations, using three different models"
   ],
   "metadata": {
    "collapsed": false
   }
  },
  {
   "cell_type": "code",
   "execution_count": 15,
   "outputs": [
    {
     "name": "stderr",
     "output_type": "stream",
     "text": [
      "\n",
      "KeyboardInterrupt\n",
      "\n"
     ]
    }
   ],
   "source": [
    "acc_dict = utils.create_feature_accuracy_dict(X_data, target)\n",
    "# Sort dictionary in a descending manner and save the top 5 elements\n",
    "top_items = sorted(acc_dict.items(), key = lambda x: x[1], reverse=True)[:5]\n",
    "pp.pprint(top_items)"
   ],
   "metadata": {
    "collapsed": false
   }
  },
  {
   "cell_type": "markdown",
   "source": [
    "Tries to detect overfitting by plotting the test and train data"
   ],
   "metadata": {
    "collapsed": false
   }
  },
  {
   "cell_type": "code",
   "execution_count": 16,
   "outputs": [],
   "source": [
    "utils.check_over_fitting(X_data, target)"
   ],
   "metadata": {
    "collapsed": false
   }
  },
  {
   "cell_type": "markdown",
   "source": [
    "Builds neural network, which contains three hidden layers."
   ],
   "metadata": {
    "collapsed": false
   }
  },
  {
   "cell_type": "code",
   "execution_count": null,
   "outputs": [],
   "source": [
    "model = Sequential()\n",
    "\n",
    "X, y = utils.prepare_for_tensor(X_data, target)\n",
    "\n",
    "\n",
    "# first layer with 9 input-nodes (Dense = connect with all following nodes)\n",
    "model.add(Dense(14, input_dim=X_data.shape[1], activation='sigmoid', name='input'))\n",
    "\n",
    "# 35 hidden nodes in the first and second layer\n",
    "model.add(Dense(20, activation='relu', name='layer1'))\n",
    "model.add(Dense(20, activation='relu', name='layer2'))\n",
    "model.add(Dense(1, activation='sigmoid', name='output'))\n",
    "\n",
    "model.compile(optimizer='adam', loss='mse', metrics=['accuracy'])\n",
    "\n",
    "X_train, X_test, y_train, y_test = train_test_split(X, y)\n",
    "\n",
    "solution = model.evaluate(X_train, y_train)\n",
    "\n",
    "print(\"{}: {:.2f}\\n{}: {:.2f}\".format(model.metrics_names[0], solution[0],\n",
    "                                      model.metrics_names[1], solution[1]))\n",
    "\n",
    "solution = model.evaluate(X_test, y_test)\n",
    "print(\"{}: {:.2f}\\n{}: {:.2f}\".format(model.metrics_names[0], solution[0],\n",
    "                                      model.metrics_names[1], solution[1]))\n",
    "\n",
    "#y_predict = model.predict(data_x, batch_size=16, verbose=0 / 1 / 2, steps=100)\n",
    "\n",
    "model.summary()"
   ],
   "metadata": {
    "collapsed": false
   }
  },
  {
   "cell_type": "markdown",
   "source": [
    "Plots the neural network"
   ],
   "metadata": {
    "collapsed": false
   }
  },
  {
   "cell_type": "code",
   "execution_count": null,
   "outputs": [],
   "source": [
    "hist = model.fit(X_train, y_train, epochs=100, batch_size=16, verbose=0, validation_data=(X_test, y_test))\n",
    "evaluation = pd.DataFrame.from_dict(hist.history)\n",
    "fig = plt.figure(figsize=(20, 8), num='Neural Network')\n",
    "img1 = fig.add_subplot(121)\n",
    "img1.plot(evaluation.index, evaluation.iloc[:, 0], color=constants.FIRST_COLOR, label='Train-data')\n",
    "img1.plot(evaluation.index, evaluation.iloc[:, 2], color=constants.SECOND_COLOR, label='Validation-data')\n",
    "img1.legend()\n",
    "img1.set_xlabel('epoch')\n",
    "img1.set_ylabel(model.metrics_names[0])\n",
    "img1.set_title('Neural Network learns - Loss curve')\n",
    "img2 = fig.add_subplot(122)\n",
    "img2.plot(evaluation.index, evaluation.iloc[:, 1], color=constants.FIRST_COLOR, label='Train-data')\n",
    "img2.plot(evaluation.index, evaluation.iloc[:, 3], color=constants.SECOND_COLOR, label='Validation-data')\n",
    "img2.legend()\n",
    "img2.set_xlabel('epoch')\n",
    "img2.set_ylabel(model.metrics_names[1])\n",
    "img2.set_title('Neural Network learns - Accuracy curve')\n",
    "plt.show()"
   ],
   "metadata": {
    "collapsed": false
   }
  }
 ],
 "metadata": {
  "kernelspec": {
   "display_name": "Python 3",
   "language": "python",
   "name": "python3"
  },
  "language_info": {
   "codemirror_mode": {
    "name": "ipython",
    "version": 2
   },
   "file_extension": ".py",
   "mimetype": "text/x-python",
   "name": "python",
   "nbconvert_exporter": "python",
   "pygments_lexer": "ipython2",
   "version": "2.7.6"
  }
 },
 "nbformat": 4,
 "nbformat_minor": 0
}
