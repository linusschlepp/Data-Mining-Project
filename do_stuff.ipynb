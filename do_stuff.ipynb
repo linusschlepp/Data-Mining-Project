{
 "cells": [
  {
   "cell_type": "code",
   "execution_count": 1,
   "outputs": [],
   "source": [
    "from main import data, pd, plt, train_test_split, GaussianNB, accuracy_score, DecisionTreeClassifier, export_text, plot_tree, sns\n",
    "import constants\n",
    "import utils"
   ],
   "metadata": {
    "collapsed": false
   }
  },
  {
   "cell_type": "markdown",
   "source": [
    "Print data"
   ],
   "metadata": {
    "collapsed": false
   }
  },
  {
   "cell_type": "code",
   "execution_count": null,
   "outputs": [],
   "source": [
    "data"
   ],
   "metadata": {
    "collapsed": false
   }
  },
  {
   "cell_type": "markdown",
   "source": [
    "Plot data, shows how often MonkeyPox is negative and positive"
   ],
   "metadata": {
    "collapsed": false
   }
  },
  {
   "cell_type": "code",
   "execution_count": null,
   "outputs": [],
   "source": [
    "series = data[constants.MONKEY_POX].value_counts()\n",
    "#series2,\n",
    "# TODO: Try to use countplot and change colors to normal blue and orange\n",
    "plt.bar(series.index, series.values, color=constants.COLOR_PALETTE)\n",
    "plt.show()"
   ],
   "metadata": {
    "collapsed": false
   }
  },
  {
   "cell_type": "markdown",
   "source": [
    "Plots heatmap: Shows correlations between the different features"
   ],
   "metadata": {
    "collapsed": false
   }
  },
  {
   "cell_type": "code",
   "execution_count": 1,
   "outputs": [
    {
     "ename": "NameError",
     "evalue": "name 'sns' is not defined",
     "output_type": "error",
     "traceback": [
      "\u001B[0;31m---------------------------------------------------------------------------\u001B[0m",
      "\u001B[0;31mNameError\u001B[0m                                 Traceback (most recent call last)",
      "Cell \u001B[0;32mIn [1], line 1\u001B[0m\n\u001B[0;32m----> 1\u001B[0m \u001B[43msns\u001B[49m\u001B[38;5;241m.\u001B[39mheatmap(data\u001B[38;5;241m.\u001B[39mcorr(), annot\u001B[38;5;241m=\u001B[39m\u001B[38;5;28;01mTrue\u001B[39;00m)\n\u001B[1;32m      2\u001B[0m plt\u001B[38;5;241m.\u001B[39mshow()\n",
      "\u001B[0;31mNameError\u001B[0m: name 'sns' is not defined"
     ]
    }
   ],
   "source": [
    "sns.heatmap(data.corr(), annot=True)\n",
    "plt.show()"
   ],
   "metadata": {
    "collapsed": false
   }
  },
  {
   "cell_type": "markdown",
   "source": [
    "Shows how often each systemic illness is causing MonkeyPox to be positive or negative"
   ],
   "metadata": {
    "collapsed": false
   }
  },
  {
   "cell_type": "code",
   "execution_count": 2,
   "outputs": [],
   "source": [
    "# TODO: Change legend and axises\n",
    "#test_df = data.groupby(by=[constants.SYSTEMIC_ILLNESS,constants.MONKEY_POX])[constants.SYSTEMIC_ILLNESS].count()\n",
    "sns.countplot(x=data[constants.SYSTEMIC_ILLNESS], hue=data[constants.MONKEY_POX], palette=constants.COLOR_PALETTE)\n",
    "plt.show()"
   ],
   "metadata": {
    "collapsed": false
   }
  },
  {
   "cell_type": "markdown",
   "source": [
    "Plots data, using pairplot"
   ],
   "metadata": {
    "collapsed": false
   }
  },
  {
   "cell_type": "code",
   "execution_count": null,
   "outputs": [],
   "source": [
    "#sns.pairplot(data.head(100), hue='MonkeyPox')"
   ],
   "metadata": {
    "collapsed": false
   }
  },
  {
   "cell_type": "markdown",
   "source": [
    "Calculates accuracy, using GaussianNB()"
   ],
   "metadata": {
    "collapsed": false
   }
  },
  {
   "cell_type": "code",
   "execution_count": null,
   "outputs": [],
   "source": [
    "simple_dict = {'None': 1, 'Fever': 2, 'Swollen Lymph Nodes': 3, 'Muscle Aches and Pain': 4}\n",
    "data[constants.SYSTEMIC_ILLNESS] = [simple_dict[item] for item in data[constants.SYSTEMIC_ILLNESS]]\n",
    "data_tree = data.iloc[:,:-1]\n",
    "target = data.iloc[:,-1:]\n",
    "ran_stream = 23\n",
    "x_train, x_test, y_train, y_test = train_test_split(data_tree, target, random_state=ran_stream)\n",
    "\n",
    "model = GaussianNB()\n",
    "model.fit(x_train, y_train)\n",
    "y_prediction = model.predict(x_test)\n",
    "print(100 * accuracy_score(y_test, y_prediction))"
   ],
   "metadata": {
    "collapsed": false
   }
  },
  {
   "cell_type": "markdown",
   "source": [
    "Creates DecisionTree, by using entropy"
   ],
   "metadata": {
    "collapsed": false
   }
  },
  {
   "cell_type": "code",
   "execution_count": null,
   "outputs": [],
   "source": [
    "model_tree = DecisionTreeClassifier(criterion='entropy', splitter='best', min_samples_split=5)\n",
    "model_tree.fit(data_tree, target)\n",
    "text_representation = export_text(model_tree, feature_names=data_tree.columns.values.tolist())\n",
    "figure = plt.figure(figsize=(10,8))\n",
    "plot_tree(model_tree, feature_names=data_tree.columns, filled=True, rounded=True)\n",
    "plt.show()\n"
   ],
   "metadata": {
    "collapsed": false
   }
  },
  {
   "cell_type": "markdown",
   "source": [
    "Plots data, when symptom (2-7) is True and MonkeyPox is Positive"
   ],
   "metadata": {
    "collapsed": false
   }
  },
  {
   "cell_type": "code",
   "execution_count": null,
   "outputs": [],
   "source": [
    "symptoms = data.iloc[:, 1:-1].columns.values.tolist()\n",
    "symptoms_df = data.iloc[:, 1:]\n",
    "symptoms_df = utils.fetch_true_symptoms(symptoms, symptoms_df)\n",
    "print(symptoms_df)\n",
    "\n",
    "pos_lst, negative_lst = utils.create_outcome_lists(symptoms, symptoms_df)\n",
    "df1 = pd.DataFrame({'Symptoms': symptoms, 'Number of infections': pos_lst})\n",
    "df2 = pd.DataFrame({'Symptoms': symptoms, 'Number of infections': negative_lst})\n",
    "df1['outcome'] = 'Positive'\n",
    "df2['outcome'] = 'Negative'\n",
    "res = pd.concat([df1, df2])\n",
    "sns.barplot(x='Symptoms', y='Number of infections', data=res, hue='outcome', palette=constants.COLOR_PALETTE)\n",
    "plt.show()"
   ],
   "metadata": {
    "collapsed": false
   }
  },
  {
   "cell_type": "code",
   "execution_count": 8,
   "outputs": [
    {
     "ename": "KeyError",
     "evalue": "1",
     "output_type": "error",
     "traceback": [
      "\u001B[0;31m---------------------------------------------------------------------------\u001B[0m",
      "\u001B[0;31mKeyError\u001B[0m                                  Traceback (most recent call last)",
      "Cell \u001B[0;32mIn [8], line 2\u001B[0m\n\u001B[1;32m      1\u001B[0m simple_dict \u001B[38;5;241m=\u001B[39m {\u001B[38;5;124m'\u001B[39m\u001B[38;5;124mNone\u001B[39m\u001B[38;5;124m'\u001B[39m: \u001B[38;5;241m1\u001B[39m, \u001B[38;5;124m'\u001B[39m\u001B[38;5;124mFever\u001B[39m\u001B[38;5;124m'\u001B[39m: \u001B[38;5;241m2\u001B[39m, \u001B[38;5;124m'\u001B[39m\u001B[38;5;124mSwollen Lymph Nodes\u001B[39m\u001B[38;5;124m'\u001B[39m: \u001B[38;5;241m3\u001B[39m, \u001B[38;5;124m'\u001B[39m\u001B[38;5;124mMuscle Aches and Pain\u001B[39m\u001B[38;5;124m'\u001B[39m: \u001B[38;5;241m4\u001B[39m}\n\u001B[0;32m----> 2\u001B[0m data[constants\u001B[38;5;241m.\u001B[39mSYSTEMIC_ILLNESS] \u001B[38;5;241m=\u001B[39m [simple_dict[item] \u001B[38;5;28;01mfor\u001B[39;00m item \u001B[38;5;129;01min\u001B[39;00m data[constants\u001B[38;5;241m.\u001B[39mSYSTEMIC_ILLNESS]]\n\u001B[1;32m      3\u001B[0m data_tree \u001B[38;5;241m=\u001B[39m data\u001B[38;5;241m.\u001B[39miloc[:,:\u001B[38;5;241m-\u001B[39m\u001B[38;5;241m1\u001B[39m]\n\u001B[1;32m      4\u001B[0m target \u001B[38;5;241m=\u001B[39m data\u001B[38;5;241m.\u001B[39miloc[:,\u001B[38;5;241m-\u001B[39m\u001B[38;5;241m1\u001B[39m:]\n",
      "Cell \u001B[0;32mIn [8], line 2\u001B[0m, in \u001B[0;36m<listcomp>\u001B[0;34m(.0)\u001B[0m\n\u001B[1;32m      1\u001B[0m simple_dict \u001B[38;5;241m=\u001B[39m {\u001B[38;5;124m'\u001B[39m\u001B[38;5;124mNone\u001B[39m\u001B[38;5;124m'\u001B[39m: \u001B[38;5;241m1\u001B[39m, \u001B[38;5;124m'\u001B[39m\u001B[38;5;124mFever\u001B[39m\u001B[38;5;124m'\u001B[39m: \u001B[38;5;241m2\u001B[39m, \u001B[38;5;124m'\u001B[39m\u001B[38;5;124mSwollen Lymph Nodes\u001B[39m\u001B[38;5;124m'\u001B[39m: \u001B[38;5;241m3\u001B[39m, \u001B[38;5;124m'\u001B[39m\u001B[38;5;124mMuscle Aches and Pain\u001B[39m\u001B[38;5;124m'\u001B[39m: \u001B[38;5;241m4\u001B[39m}\n\u001B[0;32m----> 2\u001B[0m data[constants\u001B[38;5;241m.\u001B[39mSYSTEMIC_ILLNESS] \u001B[38;5;241m=\u001B[39m [\u001B[43msimple_dict\u001B[49m\u001B[43m[\u001B[49m\u001B[43mitem\u001B[49m\u001B[43m]\u001B[49m \u001B[38;5;28;01mfor\u001B[39;00m item \u001B[38;5;129;01min\u001B[39;00m data[constants\u001B[38;5;241m.\u001B[39mSYSTEMIC_ILLNESS]]\n\u001B[1;32m      3\u001B[0m data_tree \u001B[38;5;241m=\u001B[39m data\u001B[38;5;241m.\u001B[39miloc[:,:\u001B[38;5;241m-\u001B[39m\u001B[38;5;241m1\u001B[39m]\n\u001B[1;32m      4\u001B[0m target \u001B[38;5;241m=\u001B[39m data\u001B[38;5;241m.\u001B[39miloc[:,\u001B[38;5;241m-\u001B[39m\u001B[38;5;241m1\u001B[39m:]\n",
      "\u001B[0;31mKeyError\u001B[0m: 1"
     ]
    }
   ],
   "source": [
    "simple_dict = {'None': 1, 'Fever': 2, 'Swollen Lymph Nodes': 3, 'Muscle Aches and Pain': 4}\n",
    "data[constants.SYSTEMIC_ILLNESS] = [simple_dict[item] for item in data[constants.SYSTEMIC_ILLNESS]]\n",
    "data_tree = data.iloc[:,:-1]\n",
    "target = data.iloc[:,-1:]\n",
    "utils.create_feature_accuracy_dict(data_tree, target, data.iloc[:, 1:-1].columns.values.tolist())"
   ],
   "metadata": {
    "collapsed": false
   }
  }
 ],
 "metadata": {
  "kernelspec": {
   "display_name": "Python 3",
   "language": "python",
   "name": "python3"
  },
  "language_info": {
   "codemirror_mode": {
    "name": "ipython",
    "version": 2
   },
   "file_extension": ".py",
   "mimetype": "text/x-python",
   "name": "python",
   "nbconvert_exporter": "python",
   "pygments_lexer": "ipython2",
   "version": "2.7.6"
  }
 },
 "nbformat": 4,
 "nbformat_minor": 0
}
