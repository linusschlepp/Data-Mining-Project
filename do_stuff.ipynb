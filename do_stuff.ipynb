{
 "cells": [
  {
   "cell_type": "markdown",
   "source": [
    "Import all variables/ libraries from main"
   ],
   "metadata": {
    "collapsed": false
   }
  },
  {
   "cell_type": "code",
   "execution_count": 1,
   "outputs": [],
   "source": [
    "from main import data, pd, plt, train_test_split, GaussianNB, accuracy_score, DecisionTreeClassifier, export_text, plot_tree, sns, apriori, association_rules, data_x, target\n",
    "import constants\n",
    "import utils\n",
    "import pprint\n",
    "\n",
    "pp = pprint.PrettyPrinter(indent=4)"
   ],
   "metadata": {
    "collapsed": false
   }
  },
  {
   "cell_type": "markdown",
   "source": [
    "Print data"
   ],
   "metadata": {
    "collapsed": false
   }
  },
  {
   "cell_type": "code",
   "execution_count": 2,
   "outputs": [
    {
     "data": {
      "text/plain": "               Systemic_Illness  Rectal_Pain  Sore_Throat  Penile_Oedema  \\\nPatient_ID                                                                 \nP0                         None        False         True           True   \nP1                        Fever         True        False           True   \nP2                        Fever        False         True           True   \nP3                         None         True        False          False   \nP4          Swollen Lymph Nodes         True         True           True   \n...                         ...          ...          ...            ...   \nP24995                     None         True         True          False   \nP24996                    Fever        False         True           True   \nP24997                     None         True         True          False   \nP24998      Swollen Lymph Nodes        False         True          False   \nP24999      Swollen Lymph Nodes        False        False           True   \n\n            Oral_Lesions  Solitary_Lesion  Swollen_Tonsils  HIV_Infection  \\\nPatient_ID                                                                  \nP0                  True            False             True          False   \nP1                  True            False            False           True   \nP2                 False            False            False           True   \nP3                 False             True             True           True   \nP4                 False            False             True           True   \n...                  ...              ...              ...            ...   \nP24995              True             True            False          False   \nP24996             False             True             True           True   \nP24997             False             True             True          False   \nP24998              True             True             True          False   \nP24999             False            False             True           True   \n\n              STI MonkeyPox  \nPatient_ID                   \nP0          False  Negative  \nP1          False  Positive  \nP2          False  Positive  \nP3          False  Positive  \nP4          False  Positive  \n...           ...       ...  \nP24995       True  Positive  \nP24996       True  Positive  \nP24997      False  Positive  \nP24998      False  Negative  \nP24999      False  Positive  \n\n[25000 rows x 10 columns]",
      "text/html": "<div>\n<style scoped>\n    .dataframe tbody tr th:only-of-type {\n        vertical-align: middle;\n    }\n\n    .dataframe tbody tr th {\n        vertical-align: top;\n    }\n\n    .dataframe thead th {\n        text-align: right;\n    }\n</style>\n<table border=\"1\" class=\"dataframe\">\n  <thead>\n    <tr style=\"text-align: right;\">\n      <th></th>\n      <th>Systemic_Illness</th>\n      <th>Rectal_Pain</th>\n      <th>Sore_Throat</th>\n      <th>Penile_Oedema</th>\n      <th>Oral_Lesions</th>\n      <th>Solitary_Lesion</th>\n      <th>Swollen_Tonsils</th>\n      <th>HIV_Infection</th>\n      <th>STI</th>\n      <th>MonkeyPox</th>\n    </tr>\n    <tr>\n      <th>Patient_ID</th>\n      <th></th>\n      <th></th>\n      <th></th>\n      <th></th>\n      <th></th>\n      <th></th>\n      <th></th>\n      <th></th>\n      <th></th>\n      <th></th>\n    </tr>\n  </thead>\n  <tbody>\n    <tr>\n      <th>P0</th>\n      <td>None</td>\n      <td>False</td>\n      <td>True</td>\n      <td>True</td>\n      <td>True</td>\n      <td>False</td>\n      <td>True</td>\n      <td>False</td>\n      <td>False</td>\n      <td>Negative</td>\n    </tr>\n    <tr>\n      <th>P1</th>\n      <td>Fever</td>\n      <td>True</td>\n      <td>False</td>\n      <td>True</td>\n      <td>True</td>\n      <td>False</td>\n      <td>False</td>\n      <td>True</td>\n      <td>False</td>\n      <td>Positive</td>\n    </tr>\n    <tr>\n      <th>P2</th>\n      <td>Fever</td>\n      <td>False</td>\n      <td>True</td>\n      <td>True</td>\n      <td>False</td>\n      <td>False</td>\n      <td>False</td>\n      <td>True</td>\n      <td>False</td>\n      <td>Positive</td>\n    </tr>\n    <tr>\n      <th>P3</th>\n      <td>None</td>\n      <td>True</td>\n      <td>False</td>\n      <td>False</td>\n      <td>False</td>\n      <td>True</td>\n      <td>True</td>\n      <td>True</td>\n      <td>False</td>\n      <td>Positive</td>\n    </tr>\n    <tr>\n      <th>P4</th>\n      <td>Swollen Lymph Nodes</td>\n      <td>True</td>\n      <td>True</td>\n      <td>True</td>\n      <td>False</td>\n      <td>False</td>\n      <td>True</td>\n      <td>True</td>\n      <td>False</td>\n      <td>Positive</td>\n    </tr>\n    <tr>\n      <th>...</th>\n      <td>...</td>\n      <td>...</td>\n      <td>...</td>\n      <td>...</td>\n      <td>...</td>\n      <td>...</td>\n      <td>...</td>\n      <td>...</td>\n      <td>...</td>\n      <td>...</td>\n    </tr>\n    <tr>\n      <th>P24995</th>\n      <td>None</td>\n      <td>True</td>\n      <td>True</td>\n      <td>False</td>\n      <td>True</td>\n      <td>True</td>\n      <td>False</td>\n      <td>False</td>\n      <td>True</td>\n      <td>Positive</td>\n    </tr>\n    <tr>\n      <th>P24996</th>\n      <td>Fever</td>\n      <td>False</td>\n      <td>True</td>\n      <td>True</td>\n      <td>False</td>\n      <td>True</td>\n      <td>True</td>\n      <td>True</td>\n      <td>True</td>\n      <td>Positive</td>\n    </tr>\n    <tr>\n      <th>P24997</th>\n      <td>None</td>\n      <td>True</td>\n      <td>True</td>\n      <td>False</td>\n      <td>False</td>\n      <td>True</td>\n      <td>True</td>\n      <td>False</td>\n      <td>False</td>\n      <td>Positive</td>\n    </tr>\n    <tr>\n      <th>P24998</th>\n      <td>Swollen Lymph Nodes</td>\n      <td>False</td>\n      <td>True</td>\n      <td>False</td>\n      <td>True</td>\n      <td>True</td>\n      <td>True</td>\n      <td>False</td>\n      <td>False</td>\n      <td>Negative</td>\n    </tr>\n    <tr>\n      <th>P24999</th>\n      <td>Swollen Lymph Nodes</td>\n      <td>False</td>\n      <td>False</td>\n      <td>True</td>\n      <td>False</td>\n      <td>False</td>\n      <td>True</td>\n      <td>True</td>\n      <td>False</td>\n      <td>Positive</td>\n    </tr>\n  </tbody>\n</table>\n<p>25000 rows × 10 columns</p>\n</div>"
     },
     "execution_count": 2,
     "metadata": {},
     "output_type": "execute_result"
    }
   ],
   "source": [
    "data"
   ],
   "metadata": {
    "collapsed": false
   }
  },
  {
   "cell_type": "markdown",
   "source": [
    "Plot data, shows how often MonkeyPox is negative and positive"
   ],
   "metadata": {
    "collapsed": false
   }
  },
  {
   "cell_type": "code",
   "execution_count": 3,
   "outputs": [],
   "source": [
    "series = data[constants.MONKEY_POX].value_counts()\n",
    "#series2,\n",
    "# TODO: Try to use countplot and change colors to normal blue and orange\n",
    "plt.bar(series.index, series.values, color=constants.COLOR_PALETTE)\n",
    "plt.title('Cases of Monkey Pox seperated by positive and negative')\n",
    "plt.show()"
   ],
   "metadata": {
    "collapsed": false
   }
  },
  {
   "cell_type": "code",
   "execution_count": 4,
   "outputs": [
    {
     "name": "stderr",
     "output_type": "stream",
     "text": [
      "/tmp/ipykernel_25966/1271232218.py:1: FutureWarning: The default value of numeric_only in DataFrame.corr is deprecated. In a future version, it will default to False. Select only valid columns or specify the value of numeric_only to silence this warning.\n",
      "  df_corr  = data.corr()\n"
     ]
    },
    {
     "data": {
      "text/plain": "                 Rectal_Pain  Sore_Throat  Penile_Oedema  Oral_Lesions  \\\nRectal_Pain         1.000000     0.006214       0.005312      0.007747   \nSore_Throat         0.006214     1.000000       0.009082     -0.000795   \nPenile_Oedema       0.005312     0.009082       1.000000      0.003850   \nOral_Lesions        0.007747    -0.000795       0.003850      1.000000   \nSolitary_Lesion     0.001147    -0.003609       0.002781     -0.005198   \nSwollen_Tonsils     0.002113    -0.002011       0.000536     -0.007757   \nHIV_Infection       0.005764     0.000771       0.003620     -0.012153   \nSTI                 0.000666    -0.001901      -0.005722     -0.002725   \n\n                 Solitary_Lesion  Swollen_Tonsils  HIV_Infection       STI  \nRectal_Pain             0.001147         0.002113       0.005764  0.000666  \nSore_Throat            -0.003609        -0.002011       0.000771 -0.001901  \nPenile_Oedema           0.002781         0.000536       0.003620 -0.005722  \nOral_Lesions           -0.005198        -0.007757      -0.012153 -0.002725  \nSolitary_Lesion         1.000000         0.002874      -0.002335  0.009849  \nSwollen_Tonsils         0.002874         1.000000      -0.004258 -0.006469  \nHIV_Infection          -0.002335        -0.004258       1.000000  0.001309  \nSTI                     0.009849        -0.006469       0.001309  1.000000  ",
      "text/html": "<div>\n<style scoped>\n    .dataframe tbody tr th:only-of-type {\n        vertical-align: middle;\n    }\n\n    .dataframe tbody tr th {\n        vertical-align: top;\n    }\n\n    .dataframe thead th {\n        text-align: right;\n    }\n</style>\n<table border=\"1\" class=\"dataframe\">\n  <thead>\n    <tr style=\"text-align: right;\">\n      <th></th>\n      <th>Rectal_Pain</th>\n      <th>Sore_Throat</th>\n      <th>Penile_Oedema</th>\n      <th>Oral_Lesions</th>\n      <th>Solitary_Lesion</th>\n      <th>Swollen_Tonsils</th>\n      <th>HIV_Infection</th>\n      <th>STI</th>\n    </tr>\n  </thead>\n  <tbody>\n    <tr>\n      <th>Rectal_Pain</th>\n      <td>1.000000</td>\n      <td>0.006214</td>\n      <td>0.005312</td>\n      <td>0.007747</td>\n      <td>0.001147</td>\n      <td>0.002113</td>\n      <td>0.005764</td>\n      <td>0.000666</td>\n    </tr>\n    <tr>\n      <th>Sore_Throat</th>\n      <td>0.006214</td>\n      <td>1.000000</td>\n      <td>0.009082</td>\n      <td>-0.000795</td>\n      <td>-0.003609</td>\n      <td>-0.002011</td>\n      <td>0.000771</td>\n      <td>-0.001901</td>\n    </tr>\n    <tr>\n      <th>Penile_Oedema</th>\n      <td>0.005312</td>\n      <td>0.009082</td>\n      <td>1.000000</td>\n      <td>0.003850</td>\n      <td>0.002781</td>\n      <td>0.000536</td>\n      <td>0.003620</td>\n      <td>-0.005722</td>\n    </tr>\n    <tr>\n      <th>Oral_Lesions</th>\n      <td>0.007747</td>\n      <td>-0.000795</td>\n      <td>0.003850</td>\n      <td>1.000000</td>\n      <td>-0.005198</td>\n      <td>-0.007757</td>\n      <td>-0.012153</td>\n      <td>-0.002725</td>\n    </tr>\n    <tr>\n      <th>Solitary_Lesion</th>\n      <td>0.001147</td>\n      <td>-0.003609</td>\n      <td>0.002781</td>\n      <td>-0.005198</td>\n      <td>1.000000</td>\n      <td>0.002874</td>\n      <td>-0.002335</td>\n      <td>0.009849</td>\n    </tr>\n    <tr>\n      <th>Swollen_Tonsils</th>\n      <td>0.002113</td>\n      <td>-0.002011</td>\n      <td>0.000536</td>\n      <td>-0.007757</td>\n      <td>0.002874</td>\n      <td>1.000000</td>\n      <td>-0.004258</td>\n      <td>-0.006469</td>\n    </tr>\n    <tr>\n      <th>HIV_Infection</th>\n      <td>0.005764</td>\n      <td>0.000771</td>\n      <td>0.003620</td>\n      <td>-0.012153</td>\n      <td>-0.002335</td>\n      <td>-0.004258</td>\n      <td>1.000000</td>\n      <td>0.001309</td>\n    </tr>\n    <tr>\n      <th>STI</th>\n      <td>0.000666</td>\n      <td>-0.001901</td>\n      <td>-0.005722</td>\n      <td>-0.002725</td>\n      <td>0.009849</td>\n      <td>-0.006469</td>\n      <td>0.001309</td>\n      <td>1.000000</td>\n    </tr>\n  </tbody>\n</table>\n</div>"
     },
     "execution_count": 4,
     "metadata": {},
     "output_type": "execute_result"
    }
   ],
   "source": [
    "df_corr  = data.corr()\n",
    "df_corr"
   ],
   "metadata": {
    "collapsed": false
   }
  },
  {
   "cell_type": "markdown",
   "source": [
    "Plots heatmap: Shows correlations between the different features"
   ],
   "metadata": {
    "collapsed": false
   }
  },
  {
   "cell_type": "code",
   "execution_count": 5,
   "outputs": [],
   "source": [
    "sns.heatmap(df_corr, annot=True, vmin=0.5, vmax=0.7)\n",
    "plt.show()"
   ],
   "metadata": {
    "collapsed": false
   }
  },
  {
   "cell_type": "markdown",
   "source": [
    "Shows how often each systemic illness is causing MonkeyPox to be positive or negative"
   ],
   "metadata": {
    "collapsed": false
   }
  },
  {
   "cell_type": "code",
   "execution_count": 6,
   "outputs": [
    {
     "name": "stderr",
     "output_type": "stream",
     "text": [
      "/home/linus/Daten_Linus/Studium/IW7/Data_Mining/Project_Data_Mining/utils.py:54: SettingWithCopyWarning: \n",
      "A value is trying to be set on a copy of a slice from a DataFrame\n",
      "\n",
      "See the caveats in the documentation: https://pandas.pydata.org/pandas-docs/stable/user_guide/indexing.html#returning-a-view-versus-a-copy\n",
      "  df_concat[col][index] = True\n"
     ]
    },
    {
     "data": {
      "text/plain": "                                             antecedents  \\\n20252  (Penile_Oedema, None, STI, Swollen_Tonsils, Or...   \n36020  (Swollen Lymph Nodes, STI, Rectal_Pain, Swolle...   \n19694  (None, STI, Sore_Throat, HIV_Infection, Oral_L...   \n31111  (Penile_Oedema, Fever, STI, Sore_Throat, Recta...   \n20005  (Penile_Oedema, None, Solitary_Lesion, Swollen...   \n...                                                  ...   \n36640                                      (Rectal_Pain)   \n37776                                    (HIV_Infection)   \n36642                                    (HIV_Infection)   \n37903                                    (HIV_Infection)   \n34376                                    (HIV_Infection)   \n\n                                             consequents  antecedent support  \\\n20252                                      (Rectal_Pain)            0.015086   \n36020                                      (Sore_Throat)            0.010246   \n19694                                      (Rectal_Pain)            0.014646   \n31111                                  (Solitary_Lesion)            0.010874   \n20005                                      (Rectal_Pain)            0.013452   \n...                                                  ...                 ...   \n36640  (Penile_Oedema, Swollen Lymph Nodes, STI, Swol...            0.546986   \n37776  (Penile_Oedema, STI, Sore_Throat, Rectal_Pain,...            0.558615   \n36642  (Penile_Oedema, Swollen Lymph Nodes, STI, Rect...            0.558615   \n37903  (Penile_Oedema, STI, Sore_Throat, Rectal_Pain,...            0.558615   \n34376  (Penile_Oedema, None, STI, Rectal_Pain, Solita...            0.558615   \n\n       consequent support   support  confidence      lift  leverage  \\\n20252            0.546986  0.009114    0.604167  1.104538  0.000863   \n36020            0.526117  0.006160    0.601227  1.142762  0.000770   \n19694            0.546986  0.008737    0.596567  1.090643  0.000726   \n31111            0.515243  0.006474    0.595376  1.155524  0.000871   \n20005            0.546986  0.007983    0.593458  1.084960  0.000625   \n...                   ...       ...         ...       ...       ...   \n36640            0.011189  0.005029    0.009193  0.821663 -0.001091   \n37776            0.009303  0.005091    0.009114  0.979740 -0.000105   \n36642            0.010120  0.005029    0.009002  0.889512 -0.000625   \n37903            0.010057  0.005029    0.009002  0.895071 -0.000589   \n34376            0.009240  0.005029    0.009002  0.974227 -0.000133   \n\n       conviction  \n20252    1.144456  \n36020    1.188352  \n19694    1.122896  \n31111    1.198042  \n20005    1.114310  \n...           ...  \n36640    0.997986  \n37776    0.999810  \n36642    0.998872  \n37903    0.998935  \n34376    0.999760  \n\n[39166 rows x 9 columns]",
      "text/html": "<div>\n<style scoped>\n    .dataframe tbody tr th:only-of-type {\n        vertical-align: middle;\n    }\n\n    .dataframe tbody tr th {\n        vertical-align: top;\n    }\n\n    .dataframe thead th {\n        text-align: right;\n    }\n</style>\n<table border=\"1\" class=\"dataframe\">\n  <thead>\n    <tr style=\"text-align: right;\">\n      <th></th>\n      <th>antecedents</th>\n      <th>consequents</th>\n      <th>antecedent support</th>\n      <th>consequent support</th>\n      <th>support</th>\n      <th>confidence</th>\n      <th>lift</th>\n      <th>leverage</th>\n      <th>conviction</th>\n    </tr>\n  </thead>\n  <tbody>\n    <tr>\n      <th>20252</th>\n      <td>(Penile_Oedema, None, STI, Swollen_Tonsils, Or...</td>\n      <td>(Rectal_Pain)</td>\n      <td>0.015086</td>\n      <td>0.546986</td>\n      <td>0.009114</td>\n      <td>0.604167</td>\n      <td>1.104538</td>\n      <td>0.000863</td>\n      <td>1.144456</td>\n    </tr>\n    <tr>\n      <th>36020</th>\n      <td>(Swollen Lymph Nodes, STI, Rectal_Pain, Swolle...</td>\n      <td>(Sore_Throat)</td>\n      <td>0.010246</td>\n      <td>0.526117</td>\n      <td>0.006160</td>\n      <td>0.601227</td>\n      <td>1.142762</td>\n      <td>0.000770</td>\n      <td>1.188352</td>\n    </tr>\n    <tr>\n      <th>19694</th>\n      <td>(None, STI, Sore_Throat, HIV_Infection, Oral_L...</td>\n      <td>(Rectal_Pain)</td>\n      <td>0.014646</td>\n      <td>0.546986</td>\n      <td>0.008737</td>\n      <td>0.596567</td>\n      <td>1.090643</td>\n      <td>0.000726</td>\n      <td>1.122896</td>\n    </tr>\n    <tr>\n      <th>31111</th>\n      <td>(Penile_Oedema, Fever, STI, Sore_Throat, Recta...</td>\n      <td>(Solitary_Lesion)</td>\n      <td>0.010874</td>\n      <td>0.515243</td>\n      <td>0.006474</td>\n      <td>0.595376</td>\n      <td>1.155524</td>\n      <td>0.000871</td>\n      <td>1.198042</td>\n    </tr>\n    <tr>\n      <th>20005</th>\n      <td>(Penile_Oedema, None, Solitary_Lesion, Swollen...</td>\n      <td>(Rectal_Pain)</td>\n      <td>0.013452</td>\n      <td>0.546986</td>\n      <td>0.007983</td>\n      <td>0.593458</td>\n      <td>1.084960</td>\n      <td>0.000625</td>\n      <td>1.114310</td>\n    </tr>\n    <tr>\n      <th>...</th>\n      <td>...</td>\n      <td>...</td>\n      <td>...</td>\n      <td>...</td>\n      <td>...</td>\n      <td>...</td>\n      <td>...</td>\n      <td>...</td>\n      <td>...</td>\n    </tr>\n    <tr>\n      <th>36640</th>\n      <td>(Rectal_Pain)</td>\n      <td>(Penile_Oedema, Swollen Lymph Nodes, STI, Swol...</td>\n      <td>0.546986</td>\n      <td>0.011189</td>\n      <td>0.005029</td>\n      <td>0.009193</td>\n      <td>0.821663</td>\n      <td>-0.001091</td>\n      <td>0.997986</td>\n    </tr>\n    <tr>\n      <th>37776</th>\n      <td>(HIV_Infection)</td>\n      <td>(Penile_Oedema, STI, Sore_Throat, Rectal_Pain,...</td>\n      <td>0.558615</td>\n      <td>0.009303</td>\n      <td>0.005091</td>\n      <td>0.009114</td>\n      <td>0.979740</td>\n      <td>-0.000105</td>\n      <td>0.999810</td>\n    </tr>\n    <tr>\n      <th>36642</th>\n      <td>(HIV_Infection)</td>\n      <td>(Penile_Oedema, Swollen Lymph Nodes, STI, Rect...</td>\n      <td>0.558615</td>\n      <td>0.010120</td>\n      <td>0.005029</td>\n      <td>0.009002</td>\n      <td>0.889512</td>\n      <td>-0.000625</td>\n      <td>0.998872</td>\n    </tr>\n    <tr>\n      <th>37903</th>\n      <td>(HIV_Infection)</td>\n      <td>(Penile_Oedema, STI, Sore_Throat, Rectal_Pain,...</td>\n      <td>0.558615</td>\n      <td>0.010057</td>\n      <td>0.005029</td>\n      <td>0.009002</td>\n      <td>0.895071</td>\n      <td>-0.000589</td>\n      <td>0.998935</td>\n    </tr>\n    <tr>\n      <th>34376</th>\n      <td>(HIV_Infection)</td>\n      <td>(Penile_Oedema, None, STI, Rectal_Pain, Solita...</td>\n      <td>0.558615</td>\n      <td>0.009240</td>\n      <td>0.005029</td>\n      <td>0.009002</td>\n      <td>0.974227</td>\n      <td>-0.000133</td>\n      <td>0.999760</td>\n    </tr>\n  </tbody>\n</table>\n<p>39166 rows × 9 columns</p>\n</div>"
     },
     "execution_count": 6,
     "metadata": {},
     "output_type": "execute_result"
    }
   ],
   "source": [
    "# lift = 1\n",
    "# confidence = 1 is good?\n",
    "symptoms_df = utils.clean_data(data)\n",
    "frequency = apriori(symptoms_df, min_support=0.005, use_colnames=True)\n",
    "rules = association_rules(frequency, metric='lift')\n",
    "rules.sort_values('confidence', ascending=False, inplace=True)\n",
    "rules"
   ],
   "metadata": {
    "collapsed": false
   }
  },
  {
   "cell_type": "code",
   "execution_count": 7,
   "outputs": [],
   "source": [
    "# TODO: Change legend and axises\n",
    "sns.countplot(x=data[constants.SYSTEMIC_ILLNESS], hue=data[constants.MONKEY_POX], palette=constants.COLOR_PALETTE)\n",
    "plt.show()"
   ],
   "metadata": {
    "collapsed": false
   }
  },
  {
   "cell_type": "markdown",
   "source": [
    "Plots data, using pairplot"
   ],
   "metadata": {
    "collapsed": false
   }
  },
  {
   "cell_type": "code",
   "execution_count": null,
   "outputs": [],
   "source": [
    "#sns.pairplot(data.head(100), hue='MonkeyPox')"
   ],
   "metadata": {
    "collapsed": false
   }
  },
  {
   "cell_type": "markdown",
   "source": [
    "Calculates accuracy, using GaussianNB()"
   ],
   "metadata": {
    "collapsed": false
   }
  },
  {
   "cell_type": "code",
   "execution_count": 8,
   "outputs": [
    {
     "name": "stdout",
     "output_type": "stream",
     "text": [
      "67.984\n"
     ]
    }
   ],
   "source": [
    "ran_stream = 23\n",
    "x_train, x_test, y_train, y_test = train_test_split(data_x, target, random_state=ran_stream)\n",
    "\n",
    "model = GaussianNB()\n",
    "model.fit(x_train, y_train)\n",
    "y_prediction = model.predict(x_test)\n",
    "print(100 * accuracy_score(y_test, y_prediction))"
   ],
   "metadata": {
    "collapsed": false
   }
  },
  {
   "cell_type": "markdown",
   "source": [
    "Creates DecisionTree, by using entropy"
   ],
   "metadata": {
    "collapsed": false
   }
  },
  {
   "cell_type": "code",
   "execution_count": 9,
   "outputs": [],
   "source": [
    "x_train, x_test, y_train, y_test = train_test_split(data_x, target, test_size=0.30)\n",
    "model_tree = DecisionTreeClassifier(criterion='entropy', splitter='best', min_samples_split=0.10)\n",
    "model_tree.fit(x_train, y_train)\n",
    "# Accuracy checken.\n",
    "y_prediction = model_tree.predict(x_test)\n",
    "#print(100 * accuracy_score(y_test, y_prediction))\n",
    "text_representation = export_text(model_tree, feature_names=x_train.columns.values.tolist())\n",
    "figure = plt.figure(figsize=(10,8))\n",
    "plot_tree(model_tree, feature_names=x_train.columns, filled=True, rounded=True)\n",
    "plt.show()"
   ],
   "metadata": {
    "collapsed": false
   }
  },
  {
   "cell_type": "markdown",
   "source": [
    "Plots data, when symptom (2-7) is True and MonkeyPox is Positive"
   ],
   "metadata": {
    "collapsed": false
   }
  },
  {
   "cell_type": "code",
   "execution_count": 10,
   "outputs": [
    {
     "name": "stdout",
     "output_type": "stream",
     "text": [
      "          Rectal_Pain  Sore_Throat  Penile_Oedema  Oral_Lesions  \\\n",
      "Negative         3643         4184           4214          4228   \n",
      "Positive         8702         8370           8398          8258   \n",
      "\n",
      "          Solitary_Lesion  Swollen_Tonsils  HIV_Infection   STI  \n",
      "Negative             4330             4478           3697  3784  \n",
      "Positive             8197             8055           8887  8662  \n"
     ]
    }
   ],
   "source": [
    "symptoms = data.iloc[:, 1:-1].columns.values.tolist()\n",
    "symptoms_df = data.iloc[:, 1:]\n",
    "symptoms_df = utils.fetch_true_symptoms(symptoms, symptoms_df)\n",
    "print(symptoms_df)\n",
    "\n",
    "pos_lst, negative_lst = utils.create_outcome_lists(symptoms, symptoms_df)\n",
    "df1 = pd.DataFrame({'Symptoms': symptoms, 'Number of infections': pos_lst})\n",
    "df2 = pd.DataFrame({'Symptoms': symptoms, 'Number of infections': negative_lst})\n",
    "df1['outcome'] = 'Positive'\n",
    "df2['outcome'] = 'Negative'\n",
    "res = pd.concat([df1, df2])\n",
    "sns.barplot(x='Symptoms', y='Number of infections', data=res, hue='outcome', palette=constants.COLOR_PALETTE)\n",
    "plt.show()"
   ],
   "metadata": {
    "collapsed": false
   }
  },
  {
   "cell_type": "markdown",
   "source": [
    "Calculates accuracy by removing different symptoms, checks if accuracy is higher or lower depending on which symptom is removed"
   ],
   "metadata": {
    "collapsed": false
   }
  },
  {
   "cell_type": "code",
   "execution_count": 11,
   "outputs": [
    {
     "name": "stdout",
     "output_type": "stream",
     "text": [
      "[   (   (   \"DecisionTreeClassifier(criterion='entropy', min_samples_split=5)\",\n",
      "            \"['Systemic_Illness', 'Rectal_Pain', 'Sore_Throat', \"\n",
      "            \"'HIV_Infection', 'STI']\"),\n",
      "        68.8),\n",
      "    (   (   'RandomForestClassifier()',\n",
      "            \"['Systemic_Illness', 'Rectal_Pain', 'Sore_Throat', \"\n",
      "            \"'HIV_Infection', 'STI']\"),\n",
      "        68.8),\n",
      "    (   (   \"DecisionTreeClassifier(criterion='entropy', min_samples_split=5)\",\n",
      "            \"['Systemic_Illness', 'Rectal_Pain', 'Sore_Throat', \"\n",
      "            \"'Solitary_Lesion', 'HIV_Infection', 'STI']\"),\n",
      "        68.768),\n",
      "    (   (   \"DecisionTreeClassifier(criterion='entropy', min_samples_split=5)\",\n",
      "            \"['Systemic_Illness', 'Rectal_Pain', 'Penile_Oedema', \"\n",
      "            \"'Solitary_Lesion', 'HIV_Infection', 'STI']\"),\n",
      "        68.768),\n",
      "    (   (   'RandomForestClassifier()',\n",
      "            \"['Systemic_Illness', 'Rectal_Pain', 'Penile_Oedema', \"\n",
      "            \"'Solitary_Lesion', 'HIV_Infection', 'STI']\"),\n",
      "        68.768)]\n"
     ]
    }
   ],
   "source": [
    "temp_dict = utils.create_feature_accuracy_dict(data_x, target)\n",
    "top_items = sorted(temp_dict.items(), key = lambda x: x[1], reverse=True)[:5]\n",
    "pp.pprint(top_items)"
   ],
   "metadata": {
    "collapsed": false
   }
  },
  {
   "cell_type": "markdown",
   "source": [
    "Tries to detect overfitting by plotting the test and train data"
   ],
   "metadata": {
    "collapsed": false
   }
  },
  {
   "cell_type": "code",
   "execution_count": 13,
   "outputs": [
    {
     "name": "stdout",
     "output_type": "stream",
     "text": [
      "(25000, 9) (25000, 1)\n"
     ]
    }
   ],
   "source": [
    "utils.check_over_fitting(data_x, target)"
   ],
   "metadata": {
    "collapsed": false
   }
  }
 ],
 "metadata": {
  "kernelspec": {
   "display_name": "Python 3",
   "language": "python",
   "name": "python3"
  },
  "language_info": {
   "codemirror_mode": {
    "name": "ipython",
    "version": 2
   },
   "file_extension": ".py",
   "mimetype": "text/x-python",
   "name": "python",
   "nbconvert_exporter": "python",
   "pygments_lexer": "ipython2",
   "version": "2.7.6"
  }
 },
 "nbformat": 4,
 "nbformat_minor": 0
}
