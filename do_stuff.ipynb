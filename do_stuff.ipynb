{
 "cells": [
  {
   "cell_type": "markdown",
   "source": [
    "Import all variables/ libraries from main"
   ],
   "metadata": {
    "collapsed": false
   }
  },
  {
   "cell_type": "code",
   "execution_count": 1,
   "outputs": [
    {
     "name": "stderr",
     "output_type": "stream",
     "text": [
      "2023-01-01 18:50:33.658137: I tensorflow/core/platform/cpu_feature_guard.cc:193] This TensorFlow binary is optimized with oneAPI Deep Neural Network Library (oneDNN) to use the following CPU instructions in performance-critical operations:  AVX2 FMA\n",
      "To enable them in other operations, rebuild TensorFlow with the appropriate compiler flags.\n",
      "2023-01-01 18:50:33.766483: W tensorflow/compiler/xla/stream_executor/platform/default/dso_loader.cc:64] Could not load dynamic library 'libcudart.so.11.0'; dlerror: libcudart.so.11.0: cannot open shared object file: No such file or directory\n",
      "2023-01-01 18:50:33.766500: I tensorflow/compiler/xla/stream_executor/cuda/cudart_stub.cc:29] Ignore above cudart dlerror if you do not have a GPU set up on your machine.\n",
      "2023-01-01 18:50:34.407678: W tensorflow/compiler/xla/stream_executor/platform/default/dso_loader.cc:64] Could not load dynamic library 'libnvinfer.so.7'; dlerror: libnvinfer.so.7: cannot open shared object file: No such file or directory\n",
      "2023-01-01 18:50:34.407747: W tensorflow/compiler/xla/stream_executor/platform/default/dso_loader.cc:64] Could not load dynamic library 'libnvinfer_plugin.so.7'; dlerror: libnvinfer_plugin.so.7: cannot open shared object file: No such file or directory\n",
      "2023-01-01 18:50:34.407754: W tensorflow/compiler/tf2tensorrt/utils/py_utils.cc:38] TF-TRT Warning: Cannot dlopen some TensorRT libraries. If you would like to use Nvidia GPU with TensorRT, please make sure the missing libraries mentioned above are installed properly.\n"
     ]
    }
   ],
   "source": [
    "from main import data, pd, plt, train_test_split, GaussianNB, accuracy_score, DecisionTreeClassifier, export_text, plot_tree, sns, apriori, association_rules, data_x, target, Dense, Sequential\n",
    "import constants\n",
    "import utils\n",
    "import pprint\n",
    "\n",
    "pp = pprint.PrettyPrinter(indent=4)"
   ],
   "metadata": {
    "collapsed": false
   }
  },
  {
   "cell_type": "markdown",
   "source": [
    "Print data"
   ],
   "metadata": {
    "collapsed": false
   }
  },
  {
   "cell_type": "code",
   "execution_count": 2,
   "outputs": [
    {
     "data": {
      "text/plain": "               Systemic_Illness  Rectal_Pain  Sore_Throat  Penile_Oedema  \\\nPatient_ID                                                                 \nP0                         None        False         True           True   \nP1                        Fever         True        False           True   \nP2                        Fever        False         True           True   \nP3                         None         True        False          False   \nP4          Swollen Lymph Nodes         True         True           True   \n...                         ...          ...          ...            ...   \nP24995                     None         True         True          False   \nP24996                    Fever        False         True           True   \nP24997                     None         True         True          False   \nP24998      Swollen Lymph Nodes        False         True          False   \nP24999      Swollen Lymph Nodes        False        False           True   \n\n            Oral_Lesions  Solitary_Lesion  Swollen_Tonsils  HIV_Infection  \\\nPatient_ID                                                                  \nP0                  True            False             True          False   \nP1                  True            False            False           True   \nP2                 False            False            False           True   \nP3                 False             True             True           True   \nP4                 False            False             True           True   \n...                  ...              ...              ...            ...   \nP24995              True             True            False          False   \nP24996             False             True             True           True   \nP24997             False             True             True          False   \nP24998              True             True             True          False   \nP24999             False            False             True           True   \n\n              STI MonkeyPox  \nPatient_ID                   \nP0          False  Negative  \nP1          False  Positive  \nP2          False  Positive  \nP3          False  Positive  \nP4          False  Positive  \n...           ...       ...  \nP24995       True  Positive  \nP24996       True  Positive  \nP24997      False  Positive  \nP24998      False  Negative  \nP24999      False  Positive  \n\n[25000 rows x 10 columns]",
      "text/html": "<div>\n<style scoped>\n    .dataframe tbody tr th:only-of-type {\n        vertical-align: middle;\n    }\n\n    .dataframe tbody tr th {\n        vertical-align: top;\n    }\n\n    .dataframe thead th {\n        text-align: right;\n    }\n</style>\n<table border=\"1\" class=\"dataframe\">\n  <thead>\n    <tr style=\"text-align: right;\">\n      <th></th>\n      <th>Systemic_Illness</th>\n      <th>Rectal_Pain</th>\n      <th>Sore_Throat</th>\n      <th>Penile_Oedema</th>\n      <th>Oral_Lesions</th>\n      <th>Solitary_Lesion</th>\n      <th>Swollen_Tonsils</th>\n      <th>HIV_Infection</th>\n      <th>STI</th>\n      <th>MonkeyPox</th>\n    </tr>\n    <tr>\n      <th>Patient_ID</th>\n      <th></th>\n      <th></th>\n      <th></th>\n      <th></th>\n      <th></th>\n      <th></th>\n      <th></th>\n      <th></th>\n      <th></th>\n      <th></th>\n    </tr>\n  </thead>\n  <tbody>\n    <tr>\n      <th>P0</th>\n      <td>None</td>\n      <td>False</td>\n      <td>True</td>\n      <td>True</td>\n      <td>True</td>\n      <td>False</td>\n      <td>True</td>\n      <td>False</td>\n      <td>False</td>\n      <td>Negative</td>\n    </tr>\n    <tr>\n      <th>P1</th>\n      <td>Fever</td>\n      <td>True</td>\n      <td>False</td>\n      <td>True</td>\n      <td>True</td>\n      <td>False</td>\n      <td>False</td>\n      <td>True</td>\n      <td>False</td>\n      <td>Positive</td>\n    </tr>\n    <tr>\n      <th>P2</th>\n      <td>Fever</td>\n      <td>False</td>\n      <td>True</td>\n      <td>True</td>\n      <td>False</td>\n      <td>False</td>\n      <td>False</td>\n      <td>True</td>\n      <td>False</td>\n      <td>Positive</td>\n    </tr>\n    <tr>\n      <th>P3</th>\n      <td>None</td>\n      <td>True</td>\n      <td>False</td>\n      <td>False</td>\n      <td>False</td>\n      <td>True</td>\n      <td>True</td>\n      <td>True</td>\n      <td>False</td>\n      <td>Positive</td>\n    </tr>\n    <tr>\n      <th>P4</th>\n      <td>Swollen Lymph Nodes</td>\n      <td>True</td>\n      <td>True</td>\n      <td>True</td>\n      <td>False</td>\n      <td>False</td>\n      <td>True</td>\n      <td>True</td>\n      <td>False</td>\n      <td>Positive</td>\n    </tr>\n    <tr>\n      <th>...</th>\n      <td>...</td>\n      <td>...</td>\n      <td>...</td>\n      <td>...</td>\n      <td>...</td>\n      <td>...</td>\n      <td>...</td>\n      <td>...</td>\n      <td>...</td>\n      <td>...</td>\n    </tr>\n    <tr>\n      <th>P24995</th>\n      <td>None</td>\n      <td>True</td>\n      <td>True</td>\n      <td>False</td>\n      <td>True</td>\n      <td>True</td>\n      <td>False</td>\n      <td>False</td>\n      <td>True</td>\n      <td>Positive</td>\n    </tr>\n    <tr>\n      <th>P24996</th>\n      <td>Fever</td>\n      <td>False</td>\n      <td>True</td>\n      <td>True</td>\n      <td>False</td>\n      <td>True</td>\n      <td>True</td>\n      <td>True</td>\n      <td>True</td>\n      <td>Positive</td>\n    </tr>\n    <tr>\n      <th>P24997</th>\n      <td>None</td>\n      <td>True</td>\n      <td>True</td>\n      <td>False</td>\n      <td>False</td>\n      <td>True</td>\n      <td>True</td>\n      <td>False</td>\n      <td>False</td>\n      <td>Positive</td>\n    </tr>\n    <tr>\n      <th>P24998</th>\n      <td>Swollen Lymph Nodes</td>\n      <td>False</td>\n      <td>True</td>\n      <td>False</td>\n      <td>True</td>\n      <td>True</td>\n      <td>True</td>\n      <td>False</td>\n      <td>False</td>\n      <td>Negative</td>\n    </tr>\n    <tr>\n      <th>P24999</th>\n      <td>Swollen Lymph Nodes</td>\n      <td>False</td>\n      <td>False</td>\n      <td>True</td>\n      <td>False</td>\n      <td>False</td>\n      <td>True</td>\n      <td>True</td>\n      <td>False</td>\n      <td>Positive</td>\n    </tr>\n  </tbody>\n</table>\n<p>25000 rows × 10 columns</p>\n</div>"
     },
     "execution_count": 2,
     "metadata": {},
     "output_type": "execute_result"
    }
   ],
   "source": [
    "data"
   ],
   "metadata": {
    "collapsed": false
   }
  },
  {
   "cell_type": "markdown",
   "source": [
    "Plot data, shows how often MonkeyPox is negative and positive"
   ],
   "metadata": {
    "collapsed": false
   }
  },
  {
   "cell_type": "code",
   "execution_count": 3,
   "outputs": [],
   "source": [
    "series = data[constants.MONKEY_POX].value_counts()\n",
    "\n",
    "plt.bar(series.index, series.values, color=constants.COLOR_PALETTE)\n",
    "plt.title('Cases of Monkey Pox seperated by positive and negative')\n",
    "plt.ylabel('Number of infections')\n",
    "plt.show()"
   ],
   "metadata": {
    "collapsed": false
   }
  },
  {
   "cell_type": "markdown",
   "source": [
    "Shows True/ False spread from symptom (2-7)"
   ],
   "metadata": {
    "collapsed": false
   }
  },
  {
   "cell_type": "code",
   "execution_count": 5,
   "outputs": [
    {
     "name": "stderr",
     "output_type": "stream",
     "text": [
      "/tmp/ipykernel_7732/326043711.py:5: FutureWarning: The frame.append method is deprecated and will be removed from pandas in a future version. Use pandas.concat instead.\n",
      "  df_symptoms_series= df_symptoms_series.append(series_symptom_lst).T\n"
     ]
    },
    {
     "data": {
      "text/plain": "       Rectal_Pain  Sore_Throat  Penile_Oedema  Oral_Lesions  Solitary_Lesion  \\\nFalse        12655        12446          12388         12514            12473   \nTrue         12345        12554          12612         12486            12527   \n\n       Swollen_Tonsils  HIV_Infection    STI  \nFalse            12467          12416  12554  \nTrue             12533          12584  12446  ",
      "text/html": "<div>\n<style scoped>\n    .dataframe tbody tr th:only-of-type {\n        vertical-align: middle;\n    }\n\n    .dataframe tbody tr th {\n        vertical-align: top;\n    }\n\n    .dataframe thead th {\n        text-align: right;\n    }\n</style>\n<table border=\"1\" class=\"dataframe\">\n  <thead>\n    <tr style=\"text-align: right;\">\n      <th></th>\n      <th>Rectal_Pain</th>\n      <th>Sore_Throat</th>\n      <th>Penile_Oedema</th>\n      <th>Oral_Lesions</th>\n      <th>Solitary_Lesion</th>\n      <th>Swollen_Tonsils</th>\n      <th>HIV_Infection</th>\n      <th>STI</th>\n    </tr>\n  </thead>\n  <tbody>\n    <tr>\n      <th>False</th>\n      <td>12655</td>\n      <td>12446</td>\n      <td>12388</td>\n      <td>12514</td>\n      <td>12473</td>\n      <td>12467</td>\n      <td>12416</td>\n      <td>12554</td>\n    </tr>\n    <tr>\n      <th>True</th>\n      <td>12345</td>\n      <td>12554</td>\n      <td>12612</td>\n      <td>12486</td>\n      <td>12527</td>\n      <td>12533</td>\n      <td>12584</td>\n      <td>12446</td>\n    </tr>\n  </tbody>\n</table>\n</div>"
     },
     "execution_count": 5,
     "metadata": {},
     "output_type": "execute_result"
    }
   ],
   "source": [
    "symptoms = data.iloc[:, 1:-1].columns.values.tolist()\n",
    "# Gets columns from dataframe and saves them as serieses into a list\n",
    "series_symptom_lst = [data[symptom].value_counts() for symptom in symptoms]\n",
    "df_symptoms_series = pd.DataFrame()\n",
    "df_symptoms_series= df_symptoms_series.append(series_symptom_lst).T\n",
    "df_symptoms_series"
   ],
   "metadata": {
    "collapsed": false
   }
  },
  {
   "cell_type": "markdown",
   "source": [
    "Plots True/ False spread from symptom (2-7)"
   ],
   "metadata": {
    "collapsed": false
   }
  },
  {
   "cell_type": "code",
   "execution_count": 6,
   "outputs": [],
   "source": [
    "pos_lst, negative_lst = utils.create_outcome_lists(symptoms, df_symptoms_series, False, True)\n",
    "df1 = pd.DataFrame({'Symptoms': symptoms, 'Number of infections': pos_lst})\n",
    "df2 = pd.DataFrame({'Symptoms': symptoms, 'Number of infections': negative_lst})\n",
    "df1['outcome'] = 'True'\n",
    "df2['outcome'] = 'False'\n",
    "res = pd.concat([df1, df2])\n",
    "sns.barplot(x='Symptoms', y='Number of infections', hue='outcome', data=res, palette=constants.COLOR_PALETTE)\n",
    "plt.show()"
   ],
   "metadata": {
    "collapsed": false
   }
  },
  {
   "cell_type": "markdown",
   "source": [
    "Shows correlations between the different features"
   ],
   "metadata": {
    "collapsed": false
   }
  },
  {
   "cell_type": "code",
   "execution_count": 7,
   "outputs": [
    {
     "name": "stderr",
     "output_type": "stream",
     "text": [
      "/tmp/ipykernel_7732/1271232218.py:1: FutureWarning: The default value of numeric_only in DataFrame.corr is deprecated. In a future version, it will default to False. Select only valid columns or specify the value of numeric_only to silence this warning.\n",
      "  df_corr  = data.corr()\n"
     ]
    },
    {
     "data": {
      "text/plain": "                 Rectal_Pain  Sore_Throat  Penile_Oedema  Oral_Lesions  \\\nRectal_Pain         1.000000     0.006214       0.005312      0.007747   \nSore_Throat         0.006214     1.000000       0.009082     -0.000795   \nPenile_Oedema       0.005312     0.009082       1.000000      0.003850   \nOral_Lesions        0.007747    -0.000795       0.003850      1.000000   \nSolitary_Lesion     0.001147    -0.003609       0.002781     -0.005198   \nSwollen_Tonsils     0.002113    -0.002011       0.000536     -0.007757   \nHIV_Infection       0.005764     0.000771       0.003620     -0.012153   \nSTI                 0.000666    -0.001901      -0.005722     -0.002725   \n\n                 Solitary_Lesion  Swollen_Tonsils  HIV_Infection       STI  \nRectal_Pain             0.001147         0.002113       0.005764  0.000666  \nSore_Throat            -0.003609        -0.002011       0.000771 -0.001901  \nPenile_Oedema           0.002781         0.000536       0.003620 -0.005722  \nOral_Lesions           -0.005198        -0.007757      -0.012153 -0.002725  \nSolitary_Lesion         1.000000         0.002874      -0.002335  0.009849  \nSwollen_Tonsils         0.002874         1.000000      -0.004258 -0.006469  \nHIV_Infection          -0.002335        -0.004258       1.000000  0.001309  \nSTI                     0.009849        -0.006469       0.001309  1.000000  ",
      "text/html": "<div>\n<style scoped>\n    .dataframe tbody tr th:only-of-type {\n        vertical-align: middle;\n    }\n\n    .dataframe tbody tr th {\n        vertical-align: top;\n    }\n\n    .dataframe thead th {\n        text-align: right;\n    }\n</style>\n<table border=\"1\" class=\"dataframe\">\n  <thead>\n    <tr style=\"text-align: right;\">\n      <th></th>\n      <th>Rectal_Pain</th>\n      <th>Sore_Throat</th>\n      <th>Penile_Oedema</th>\n      <th>Oral_Lesions</th>\n      <th>Solitary_Lesion</th>\n      <th>Swollen_Tonsils</th>\n      <th>HIV_Infection</th>\n      <th>STI</th>\n    </tr>\n  </thead>\n  <tbody>\n    <tr>\n      <th>Rectal_Pain</th>\n      <td>1.000000</td>\n      <td>0.006214</td>\n      <td>0.005312</td>\n      <td>0.007747</td>\n      <td>0.001147</td>\n      <td>0.002113</td>\n      <td>0.005764</td>\n      <td>0.000666</td>\n    </tr>\n    <tr>\n      <th>Sore_Throat</th>\n      <td>0.006214</td>\n      <td>1.000000</td>\n      <td>0.009082</td>\n      <td>-0.000795</td>\n      <td>-0.003609</td>\n      <td>-0.002011</td>\n      <td>0.000771</td>\n      <td>-0.001901</td>\n    </tr>\n    <tr>\n      <th>Penile_Oedema</th>\n      <td>0.005312</td>\n      <td>0.009082</td>\n      <td>1.000000</td>\n      <td>0.003850</td>\n      <td>0.002781</td>\n      <td>0.000536</td>\n      <td>0.003620</td>\n      <td>-0.005722</td>\n    </tr>\n    <tr>\n      <th>Oral_Lesions</th>\n      <td>0.007747</td>\n      <td>-0.000795</td>\n      <td>0.003850</td>\n      <td>1.000000</td>\n      <td>-0.005198</td>\n      <td>-0.007757</td>\n      <td>-0.012153</td>\n      <td>-0.002725</td>\n    </tr>\n    <tr>\n      <th>Solitary_Lesion</th>\n      <td>0.001147</td>\n      <td>-0.003609</td>\n      <td>0.002781</td>\n      <td>-0.005198</td>\n      <td>1.000000</td>\n      <td>0.002874</td>\n      <td>-0.002335</td>\n      <td>0.009849</td>\n    </tr>\n    <tr>\n      <th>Swollen_Tonsils</th>\n      <td>0.002113</td>\n      <td>-0.002011</td>\n      <td>0.000536</td>\n      <td>-0.007757</td>\n      <td>0.002874</td>\n      <td>1.000000</td>\n      <td>-0.004258</td>\n      <td>-0.006469</td>\n    </tr>\n    <tr>\n      <th>HIV_Infection</th>\n      <td>0.005764</td>\n      <td>0.000771</td>\n      <td>0.003620</td>\n      <td>-0.012153</td>\n      <td>-0.002335</td>\n      <td>-0.004258</td>\n      <td>1.000000</td>\n      <td>0.001309</td>\n    </tr>\n    <tr>\n      <th>STI</th>\n      <td>0.000666</td>\n      <td>-0.001901</td>\n      <td>-0.005722</td>\n      <td>-0.002725</td>\n      <td>0.009849</td>\n      <td>-0.006469</td>\n      <td>0.001309</td>\n      <td>1.000000</td>\n    </tr>\n  </tbody>\n</table>\n</div>"
     },
     "execution_count": 7,
     "metadata": {},
     "output_type": "execute_result"
    }
   ],
   "source": [
    "df_corr  = data.corr()\n",
    "df_corr"
   ],
   "metadata": {
    "collapsed": false
   }
  },
  {
   "cell_type": "markdown",
   "source": [
    "Plots heatmap: Shows correlations between the different features"
   ],
   "metadata": {
    "collapsed": false
   }
  },
  {
   "cell_type": "code",
   "execution_count": 8,
   "outputs": [],
   "source": [
    "sns.heatmap(df_corr, annot=True, vmin=0.5, vmax=0.7)\n",
    "plt.show()"
   ],
   "metadata": {
    "collapsed": false
   }
  },
  {
   "cell_type": "markdown",
   "source": [
    "Shows how often each systemic illness is causing MonkeyPox to be positive or negative"
   ],
   "metadata": {
    "collapsed": false
   }
  },
  {
   "cell_type": "code",
   "execution_count": 9,
   "outputs": [
    {
     "name": "stderr",
     "output_type": "stream",
     "text": [
      "/home/linus/Daten_Linus/Studium/IW7/Data_Mining/Project_Data_Mining/utils.py:50: SettingWithCopyWarning: \n",
      "A value is trying to be set on a copy of a slice from a DataFrame\n",
      "\n",
      "See the caveats in the documentation: https://pandas.pydata.org/pandas-docs/stable/user_guide/indexing.html#returning-a-view-versus-a-copy\n",
      "  df_concat[col][index] = True\n"
     ]
    },
    {
     "data": {
      "text/plain": "        Fever   None  Swollen Lymph Nodes  Muscle Aches and Pain  Rectal_Pain  \\\nP1       True  False                False                  False         True   \nP2       True  False                False                  False        False   \nP3      False   True                False                  False         True   \nP4      False  False                 True                  False         True   \nP6       True  False                False                  False        False   \n...       ...    ...                  ...                    ...          ...   \nP24994   True  False                False                  False        False   \nP24995  False   True                False                  False         True   \nP24996   True  False                False                  False        False   \nP24997  False   True                False                  False         True   \nP24999  False  False                 True                  False        False   \n\n        Sore_Throat  Penile_Oedema  Oral_Lesions  Solitary_Lesion  \\\nP1            False           True          True            False   \nP2             True           True         False            False   \nP3            False          False         False             True   \nP4             True           True         False            False   \nP6             True          False         False            False   \n...             ...            ...           ...              ...   \nP24994         True           True         False            False   \nP24995         True          False          True             True   \nP24996         True           True         False             True   \nP24997         True          False         False             True   \nP24999        False           True         False            False   \n\n        Swollen_Tonsils  HIV_Infection    STI  \nP1                False           True  False  \nP2                False           True  False  \nP3                 True           True  False  \nP4                 True           True  False  \nP6                False           True  False  \n...                 ...            ...    ...  \nP24994            False           True   True  \nP24995            False          False   True  \nP24996             True           True   True  \nP24997             True          False  False  \nP24999             True           True  False  \n\n[15909 rows x 12 columns]",
      "text/html": "<div>\n<style scoped>\n    .dataframe tbody tr th:only-of-type {\n        vertical-align: middle;\n    }\n\n    .dataframe tbody tr th {\n        vertical-align: top;\n    }\n\n    .dataframe thead th {\n        text-align: right;\n    }\n</style>\n<table border=\"1\" class=\"dataframe\">\n  <thead>\n    <tr style=\"text-align: right;\">\n      <th></th>\n      <th>Fever</th>\n      <th>None</th>\n      <th>Swollen Lymph Nodes</th>\n      <th>Muscle Aches and Pain</th>\n      <th>Rectal_Pain</th>\n      <th>Sore_Throat</th>\n      <th>Penile_Oedema</th>\n      <th>Oral_Lesions</th>\n      <th>Solitary_Lesion</th>\n      <th>Swollen_Tonsils</th>\n      <th>HIV_Infection</th>\n      <th>STI</th>\n    </tr>\n  </thead>\n  <tbody>\n    <tr>\n      <th>P1</th>\n      <td>True</td>\n      <td>False</td>\n      <td>False</td>\n      <td>False</td>\n      <td>True</td>\n      <td>False</td>\n      <td>True</td>\n      <td>True</td>\n      <td>False</td>\n      <td>False</td>\n      <td>True</td>\n      <td>False</td>\n    </tr>\n    <tr>\n      <th>P2</th>\n      <td>True</td>\n      <td>False</td>\n      <td>False</td>\n      <td>False</td>\n      <td>False</td>\n      <td>True</td>\n      <td>True</td>\n      <td>False</td>\n      <td>False</td>\n      <td>False</td>\n      <td>True</td>\n      <td>False</td>\n    </tr>\n    <tr>\n      <th>P3</th>\n      <td>False</td>\n      <td>True</td>\n      <td>False</td>\n      <td>False</td>\n      <td>True</td>\n      <td>False</td>\n      <td>False</td>\n      <td>False</td>\n      <td>True</td>\n      <td>True</td>\n      <td>True</td>\n      <td>False</td>\n    </tr>\n    <tr>\n      <th>P4</th>\n      <td>False</td>\n      <td>False</td>\n      <td>True</td>\n      <td>False</td>\n      <td>True</td>\n      <td>True</td>\n      <td>True</td>\n      <td>False</td>\n      <td>False</td>\n      <td>True</td>\n      <td>True</td>\n      <td>False</td>\n    </tr>\n    <tr>\n      <th>P6</th>\n      <td>True</td>\n      <td>False</td>\n      <td>False</td>\n      <td>False</td>\n      <td>False</td>\n      <td>True</td>\n      <td>False</td>\n      <td>False</td>\n      <td>False</td>\n      <td>False</td>\n      <td>True</td>\n      <td>False</td>\n    </tr>\n    <tr>\n      <th>...</th>\n      <td>...</td>\n      <td>...</td>\n      <td>...</td>\n      <td>...</td>\n      <td>...</td>\n      <td>...</td>\n      <td>...</td>\n      <td>...</td>\n      <td>...</td>\n      <td>...</td>\n      <td>...</td>\n      <td>...</td>\n    </tr>\n    <tr>\n      <th>P24994</th>\n      <td>True</td>\n      <td>False</td>\n      <td>False</td>\n      <td>False</td>\n      <td>False</td>\n      <td>True</td>\n      <td>True</td>\n      <td>False</td>\n      <td>False</td>\n      <td>False</td>\n      <td>True</td>\n      <td>True</td>\n    </tr>\n    <tr>\n      <th>P24995</th>\n      <td>False</td>\n      <td>True</td>\n      <td>False</td>\n      <td>False</td>\n      <td>True</td>\n      <td>True</td>\n      <td>False</td>\n      <td>True</td>\n      <td>True</td>\n      <td>False</td>\n      <td>False</td>\n      <td>True</td>\n    </tr>\n    <tr>\n      <th>P24996</th>\n      <td>True</td>\n      <td>False</td>\n      <td>False</td>\n      <td>False</td>\n      <td>False</td>\n      <td>True</td>\n      <td>True</td>\n      <td>False</td>\n      <td>True</td>\n      <td>True</td>\n      <td>True</td>\n      <td>True</td>\n    </tr>\n    <tr>\n      <th>P24997</th>\n      <td>False</td>\n      <td>True</td>\n      <td>False</td>\n      <td>False</td>\n      <td>True</td>\n      <td>True</td>\n      <td>False</td>\n      <td>False</td>\n      <td>True</td>\n      <td>True</td>\n      <td>False</td>\n      <td>False</td>\n    </tr>\n    <tr>\n      <th>P24999</th>\n      <td>False</td>\n      <td>False</td>\n      <td>True</td>\n      <td>False</td>\n      <td>False</td>\n      <td>False</td>\n      <td>True</td>\n      <td>False</td>\n      <td>False</td>\n      <td>True</td>\n      <td>True</td>\n      <td>False</td>\n    </tr>\n  </tbody>\n</table>\n<p>15909 rows × 12 columns</p>\n</div>"
     },
     "execution_count": 9,
     "metadata": {},
     "output_type": "execute_result"
    }
   ],
   "source": [
    "symptoms_df = utils.clean_data(data)\n",
    "symptoms_df"
   ],
   "metadata": {
    "collapsed": false
   }
  },
  {
   "cell_type": "code",
   "execution_count": 10,
   "outputs": [
    {
     "data": {
      "text/plain": "                                             antecedents  \\\n20250  (Oral_Lesions, Penile_Oedema, STI, None, Swoll...   \n36021  (Oral_Lesions, STI, Swollen Lymph Nodes, Swoll...   \n19692  (Oral_Lesions, Sore_Throat, STI, None, HIV_Inf...   \n31112  (Oral_Lesions, Penile_Oedema, Sore_Throat, STI...   \n20002  (Oral_Lesions, Penile_Oedema, Solitary_Lesion,...   \n...                                                  ...   \n34377                                      (Rectal_Pain)   \n37773                                    (HIV_Infection)   \n36642                                    (HIV_Infection)   \n34376                                    (HIV_Infection)   \n37898                                    (HIV_Infection)   \n\n                                             consequents  antecedent support  \\\n20250                                      (Rectal_Pain)            0.015086   \n36021                                      (Sore_Throat)            0.010246   \n19692                                      (Rectal_Pain)            0.014646   \n31112                                  (Solitary_Lesion)            0.010874   \n20002                                      (Rectal_Pain)            0.013452   \n...                                                  ...                 ...   \n34377  (Oral_Lesions, Penile_Oedema, STI, Solitary_Le...            0.546986   \n37773  (Oral_Lesions, Penile_Oedema, Sore_Throat, STI...            0.558615   \n36642  (Oral_Lesions, Penile_Oedema, STI, Swollen Lym...            0.558615   \n34376  (Oral_Lesions, Penile_Oedema, STI, Solitary_Le...            0.558615   \n37898  (Penile_Oedema, Sore_Throat, STI, Swollen_Tons...            0.558615   \n\n       consequent support   support  confidence      lift  leverage  \\\n20250            0.546986  0.009114    0.604167  1.104538  0.000863   \n36021            0.526117  0.006160    0.601227  1.142762  0.000770   \n19692            0.546986  0.008737    0.596567  1.090643  0.000726   \n31112            0.515243  0.006474    0.595376  1.155524  0.000871   \n20002            0.546986  0.007983    0.593458  1.084960  0.000625   \n...                   ...       ...         ...       ...       ...   \n34377            0.008863  0.005029    0.009193  1.037277  0.000181   \n37773            0.009303  0.005091    0.009114  0.979740 -0.000105   \n36642            0.010120  0.005029    0.009002  0.889512 -0.000625   \n34376            0.009240  0.005029    0.009002  0.974227 -0.000133   \n37898            0.010057  0.005029    0.009002  0.895071 -0.000589   \n\n       conviction  \n20250    1.144456  \n36021    1.188352  \n19692    1.122896  \n31112    1.198042  \n20002    1.114310  \n...           ...  \n34377    1.000333  \n37773    0.999810  \n36642    0.998872  \n34376    0.999760  \n37898    0.998935  \n\n[39166 rows x 9 columns]",
      "text/html": "<div>\n<style scoped>\n    .dataframe tbody tr th:only-of-type {\n        vertical-align: middle;\n    }\n\n    .dataframe tbody tr th {\n        vertical-align: top;\n    }\n\n    .dataframe thead th {\n        text-align: right;\n    }\n</style>\n<table border=\"1\" class=\"dataframe\">\n  <thead>\n    <tr style=\"text-align: right;\">\n      <th></th>\n      <th>antecedents</th>\n      <th>consequents</th>\n      <th>antecedent support</th>\n      <th>consequent support</th>\n      <th>support</th>\n      <th>confidence</th>\n      <th>lift</th>\n      <th>leverage</th>\n      <th>conviction</th>\n    </tr>\n  </thead>\n  <tbody>\n    <tr>\n      <th>20250</th>\n      <td>(Oral_Lesions, Penile_Oedema, STI, None, Swoll...</td>\n      <td>(Rectal_Pain)</td>\n      <td>0.015086</td>\n      <td>0.546986</td>\n      <td>0.009114</td>\n      <td>0.604167</td>\n      <td>1.104538</td>\n      <td>0.000863</td>\n      <td>1.144456</td>\n    </tr>\n    <tr>\n      <th>36021</th>\n      <td>(Oral_Lesions, STI, Swollen Lymph Nodes, Swoll...</td>\n      <td>(Sore_Throat)</td>\n      <td>0.010246</td>\n      <td>0.526117</td>\n      <td>0.006160</td>\n      <td>0.601227</td>\n      <td>1.142762</td>\n      <td>0.000770</td>\n      <td>1.188352</td>\n    </tr>\n    <tr>\n      <th>19692</th>\n      <td>(Oral_Lesions, Sore_Throat, STI, None, HIV_Inf...</td>\n      <td>(Rectal_Pain)</td>\n      <td>0.014646</td>\n      <td>0.546986</td>\n      <td>0.008737</td>\n      <td>0.596567</td>\n      <td>1.090643</td>\n      <td>0.000726</td>\n      <td>1.122896</td>\n    </tr>\n    <tr>\n      <th>31112</th>\n      <td>(Oral_Lesions, Penile_Oedema, Sore_Throat, STI...</td>\n      <td>(Solitary_Lesion)</td>\n      <td>0.010874</td>\n      <td>0.515243</td>\n      <td>0.006474</td>\n      <td>0.595376</td>\n      <td>1.155524</td>\n      <td>0.000871</td>\n      <td>1.198042</td>\n    </tr>\n    <tr>\n      <th>20002</th>\n      <td>(Oral_Lesions, Penile_Oedema, Solitary_Lesion,...</td>\n      <td>(Rectal_Pain)</td>\n      <td>0.013452</td>\n      <td>0.546986</td>\n      <td>0.007983</td>\n      <td>0.593458</td>\n      <td>1.084960</td>\n      <td>0.000625</td>\n      <td>1.114310</td>\n    </tr>\n    <tr>\n      <th>...</th>\n      <td>...</td>\n      <td>...</td>\n      <td>...</td>\n      <td>...</td>\n      <td>...</td>\n      <td>...</td>\n      <td>...</td>\n      <td>...</td>\n      <td>...</td>\n    </tr>\n    <tr>\n      <th>34377</th>\n      <td>(Rectal_Pain)</td>\n      <td>(Oral_Lesions, Penile_Oedema, STI, Solitary_Le...</td>\n      <td>0.546986</td>\n      <td>0.008863</td>\n      <td>0.005029</td>\n      <td>0.009193</td>\n      <td>1.037277</td>\n      <td>0.000181</td>\n      <td>1.000333</td>\n    </tr>\n    <tr>\n      <th>37773</th>\n      <td>(HIV_Infection)</td>\n      <td>(Oral_Lesions, Penile_Oedema, Sore_Throat, STI...</td>\n      <td>0.558615</td>\n      <td>0.009303</td>\n      <td>0.005091</td>\n      <td>0.009114</td>\n      <td>0.979740</td>\n      <td>-0.000105</td>\n      <td>0.999810</td>\n    </tr>\n    <tr>\n      <th>36642</th>\n      <td>(HIV_Infection)</td>\n      <td>(Oral_Lesions, Penile_Oedema, STI, Swollen Lym...</td>\n      <td>0.558615</td>\n      <td>0.010120</td>\n      <td>0.005029</td>\n      <td>0.009002</td>\n      <td>0.889512</td>\n      <td>-0.000625</td>\n      <td>0.998872</td>\n    </tr>\n    <tr>\n      <th>34376</th>\n      <td>(HIV_Infection)</td>\n      <td>(Oral_Lesions, Penile_Oedema, STI, Solitary_Le...</td>\n      <td>0.558615</td>\n      <td>0.009240</td>\n      <td>0.005029</td>\n      <td>0.009002</td>\n      <td>0.974227</td>\n      <td>-0.000133</td>\n      <td>0.999760</td>\n    </tr>\n    <tr>\n      <th>37898</th>\n      <td>(HIV_Infection)</td>\n      <td>(Penile_Oedema, Sore_Throat, STI, Swollen_Tons...</td>\n      <td>0.558615</td>\n      <td>0.010057</td>\n      <td>0.005029</td>\n      <td>0.009002</td>\n      <td>0.895071</td>\n      <td>-0.000589</td>\n      <td>0.998935</td>\n    </tr>\n  </tbody>\n</table>\n<p>39166 rows × 9 columns</p>\n</div>"
     },
     "execution_count": 10,
     "metadata": {},
     "output_type": "execute_result"
    }
   ],
   "source": [
    "frequency = apriori(symptoms_df, min_support=0.005, use_colnames=True)\n",
    "rules = association_rules(frequency, metric='lift')\n",
    "rules.sort_values('confidence', ascending=False, inplace=True)\n",
    "rules"
   ],
   "metadata": {
    "collapsed": false
   }
  },
  {
   "cell_type": "code",
   "execution_count": 11,
   "outputs": [],
   "source": [
    "sns.countplot(x=data[constants.SYSTEMIC_ILLNESS], hue=data[constants.MONKEY_POX], palette=constants.COLOR_PALETTE)\n",
    "plt.show()"
   ],
   "metadata": {
    "collapsed": false
   }
  },
  {
   "cell_type": "markdown",
   "source": [
    "Plots data, using pairplot"
   ],
   "metadata": {
    "collapsed": false
   }
  },
  {
   "cell_type": "code",
   "execution_count": null,
   "outputs": [],
   "source": [
    "#sns.pairplot(data.head(100), hue='MonkeyPox')"
   ],
   "metadata": {
    "collapsed": false
   }
  },
  {
   "cell_type": "markdown",
   "source": [
    "Calculates accuracy, using GaussianNB()"
   ],
   "metadata": {
    "collapsed": false
   }
  },
  {
   "cell_type": "code",
   "execution_count": 12,
   "outputs": [
    {
     "name": "stdout",
     "output_type": "stream",
     "text": [
      "67.984\n"
     ]
    }
   ],
   "source": [
    "ran_stream = 23\n",
    "x_train, x_test, y_train, y_test = train_test_split(data_x, target, random_state=ran_stream)\n",
    "\n",
    "model = GaussianNB()\n",
    "model.fit(x_train, y_train)\n",
    "y_prediction = model.predict(x_test)\n",
    "print(100 * accuracy_score(y_test, y_prediction))"
   ],
   "metadata": {
    "collapsed": false
   }
  },
  {
   "cell_type": "markdown",
   "source": [
    "Creates DecisionTree, by using entropy"
   ],
   "metadata": {
    "collapsed": false
   }
  },
  {
   "cell_type": "code",
   "execution_count": 13,
   "outputs": [],
   "source": [
    "x_train, x_test, y_train, y_test = train_test_split(data_x, target, test_size=0.30)\n",
    "model_tree = DecisionTreeClassifier(criterion='entropy', splitter='best', min_samples_split=0.20)\n",
    "model_tree.fit(x_train, y_train)\n",
    "# Accuracy checken.\n",
    "y_prediction = model_tree.predict(x_test)\n",
    "#print(100 * accuracy_score(y_test, y_prediction))\n",
    "text_representation = export_text(model_tree, feature_names=x_train.columns.values.tolist())\n",
    "figure = plt.figure(figsize=(10,8))\n",
    "plot_tree(model_tree, feature_names=x_train.columns, filled=True, rounded=True)\n",
    "plt.show()"
   ],
   "metadata": {
    "collapsed": false
   }
  },
  {
   "cell_type": "markdown",
   "source": [
    "Plots data, when symptom (2-7) is True and MonkeyPox is Positive"
   ],
   "metadata": {
    "collapsed": false
   }
  },
  {
   "cell_type": "code",
   "execution_count": 14,
   "outputs": [],
   "source": [
    "symptoms_df = data.iloc[:, 1:]\n",
    "symptoms_df = utils.fetch_true_symptoms(symptoms, symptoms_df)\n",
    "\n",
    "pos_lst, negative_lst = utils.create_outcome_lists(symptoms, symptoms_df, 'Negative', 'Positive')\n",
    "df1 = pd.DataFrame({'Symptoms': symptoms, 'Number of infections': pos_lst})\n",
    "df2 = pd.DataFrame({'Symptoms': symptoms, 'Number of infections': negative_lst})\n",
    "df1['outcome'] = 'Positive'\n",
    "df2['outcome'] = 'Negative'\n",
    "res = pd.concat([df1, df2])\n",
    "sns.barplot(x='Symptoms', y='Number of infections', data=res, hue='outcome', palette=constants.COLOR_PALETTE)\n",
    "plt.show()"
   ],
   "metadata": {
    "collapsed": false
   }
  },
  {
   "cell_type": "markdown",
   "source": [
    "Calculates accuracy by removing different symptoms, checks if accuracy is higher or lower depending on which symptom is removed"
   ],
   "metadata": {
    "collapsed": false
   }
  },
  {
   "cell_type": "code",
   "execution_count": 15,
   "outputs": [
    {
     "name": "stdout",
     "output_type": "stream",
     "text": [
      "[   (   (   \"DecisionTreeClassifier(criterion='entropy', min_samples_split=5)\",\n",
      "            \"['Systemic_Illness', 'Rectal_Pain', 'Sore_Throat', \"\n",
      "            \"'HIV_Infection', 'STI']\"),\n",
      "        68.8),\n",
      "    (   (   'RandomForestClassifier()',\n",
      "            \"['Systemic_Illness', 'Rectal_Pain', 'Sore_Throat', \"\n",
      "            \"'HIV_Infection', 'STI']\"),\n",
      "        68.8),\n",
      "    (   (   \"DecisionTreeClassifier(criterion='entropy', min_samples_split=5)\",\n",
      "            \"['Systemic_Illness', 'Rectal_Pain', 'Sore_Throat', \"\n",
      "            \"'Solitary_Lesion', 'HIV_Infection', 'STI']\"),\n",
      "        68.768),\n",
      "    (   (   'RandomForestClassifier()',\n",
      "            \"['Systemic_Illness', 'Rectal_Pain', 'Sore_Throat', \"\n",
      "            \"'Solitary_Lesion', 'HIV_Infection', 'STI']\"),\n",
      "        68.768),\n",
      "    (   (   \"DecisionTreeClassifier(criterion='entropy', min_samples_split=5)\",\n",
      "            \"['Systemic_Illness', 'Rectal_Pain', 'Penile_Oedema', \"\n",
      "            \"'Solitary_Lesion', 'HIV_Infection', 'STI']\"),\n",
      "        68.768)]\n"
     ]
    }
   ],
   "source": [
    "temp_dict = utils.create_feature_accuracy_dict(data_x, target)\n",
    "top_items = sorted(temp_dict.items(), key = lambda x: x[1], reverse=True)[:5]\n",
    "pp.pprint(top_items)"
   ],
   "metadata": {
    "collapsed": false
   }
  },
  {
   "cell_type": "markdown",
   "source": [
    "Tries to detect overfitting by plotting the test and train data"
   ],
   "metadata": {
    "collapsed": false
   }
  },
  {
   "cell_type": "code",
   "execution_count": 16,
   "outputs": [],
   "source": [
    "utils.check_over_fitting(data_x, target)"
   ],
   "metadata": {
    "collapsed": false
   }
  },
  {
   "cell_type": "markdown",
   "source": [
    "Builds Neural Network. Neural Network contains three hidden layers."
   ],
   "metadata": {
    "collapsed": false
   }
  },
  {
   "cell_type": "code",
   "execution_count": 17,
   "outputs": [
    {
     "name": "stderr",
     "output_type": "stream",
     "text": [
      "2023-01-01 19:01:19.652351: W tensorflow/compiler/xla/stream_executor/platform/default/dso_loader.cc:64] Could not load dynamic library 'libcuda.so.1'; dlerror: libcuda.so.1: cannot open shared object file: No such file or directory\n",
      "2023-01-01 19:01:19.652609: W tensorflow/compiler/xla/stream_executor/cuda/cuda_driver.cc:265] failed call to cuInit: UNKNOWN ERROR (303)\n",
      "2023-01-01 19:01:19.652632: I tensorflow/compiler/xla/stream_executor/cuda/cuda_diagnostics.cc:156] kernel driver does not appear to be running on this host (linus-ThinkPad-E590): /proc/driver/nvidia/version does not exist\n",
      "2023-01-01 19:01:19.653072: I tensorflow/core/platform/cpu_feature_guard.cc:193] This TensorFlow binary is optimized with oneAPI Deep Neural Network Library (oneDNN) to use the following CPU instructions in performance-critical operations:  AVX2 FMA\n",
      "To enable them in other operations, rebuild TensorFlow with the appropriate compiler flags.\n"
     ]
    },
    {
     "name": "stdout",
     "output_type": "stream",
     "text": [
      "586/586 [==============================] - 1s 1ms/step - loss: 0.1967 - accuracy: 0.7008\n",
      "loss: 0.20\n",
      "accuracy: 0.70\n",
      "196/196 [==============================] - 0s 1ms/step - loss: 0.2090 - accuracy: 0.6824\n",
      "loss: 0.21\n",
      "accuracy: 0.68\n",
      "Model: \"sequential\"\n",
      "_________________________________________________________________\n",
      " Layer (type)                Output Shape              Param #   \n",
      "=================================================================\n",
      " input (Dense)               (None, 12)                120       \n",
      "                                                                 \n",
      " layer1 (Dense)              (None, 20)                260       \n",
      "                                                                 \n",
      " layer2 (Dense)              (None, 30)                630       \n",
      "                                                                 \n",
      " layer3 (Dense)              (None, 30)                930       \n",
      "                                                                 \n",
      " output (Dense)              (None, 1)                 31        \n",
      "                                                                 \n",
      "=================================================================\n",
      "Total params: 1,971\n",
      "Trainable params: 1,971\n",
      "Non-trainable params: 0\n",
      "_________________________________________________________________\n"
     ]
    }
   ],
   "source": [
    "model = Sequential()\n",
    "\n",
    "data_x, target = utils.prepare_for_tensor(data_x, target)\n",
    "\n",
    "# first layer with 12 input-nodes (Dense = connect with all following nodes)\n",
    "model.add(Dense(12, input_dim=data_x.shape[1], activation='relu', name='input'))\n",
    "\n",
    "# 20 hidden nodes in the second layer\n",
    "model.add(Dense(20, activation='relu', name='layer1'))\n",
    "\n",
    "model.add(Dense(30, activation='relu', name='layer2'))\n",
    "\n",
    "model.add(Dense(30, activation='sigmoid', name='layer3'))\n",
    "\n",
    "model.add(Dense(1, activation='sigmoid', name='output'))\n",
    "\n",
    "model.compile(optimizer='adam', loss='mse', metrics=['accuracy'])\n",
    "\n",
    "x_train, x_test, y_train, y_test = train_test_split(data_x, target)\n",
    "\n",
    "hist = model.fit(x_train, y_train, epochs=100, batch_size=16, verbose=0, validation_data=(x_test, y_test))\n",
    "\n",
    "solution = model.evaluate(x_train, y_train)\n",
    "\n",
    "print(\"{}: {:.2f}\\n{}: {:.2f}\".format(model.metrics_names[0], solution[0],\n",
    "                                      model.metrics_names[1], solution[1]))\n",
    "\n",
    "solution = model.evaluate(x_test, y_test)\n",
    "print(\"{}: {:.2f}\\n{}: {:.2f}\".format(model.metrics_names[0], solution[0],\n",
    "                                      model.metrics_names[1], solution[1]))\n",
    "\n",
    "y_predict = model.predict(data_x, batch_size=16, verbose=0 / 1 / 2, steps=100)\n",
    "\n",
    "model.summary()\n",
    "\n",
    "evaluation = pd.DataFrame.from_dict(hist.history)  # History Daten vom Typ dict in DataFrame umwandeln\n",
    "fig = plt.figure(figsize=(20, 8), num='Neural Network')\n",
    "img1 = fig.add_subplot(121)\n",
    "img1.plot(evaluation.index, evaluation.iloc[:, 0], color='blue', label='Train-data')\n",
    "img1.plot(evaluation.index, evaluation.iloc[:, 2], color='red', label='Validation-data')\n",
    "img1.legend()\n",
    "img1.set_xlabel('epoch')\n",
    "img1.set_ylabel(model.metrics_names[0])\n",
    "img1.set_title('Neural Network learns: Loss-curve')\n",
    "img2 = fig.add_subplot(122)\n",
    "img2.plot(evaluation.index, evaluation.iloc[:, 1], color='blue', label='Train-data')\n",
    "img2.plot(evaluation.index, evaluation.iloc[:, 3], color='red', label='Validation-data')\n",
    "img2.legend()\n",
    "img2.set_xlabel('epoch')\n",
    "img2.set_ylabel(model.metrics_names[1])\n",
    "img2.set_title('Neural Network learns - accuracy curve')\n",
    "plt.show()"
   ],
   "metadata": {
    "collapsed": false
   }
  }
 ],
 "metadata": {
  "kernelspec": {
   "display_name": "Python 3",
   "language": "python",
   "name": "python3"
  },
  "language_info": {
   "codemirror_mode": {
    "name": "ipython",
    "version": 2
   },
   "file_extension": ".py",
   "mimetype": "text/x-python",
   "name": "python",
   "nbconvert_exporter": "python",
   "pygments_lexer": "ipython2",
   "version": "2.7.6"
  }
 },
 "nbformat": 4,
 "nbformat_minor": 0
}
